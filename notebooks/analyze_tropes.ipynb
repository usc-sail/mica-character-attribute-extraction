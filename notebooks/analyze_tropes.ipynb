{
 "cells": [
  {
   "cell_type": "code",
   "execution_count": 2,
   "metadata": {},
   "outputs": [],
   "source": [
    "import json\n",
    "import os\n",
    "\n",
    "data_dir = os.path.join(os.getenv(\"DATA_DIR\"), \"mica_narrative_understanding/tropes\")\n",
    "proj_dir = os.path.join(os.getenv(\"PROJ_DIR\"), \"narrative_understanding\")"
   ]
  },
  {
   "cell_type": "code",
   "execution_count": 4,
   "metadata": {},
   "outputs": [],
   "source": [
    "train_file = os.path.join(data_dir, \"train_all_examples_only_pairs.json\")\n",
    "test_file = os.path.join(data_dir, \"test_all_examples_only_pairs.json\")"
   ]
  },
  {
   "cell_type": "code",
   "execution_count": 7,
   "metadata": {},
   "outputs": [],
   "source": [
    "# with open(train_file, encoding=\"utf-8\") as fr:\n",
    "#     train_data = json.load(fr)\n",
    "with open(test_file, encoding=\"utf-8\") as fr:\n",
    "    test_data = json.load(fr)"
   ]
  },
  {
   "cell_type": "code",
   "execution_count": 8,
   "metadata": {},
   "outputs": [
    {
     "data": {
      "text/plain": [
       "list"
      ]
     },
     "execution_count": 8,
     "metadata": {},
     "output_type": "execute_result"
    }
   ],
   "source": [
    "type(test_data)"
   ]
  },
  {
   "cell_type": "code",
   "execution_count": 9,
   "metadata": {},
   "outputs": [
    {
     "data": {
      "text/plain": [
       "75354"
      ]
     },
     "execution_count": 9,
     "metadata": {},
     "output_type": "execute_result"
    }
   ],
   "source": [
    "len(test_data)"
   ]
  },
  {
   "cell_type": "code",
   "execution_count": 10,
   "metadata": {},
   "outputs": [
    {
     "data": {
      "text/plain": [
       "{'title': 'In Lord of the Rings, it is made clear that Sauron is not well-loved even by his own minions. His Nazgul are directly enslaved to his will and don\\'t have much choice in the matter, but beyond that, he controls endless swarms of Orcs and Trolls. From what little we hear from them, they aren\\'t at all content with their lot, and if they weren\\'t completely terrified of their master, they would probably be much happier looting and pillaging for themselves. Mordor is apparently designed to keep all of Sauron\\'s slaves in just as much as it is to keep everyone else out. Tolkien once said Sauron had many slaves, but no servants, implying no one would have served Sauron willingly. The so-called \"Mouth of Sauron\" seemed to be in it willingly, being rumored in-universe to have been one of the \"Black Numenoreans\" who sought Sauron\\'s power, though that makes only one from Mordor explicitly stated to like what he was doing.',\n",
       " 'text': \"In A Song of Ice and Fire, Stannis Baratheon more or less admits that he would be a king of this type if he manages to win the throne in the current civil war. The populace would hate his guts because he's a stern, taciturn Knight Templar, the nobility would hate him because of his complete unwillingness to budge on so much as what appetizers to serve at dinner, and his own supporters and bannermen would hate him because he would treat them just as harshly as he would his own enemies. The only reason he even wants the throne stems from the reason he would be so bad at it: as his elder brother's heir following the former king's illegitimate children, he sees the throne as legally his, despite the fact that almost no one, including himself, actually wants him to hold it. His most fervent supporter, Davos Seaworth, the Onion Knight, was previously a smuggler/pirate who sneaked onions and other foodstuffs onto Stannis' besieged island fortress during the previous rebellion. In recognition for his gallantry and heroism, Stannis knighted him. And as punishment for his smuggling activities, he ordered the last joint of the fingers from one hand removed. He let Ser Davos choose which hand. Needless to say, loyalty like the Onion Knight's is very much the exception in Lord Stannis' court. The Lannisters seem to be moving closer and closer to this as the series goes on. In the fifth book, even random nobles on another continent spit at the sound of their family name. Even more so Cersei Lannister in particular, who managed to surprise even Magnificent Bastard Petyr Baelish with how fast she managed to alienate everyone and turn her control of the kingdoms into a disaster.\",\n",
       " 'similar': 1}"
      ]
     },
     "execution_count": 10,
     "metadata": {},
     "output_type": "execute_result"
    }
   ],
   "source": [
    "test_data[0]"
   ]
  },
  {
   "cell_type": "code",
   "execution_count": 11,
   "metadata": {},
   "outputs": [
    {
     "data": {
      "text/plain": [
       "{'title': 'In Lord of the Rings, it is made clear that Sauron is not well-loved even by his own minions. His Nazgul are directly enslaved to his will and don\\'t have much choice in the matter, but beyond that, he controls endless swarms of Orcs and Trolls. From what little we hear from them, they aren\\'t at all content with their lot, and if they weren\\'t completely terrified of their master, they would probably be much happier looting and pillaging for themselves. Mordor is apparently designed to keep all of Sauron\\'s slaves in just as much as it is to keep everyone else out. Tolkien once said Sauron had many slaves, but no servants, implying no one would have served Sauron willingly. The so-called \"Mouth of Sauron\" seemed to be in it willingly, being rumored in-universe to have been one of the \"Black Numenoreans\" who sought Sauron\\'s power, though that makes only one from Mordor explicitly stated to like what he was doing.',\n",
       " 'text': 'Cyrano De Bergerac: Count De Guiche is not an Overlord, but he is the colonel of the cadets. All the cadets hate his guts because he is a rational gascon. He has a Cool Crowd of hangers-on nobles who bow to his every whim. The marquises lampshade that they distrust De Guiche because he’s a Gascon and only want to leech him out. De Guiche tries to bully Roxane to be his mistress. She will have none of it. Even Ligniere, a poet, dares to write a satiric song about it. Until the last part of Act IV, nobody likes De Guiche.',\n",
       " 'similar': 1}"
      ]
     },
     "execution_count": 11,
     "metadata": {},
     "output_type": "execute_result"
    }
   ],
   "source": [
    "test_data[1]"
   ]
  },
  {
   "cell_type": "code",
   "execution_count": 2,
   "metadata": {},
   "outputs": [],
   "source": [
    "url_to_title_file = os.path.join(data_dir, \"tropes_url_to_title.json\")\n",
    "with open(url_to_title_file, \"r\") as fr:\n",
    "    url_to_title = json.load(fr)"
   ]
  },
  {
   "cell_type": "code",
   "execution_count": 3,
   "metadata": {},
   "outputs": [
    {
     "data": {
      "text/plain": [
       "21585"
      ]
     },
     "execution_count": 3,
     "metadata": {},
     "output_type": "execute_result"
    }
   ],
   "source": [
    "len(url_to_title)"
   ]
  },
  {
   "cell_type": "code",
   "execution_count": 3,
   "metadata": {},
   "outputs": [],
   "source": [
    "files = [os.path.join(proj_dir, f\"similar_movie_characters/prepare_dataset/{n}_tropes_url_to_tropes.json\") \n",
    "         for n in [2000, 4000, 6000]]\n",
    "for file in files:\n",
    "    with open(file, \"r\") as fr:\n",
    "        data = json.load(fr)\n",
    "    for url, tropes in data.items():\n",
    "        if tropes:\n",
    "            print(url)"
   ]
  },
  {
   "cell_type": "code",
   "execution_count": null,
   "metadata": {},
   "outputs": [],
   "source": []
  }
 ],
 "metadata": {
  "kernelspec": {
   "display_name": "story",
   "language": "python",
   "name": "python3"
  },
  "language_info": {
   "codemirror_mode": {
    "name": "ipython",
    "version": 3
   },
   "file_extension": ".py",
   "mimetype": "text/x-python",
   "name": "python",
   "nbconvert_exporter": "python",
   "pygments_lexer": "ipython3",
   "version": "3.10.9"
  },
  "orig_nbformat": 4,
  "vscode": {
   "interpreter": {
    "hash": "f8bce503439c6eaa153a35595c325f41107670a7162bb504f0fb0483c0a10a87"
   }
  }
 },
 "nbformat": 4,
 "nbformat_minor": 2
}
