{
 "cells": [
  {
   "cell_type": "markdown",
   "metadata": {},
   "source": [
    "## Import Modules"
   ]
  },
  {
   "cell_type": "code",
   "execution_count": 1,
   "metadata": {},
   "outputs": [],
   "source": [
    "import os\n",
    "import re\n",
    "import collections\n",
    "import pandas as pd\n",
    "import matplotlib.pyplot as plt\n",
    "import numpy as np\n",
    "import random\n",
    "import torch\n",
    "import heapq\n",
    "import sortedcontainers\n",
    "\n",
    "from sentence_transformers import SentenceTransformer\n",
    "from sklearn.cluster import AgglomerativeClustering\n",
    "from sklearn.metrics import silhouette_score"
   ]
  },
  {
   "cell_type": "markdown",
   "metadata": {},
   "source": [
    "## Directories, Files, Embedder"
   ]
  },
  {
   "cell_type": "code",
   "execution_count": 2,
   "metadata": {},
   "outputs": [
    {
     "name": "stdout",
     "output_type": "stream",
     "text": [
      "/proj/sbaruah/data\n"
     ]
    }
   ],
   "source": [
    "embedder = SentenceTransformer('all-MiniLM-L6-v2')\n",
    "data_dir = os.getenv(\"DATA_DIR\")\n",
    "print(data_dir)"
   ]
  },
  {
   "cell_type": "markdown",
   "metadata": {},
   "source": [
    "## Attribute-Types"
   ]
  },
  {
   "cell_type": "code",
   "execution_count": 3,
   "metadata": {},
   "outputs": [
    {
     "name": "stdout",
     "output_type": "stream",
     "text": [
      "14383 attributes\n",
      "3232 unique attribute-types\n",
      "\n",
      "top-10 attribute-types =>\n",
      " 1. action                         2660/14383 18.49% 18.49%\n",
      " 2. behavior                        618/14383  4.30% 22.79%\n",
      " 3. activity                        480/14383  3.34% 26.13%\n",
      " 4. location                        390/14383  2.71% 28.84%\n",
      " 5. emotion                         337/14383  2.34% 31.18%\n",
      " 6. state                           274/14383  1.91% 33.09%\n",
      " 7. position                        219/14383  1.52% 34.61%\n",
      " 8. appearance                      190/14383  1.32% 35.93%\n",
      " 9. demeanor                        146/14383  1.02% 36.95%\n",
      "10. emotional state                 146/14383  1.02% 37.96%\n",
      "\n",
      "866 attribute-types occurred atleast 2 times\n",
      "506 attribute-types occurred atleast 3 times\n",
      "359 attribute-types occurred atleast 4 times\n",
      "283 attribute-types occurred atleast 5 times\n",
      "229 attribute-types occurred atleast 6 times\n",
      "193 attribute-types occurred atleast 7 times\n",
      "170 attribute-types occurred atleast 8 times\n",
      "150 attribute-types occurred atleast 9 times\n",
      "142 attribute-types occurred atleast 10 times\n"
     ]
    }
   ],
   "source": [
    "attributes_file = os.path.join(data_dir, \"mica-character-attribute-extraction/passage-attributes.csv\")\n",
    "attributes_df = pd.read_csv(attributes_file, index_col=None)\n",
    "attribute_pattern = re.compile(r\"\\d+\\.\\s+\\(([^,]+),([^,]+),([^,\\)]+)\\)\")\n",
    "attributes = []\n",
    "\n",
    "for _, row in attributes_df.iterrows():\n",
    "    text = row[\"attributes\"]\n",
    "    for i, match in enumerate(re.finditer(attribute_pattern, text)):\n",
    "        character, attribute_type, attribute_value = (match.group(1).strip(), match.group(2).strip().lower(), \n",
    "                                                      match.group(3).strip().lower())\n",
    "        attribute_type = re.sub(r\"^((attribute)|(trait))\\-type\\:\\s+\", \"\", attribute_type).strip('\"').strip()\n",
    "        if attribute_type:\n",
    "            attributes.append((attribute_type, attribute_value))\n",
    "\n",
    "all_attribute_types = [at for at, _ in attributes]\n",
    "attribute_types = sorted(set(all_attribute_types))\n",
    "attribute_type_distribution = sorted(collections.Counter(all_attribute_types).items(), key=lambda item: item[1], \n",
    "                                     reverse=True)\n",
    "attribute_type_distribution_dict = dict(attribute_type_distribution)\n",
    "print(f\"{len(attributes)} attributes\")\n",
    "print(f\"{len(attribute_type_distribution)} unique attribute-types\")\n",
    "print()\n",
    "\n",
    "print(f\"top-10 attribute-types =>\")\n",
    "cumulative_per = 0\n",
    "for i, (at, count) in enumerate(attribute_type_distribution[:10]):\n",
    "    per = 100 * count / len(attributes)\n",
    "    cumulative_per += per\n",
    "    print(f\"{i + 1:2d}. {at:30s} {count:4d}/{len(attributes)} {per:5.2f}% {cumulative_per:5.2f}%\")\n",
    "print()\n",
    "\n",
    "for n in range(2, 11):\n",
    "    count = sum(1 for _, count in attribute_type_distribution if count >= n)\n",
    "    print(f\"{count:3d} attribute-types occurred atleast {n} times\")\n",
    "\n",
    "attribute_type_distribution_file = os.path.join(data_dir, \n",
    "                                                \"mica-character-attribute-extraction/attribute-type-distribution.txt\")\n",
    "with open(attribute_type_distribution_file, \"w\") as fw:\n",
    "    for at in attribute_types:\n",
    "        count = attribute_type_distribution_dict[at]\n",
    "        fw.write(f\"{at:30s}\\t\\t{count}\\n\")"
   ]
  },
  {
   "cell_type": "markdown",
   "metadata": {},
   "source": [
    "## Encode attribute-types"
   ]
  },
  {
   "cell_type": "code",
   "execution_count": 4,
   "metadata": {},
   "outputs": [
    {
     "name": "stdout",
     "output_type": "stream",
     "text": [
      "866 keywords\n"
     ]
    }
   ],
   "source": [
    "keywords = [at for at in attribute_types if attribute_type_distribution_dict[at] > 1]\n",
    "print(f\"{len(keywords)} keywords\")"
   ]
  },
  {
   "cell_type": "code",
   "execution_count": 5,
   "metadata": {},
   "outputs": [
    {
     "name": "stdout",
     "output_type": "stream",
     "text": [
      "distance [0.0000, 1.0000]\n",
      "similarity [0.0000, 1.0000]\n"
     ]
    }
   ],
   "source": [
    "# encode keywords\n",
    "keyword_embeddings = embedder.encode(keywords)\n",
    "keyword_embeddings = keyword_embeddings / np.linalg.norm(keyword_embeddings, axis=1, keepdims=True)\n",
    "\n",
    "# find similarity between keywords\n",
    "similarity = np.matmul(keyword_embeddings, keyword_embeddings.T)\n",
    "similarity = (similarity - similarity.min())/(similarity.max() - similarity.min())\n",
    "distance = 1 - similarity\n",
    "np.fill_diagonal(distance, 0)\n",
    "\n",
    "# print min, max\n",
    "print(f\"distance [{distance.min():.4f}, {distance.max():.4f}]\")\n",
    "print(f\"similarity [{similarity.min():.4f}, {similarity.max():.4f}]\")"
   ]
  },
  {
   "cell_type": "code",
   "execution_count": 6,
   "metadata": {},
   "outputs": [
    {
     "data": {
      "image/png": "[encoded data removed]",
      "text/plain": [
       "<Figure size 640x480 with 2 Axes>"
      ]
     },
     "metadata": {},
     "output_type": "display_data"
    }
   ],
   "source": [
    "_distance = np.triu(distance + 1e-23, k=1)\n",
    "distance_values = _distance[_distance > 0]\n",
    "_similarity = np.triu(similarity + 1e-23, k=1)\n",
    "similarity_values = _similarity[_similarity > 0]\n",
    "\n",
    "plt.subplot(1, 2, 1)\n",
    "plt.hist(distance_values, bins=10, density=True)\n",
    "plt.xlabel(\"distance\")\n",
    "\n",
    "plt.subplot(1, 2, 2)\n",
    "plt.hist(similarity_values, bins=10, density=True)\n",
    "plt.xlabel(\"similarity\")\n",
    "\n",
    "plt.show()"
   ]
  },
  {
   "cell_type": "markdown",
   "metadata": {},
   "source": [
    "## Clustering"
   ]
  },
  {
   "cell_type": "code",
   "execution_count": 7,
   "metadata": {},
   "outputs": [
    {
     "name": "stdout",
     "output_type": "stream",
     "text": [
      "threshold = 0.1, 797 clusters, 733 singleton-clusters, silhouette-score =  0.1190, silhouette-score-w/o-singletons =  0.8391\n",
      "threshold = 0.2, 734 clusters, 629 singleton-clusters, silhouette-score =  0.1652, silhouette-score-w/o-singletons =  0.6747\n",
      "threshold = 0.3, 617 clusters, 463 singleton-clusters, silhouette-score =  0.1977, silhouette-score-w/o-singletons =  0.4955\n",
      "threshold = 0.4, 455 clusters, 275 singleton-clusters, silhouette-score =  0.2198, silhouette-score-w/o-singletons =  0.3640\n",
      "threshold = 0.5, 306 clusters, 113 singleton-clusters, silhouette-score =  0.2238, silhouette-score-w/o-singletons =  0.2771\n",
      "threshold = 0.6, 167 clusters,  34 singleton-clusters, silhouette-score =  0.1763, silhouette-score-w/o-singletons =  0.1915\n",
      "threshold = 0.7,  62 clusters,  10 singleton-clusters, silhouette-score =  0.0766, silhouette-score-w/o-singletons =  0.0853\n",
      "threshold = 0.8,  13 clusters,   4 singleton-clusters, silhouette-score = -0.0102, silhouette-score-w/o-singletons =  0.0029\n",
      "threshold = 0.9,   3 clusters,   1 singleton-clusters, silhouette-score =  0.1318, silhouette-score-w/o-singletons =  0.1431\n"
     ]
    }
   ],
   "source": [
    "for threshold in [0.1, 0.2, 0.3, 0.4, 0.5, 0.6, 0.7, 0.8, 0.9]:\n",
    "    cluster_model = AgglomerativeClustering(metric=\"cosine\", linkage=\"average\", distance_threshold=threshold, \n",
    "                                            n_clusters=None)\n",
    "        ter_model.fit(keyword_embeddings)\n",
    "\n",
    "    clusters_dict = collections.defaultdict(set)\n",
    "    for i, cluster_label in enumerate(cluster_model.labels_):\n",
    "        clusters_dict[cluster_label].add(i)\n",
    "    clusters = list(clusters_dict.values())\n",
    "    clusters = sorted(clusters, key=lambda cluster: len(cluster), reverse=True)\n",
    "\n",
    "    score = silhouette_score(keyword_embeddings, cluster_model.labels_, metric=\"cosine\")\n",
    "\n",
    "    n_singletons = sum(len(cluster) == 1 for cluster in clusters)\n",
    "    items_in_singletons = [cluster.pop() for cluster in clusters if len(cluster) == 1]\n",
    "    clustered_items = [i for i in range(len(keywords)) if i not in items_in_singletons]\n",
    "    _embeddings = keyword_embeddings[clustered_items]\n",
    "    _labels = [label for i, label in enumerate(cluster_model.labels_) if i in clustered_items]\n",
    "    score_without_singletons = silhouette_score(_embeddings, _labels, metric=\"cosine\")\n",
    "\n",
    "    print(f\"threshold = {threshold}, {len(clusters):3d} clusters, {n_singletons:3d} singleton-clusters, \"\n",
    "          f\"silhouette-score = {score:7.4f}, silhouette-score-w/o-singletons = {score_without_singletons:7.4f}\")\n",
    "    # print()\n",
    "\n",
    "    # clusters_file = os.path.join(data_dir, \n",
    "    #                              f\"mica-character-attribute-extraction/attribute-type-clusters-{threshold}.txt\")\n",
    "    # with open(clusters_file, \"w\") as fw:\n",
    "    #     fw.write(f\"clusters farther than threshold distance apart are not merged\\n\")\n",
    "    #     fw.write(f\"threshold = {threshold}\\n\\n\")\n",
    "    #     fw.write(f\"{len(clusters)} clusters\\n\")\n",
    "    #     for n in range(2, 6):\n",
    "    #         count = sum(len(cluster) >= n for cluster in clusters)\n",
    "    #         fw.write(f\"{count} clusters have atleast {n} elements\\n\")\n",
    "    #     fw.write(\"\\n\\n======================================================\\n\\n\")\n",
    "    #     for i, cluster in enumerate(clusters):\n",
    "    #         fw.write(f\"Cluster {i + 1}/{len(clusters)}, n = {len(cluster)}\\n\")\n",
    "    #         cluster_elements = sorted(cluster, key=lambda i: attribute_type_distribution_dict[attribute_types[i]], \n",
    "    #                                   reverse=True)\n",
    "    #         for i in cluster_elements:\n",
    "    #             element = attribute_types[i]\n",
    "    #             count = attribute_type_distribution_dict[element]\n",
    "    #             sign = \"**\" if count >= 10 else \"*\" if count > 1 else \"\"\n",
    "    #             fw.write(f\"\\t{sign:3s} {element}\\n\")\n",
    "    #         fw.write(\"\\n\")"
   ]
  },
  {
   "cell_type": "markdown",
   "metadata": {},
   "source": [
    "## Cluster Representative"
   ]
  },
  {
   "cell_type": "code",
   "execution_count": 8,
   "metadata": {},
   "outputs": [
    {
     "name": "stdout",
     "output_type": "stream",
     "text": [
      "threshold = 0.5, 306 clusters\n"
     ]
    }
   ],
   "source": [
    "threshold = 0.5\n",
    "cluster_model = AgglomerativeClustering(metric=\"cosine\", linkage=\"average\", distance_threshold=threshold, \n",
    "                                        n_clusters=None)\n",
    "cluster_model.fit(keyword_embeddings)\n",
    "\n",
    "clusters_dict = collections.defaultdict(set)\n",
    "for i, cluster_label in enumerate(cluster_model.labels_):\n",
    "    clusters_dict[cluster_label].add(i)\n",
    "clusters = list(clusters_dict.values())\n",
    "clusters = sorted(clusters, key=lambda cluster: len(cluster), reverse=True)\n",
    "\n",
    "clusters = [sorted(cluster, key=lambda i: attribute_type_distribution_dict[keywords[i]], reverse=True)\n",
    "            for cluster in clusters]\n",
    "print(f\"threshold = {threshold}, {len(clusters)} clusters\")"
   ]
  },
  {
   "cell_type": "code",
   "execution_count": 9,
   "metadata": {},
   "outputs": [],
   "source": [
    "def representative_keyword(cluster):\n",
    "    _distance = distance[cluster][:,cluster]\n",
    "    _distance_sum = _distance.sum(axis=1)\n",
    "    i = _distance_sum.argmin()\n",
    "    return cluster[i]\n",
    "\n",
    "n = 50\n",
    "representative_file = os.path.join(data_dir, \n",
    "                                   \"mica-character-attribute-extraction/attribute-cluster-representatives.txt\")\n",
    "\n",
    "with open(representative_file, \"w\") as fw:\n",
    "    for i, cluster in enumerate(clusters[:n]):\n",
    "        r = representative_keyword(cluster)\n",
    "        repr_str = keywords[r]\n",
    "        fw.write(f\"Cluster {i + 1}/{len(clusters)}, n = {len(cluster)}\\n\")\n",
    "        fw.write(f\"Representative = {repr_str}\\n\")\n",
    "        for j in cluster:\n",
    "            element = keywords[j]\n",
    "            count = attribute_type_distribution_dict[element]\n",
    "            sign = \"**\" if count >= 10 else \"*\" if count > 1 else \"\"\n",
    "            fw.write(f\"\\t{sign:3s} {element}\\n\")\n",
    "        fw.write(\"\\n\")"
   ]
  },
  {
   "cell_type": "markdown",
   "metadata": {},
   "source": [
    "## Cluster Representatives"
   ]
  },
  {
   "cell_type": "code",
   "execution_count": 11,
   "metadata": {},
   "outputs": [],
   "source": [
    "r_arr = [representative_keyword(cluster) for cluster in clusters]\n",
    "repr_embeddings = keyword_embeddings[r_arr]\n",
    "repr_keywords = [keywords[i] for i in r_arr]"
   ]
  },
  {
   "cell_type": "code",
   "execution_count": 18,
   "metadata": {},
   "outputs": [
    {
     "name": "stdout",
     "output_type": "stream",
     "text": [
      "223 clusters\n"
     ]
    }
   ],
   "source": [
    "threshold = 0.5\n",
    "cluster_model = AgglomerativeClustering(n_clusters=None, metric=\"cosine\", linkage=\"average\", \n",
    "                                        distance_threshold=threshold)\n",
    "cluster_model.fit(repr_embeddings)\n",
    "\n",
    "clusters_dict = collections.defaultdict(set)\n",
    "for i, cluster_label in enumerate(cluster_model.labels_):\n",
    "    clusters_dict[cluster_label].add(i)\n",
    "clusters = list(clusters_dict.values())\n",
    "clusters = sorted(clusters, key=lambda cluster: len(cluster), reverse=True)\n",
    "print(f\"{len(clusters)} clusters\")"
   ]
  },
  {
   "cell_type": "code",
   "execution_count": 20,
   "metadata": {},
   "outputs": [],
   "source": [
    "repr_clusters_file = os.path.join(data_dir, \n",
    "                                  f\"mica-character-attribute-extraction/attribute-type-repr-clusters-{threshold}.txt\")\n",
    "with open(repr_clusters_file, \"w\") as fw:\n",
    "    for i, cluster in enumerate(clusters):\n",
    "        fw.write(f\"Cluster {i + 1}/{len(clusters)}, n = {len(cluster)}\\n\")\n",
    "        cluster_elements = sorted(cluster, key=lambda i: attribute_type_distribution_dict[repr_keywords[i]], \n",
    "                                    reverse=True)\n",
    "        for i in cluster_elements:\n",
    "            element = repr_keywords[i]\n",
    "            count = attribute_type_distribution_dict[element]\n",
    "            sign = \"**\" if count >= 10 else \"*\" if count > 1 else \"\"\n",
    "            fw.write(f\"\\t{sign:3s} {element}\\n\")\n",
    "        fw.write(\"\\n\")"
   ]
  },
  {
   "cell_type": "markdown",
   "metadata": {},
   "source": [
    "## Sample for Self-Annotation"
   ]
  },
  {
   "cell_type": "code",
   "execution_count": 14,
   "metadata": {},
   "outputs": [
    {
     "name": "stdout",
     "output_type": "stream",
     "text": [
      "(2000, 6)\n",
      "Index(['story-id', 'passage-id', 'passage', 'characters', 'attributes',\n",
      "       'completions'],\n",
      "      dtype='object')\n"
     ]
    }
   ],
   "source": [
    "passage_file = os.path.join(data_dir, \"mica-character-attribute-extraction/passage-attributes.csv\")\n",
    "passage_df = pd.read_csv(passage_file, index_col=None)\n",
    "print(passage_df.shape)\n",
    "print(passage_df.columns)"
   ]
  },
  {
   "cell_type": "code",
   "execution_count": 21,
   "metadata": {},
   "outputs": [],
   "source": [
    "books_df = passage_df.loc[passage_df[\"story-id\"].str.match(\"\\d+$\")].sample(50, random_state=99)\n",
    "scripts_df = passage_df.loc[~passage_df[\"story-id\"].str.match(\"\\d+$\")].sample(50, random_state=99)\n",
    "self_df = pd.concat([books_df, scripts_df])\n",
    "self_df = self_df.sample(frac=1)\n",
    "\n",
    "self_file = os.path.join(data_dir, \"mica-character-attribute-extraction/self-annotation-exercise.txt\")\n",
    "with open(self_file, \"w\") as fw:\n",
    "    for _, row in self_df.iterrows():\n",
    "        passage = row[\"passage\"]\n",
    "        attributes = \"\\t\" + row[\"attributes\"].replace(\"\\n\", \"\\n\\t\")\n",
    "        fw.write(f\"{passage}\\n\\nllm-labels\\n{attributes}\\n\\nself-labels\\n\\n\")\n",
    "        fw.write(\"================================================================================================\\n\\n\")"
   ]
  },
  {
   "cell_type": "code",
   "execution_count": 17,
   "metadata": {},
   "outputs": [],
   "source": [
    "def cluster_str(cluster, keywords, truncate = None, include_count = False) -> str:\n",
    "    parent = keywords[cluster.parent]\n",
    "    items = [keywords[i] for i in cluster.items if i != cluster.parent]\n",
    "    if len(cluster) == 1:\n",
    "        return f\"{{{parent}}}\"\n",
    "    elif truncate is None:\n",
    "        items_str = \", \".join(items)\n",
    "    else:\n",
    "        items_str = \", \".join(items[:truncate])\n",
    "    if include_count:\n",
    "        desc = f\"{{[{parent}] {items_str} <n={len(cluster)}>}}\"\n",
    "    else:\n",
    "        desc = f\"{{[{parent}] {items_str}}}\"\n",
    "    return desc\n",
    "\n",
    "class Cluster:\n",
    "\n",
    "    items_str = None\n",
    "\n",
    "    def __init__(self, items, parent) -> None:\n",
    "        self.items = items\n",
    "        self.parent = parent\n",
    "    \n",
    "    def __eq__(self, cluster: \"Cluster\") -> bool:\n",
    "        return self.items == cluster.items\n",
    "\n",
    "    def __len__(self) -> int:\n",
    "        return len(self.items)\n",
    "\n",
    "    def __repr__(self) -> str:\n",
    "        if len(self) > 10:\n",
    "            return cluster_str(self, self.items_str, truncate=10, include_count=True)\n",
    "        else:\n",
    "            return cluster_str(self, self.items_str)\n",
    "\n",
    "class ClusterPair:\n",
    "\n",
    "    def __init__(self, cluster_a, cluster_b, distance) -> None:\n",
    "        self.cluster_a = cluster_a\n",
    "        self.cluster_b = cluster_b\n",
    "        self.distance = distance\n",
    "    \n",
    "    def __lt__(self, pair: \"ClusterPair\") -> bool:\n",
    "        return self.distance < pair.distance\n",
    "\n",
    "    def __repr__(self) -> str:\n",
    "        return f\"({self.cluster_a}, {self.cluster_b}, {self.distance:.4f})\"\n",
    "\n",
    "def find_representative(items, distance) -> int:\n",
    "    item_distance = distance[items][:,items]\n",
    "    item_score = item_distance.sum(axis=1)\n",
    "    i = item_score.argmax()\n",
    "    return items[i]\n",
    "\n",
    "def merge_clusters(cluster_a, cluster_b, distance) -> Cluster:\n",
    "    merged_items = cluster_a.items + cluster_b.items\n",
    "    parent = find_representative(merged_items, distance)\n",
    "    merged_cluster = Cluster(merged_items, parent)\n",
    "    return merged_cluster"
   ]
  },
  {
   "cell_type": "code",
   "execution_count": 5,
   "metadata": {},
   "outputs": [],
   "source": [
    "verbose = True"
   ]
  },
  {
   "cell_type": "code",
   "execution_count": 22,
   "metadata": {},
   "outputs": [],
   "source": [
    "Cluster.items_str = keywords"
   ]
  },
  {
   "cell_type": "code",
   "execution_count": 20,
   "metadata": {},
   "outputs": [],
   "source": [
    "# initialize\n",
    "clusters = [Cluster([i], i) for i in range(len(keywords))]\n",
    "cluster_pairs = []\n",
    "for i in range(len(keywords) - 1):\n",
    "    for j in range(i + 1, len(keywords)):\n",
    "        cluster_pair = ClusterPair(clusters[i], clusters[j], distance[i, j])\n",
    "        cluster_pairs.append(cluster_pair)\n",
    "taxonomy = np.zeros((len(keywords), len(keywords)), dtype=int)"
   ]
  },
  {
   "cell_type": "code",
   "execution_count": 23,
   "metadata": {},
   "outputs": [
    {
     "name": "stdout",
     "output_type": "stream",
     "text": [
      "  1. ({leisure activity}, {leisure-activity}, 0.0090))\n",
      "  2. ({sensory action}, {sensory-action}, 0.0104))\n",
      "  3. ({financial planning}, {financial-planning}, 0.0105))\n",
      "  4. ({speech attribute}, {speech-attribute}, 0.0112))\n",
      "  5. ({marital status}, {marital-status}, 0.0113))\n",
      "  6. ({clothing condition}, {clothing-condition}, 0.0117))\n",
      "  7. ({physical limitation}, {physical-limitation}, 0.0123))\n",
      "  8. ({physiological response}, {physiological-response}, 0.0124))\n",
      "  9. ({financial status}, {financial-status}, 0.0125))\n",
      " 10. ({physical trait}, {physical-trait}, 0.0129))\n"
     ]
    }
   ],
   "source": [
    "n = 10\n",
    "cluster_pairs = sorted(cluster_pairs, key=lambda pair: pair.distance)\n",
    "for i, pair in enumerate(cluster_pairs[:n]):\n",
    "    print(f\"{i + 1:3d}. {pair})\")"
   ]
  },
  {
   "cell_type": "code",
   "execution_count": 24,
   "metadata": {},
   "outputs": [],
   "source": [
    "heapq.heapify(cluster_pairs)"
   ]
  },
  {
   "cell_type": "code",
   "execution_count": 25,
   "metadata": {},
   "outputs": [
    {
     "data": {
      "text/plain": [
       "({leisure activity}, {leisure-activity}, 0.0090)"
      ]
     },
     "execution_count": 25,
     "metadata": {},
     "output_type": "execute_result"
    }
   ],
   "source": [
    "cluster_pairs[0]"
   ]
  },
  {
   "cell_type": "code",
   "execution_count": 27,
   "metadata": {},
   "outputs": [],
   "source": [
    "pairs = sortedcontainers.SortedList()\n",
    "pairs.update(cluster_pairs)"
   ]
  },
  {
   "cell_type": "code",
   "execution_count": 30,
   "metadata": {},
   "outputs": [
    {
     "data": {
      "text/plain": [
       "({leisure activity}, {leisure-activity}, 0.0090)"
      ]
     },
     "execution_count": 30,
     "metadata": {},
     "output_type": "execute_result"
    }
   ],
   "source": [
    "pairs[0]"
   ]
  },
  {
   "cell_type": "code",
   "execution_count": 31,
   "metadata": {},
   "outputs": [
    {
     "data": {
      "text/plain": [
       "({leisure activity}, {leisure-activity}, 0.0090)"
      ]
     },
     "execution_count": 31,
     "metadata": {},
     "output_type": "execute_result"
    }
   ],
   "source": [
    "pair = pairs.pop(0)\n",
    "pair"
   ]
  },
  {
   "cell_type": "code",
   "execution_count": 77,
   "metadata": {},
   "outputs": [
    {
     "name": "stdout",
     "output_type": "stream",
     "text": [
      "merge >\n",
      "\t{leisure activity}\n",
      "\t{leisure-activity}\n",
      "merge >\n",
      "\t{sensory action}\n",
      "\t{sensory-action}\n",
      "merge >\n",
      "\t{financial planning}\n",
      "\t{financial-planning}\n",
      "merge >\n",
      "\t{speech attribute}\n",
      "\t{speech-attribute}\n"
     ]
    },
    {
     "ename": "KeyboardInterrupt",
     "evalue": "",
     "output_type": "error",
     "traceback": [
      "\u001b[0;31m---------------------------------------------------------------------------\u001b[0m",
      "\u001b[0;31mKeyboardInterrupt\u001b[0m                         Traceback (most recent call last)",
      "\u001b[1;32m/proj/sbaruah/mica-character-attribute-extraction/notebooks/clustering.ipynb Cell 14\u001b[0m line \u001b[0;36m2\n\u001b[1;32m     <a href='vscode-notebook-cell://ssh-remote%2Bavalon/proj/sbaruah/mica-character-attribute-extraction/notebooks/clustering.ipynb#X45sdnNjb2RlLXJlbW90ZQ%3D%3D?line=22'>23</a>\u001b[0m \u001b[39m# update existing cluster similarity pairs\u001b[39;00m\n\u001b[1;32m     <a href='vscode-notebook-cell://ssh-remote%2Bavalon/proj/sbaruah/mica-character-attribute-extraction/notebooks/clustering.ipynb#X45sdnNjb2RlLXJlbW90ZQ%3D%3D?line=23'>24</a>\u001b[0m \u001b[39mfor\u001b[39;00m pair \u001b[39min\u001b[39;00m cluster_similarity_pairs:\n\u001b[0;32m---> <a href='vscode-notebook-cell://ssh-remote%2Bavalon/proj/sbaruah/mica-character-attribute-extraction/notebooks/clustering.ipynb#X45sdnNjb2RlLXJlbW90ZQ%3D%3D?line=24'>25</a>\u001b[0m     \u001b[39mif\u001b[39;00m pair\u001b[39m.\u001b[39mcluster_a \u001b[39m==\u001b[39m cluster_a \u001b[39mor\u001b[39;00m pair\u001b[39m.\u001b[39;49mcluster_a \u001b[39m==\u001b[39;49m cluster_b:\n\u001b[1;32m     <a href='vscode-notebook-cell://ssh-remote%2Bavalon/proj/sbaruah/mica-character-attribute-extraction/notebooks/clustering.ipynb#X45sdnNjb2RlLXJlbW90ZQ%3D%3D?line=25'>26</a>\u001b[0m         pair\u001b[39m.\u001b[39mcluster_a \u001b[39m=\u001b[39m merged_cluster\n\u001b[1;32m     <a href='vscode-notebook-cell://ssh-remote%2Bavalon/proj/sbaruah/mica-character-attribute-extraction/notebooks/clustering.ipynb#X45sdnNjb2RlLXJlbW90ZQ%3D%3D?line=26'>27</a>\u001b[0m         pair\u001b[39m.\u001b[39msimilarity \u001b[39m=\u001b[39m similarity[pair\u001b[39m.\u001b[39mcluster_b\u001b[39m.\u001b[39mparent, merged_cluster\u001b[39m.\u001b[39mparent]\n",
      "\u001b[1;32m/proj/sbaruah/mica-character-attribute-extraction/notebooks/clustering.ipynb Cell 14\u001b[0m line \u001b[0;36m7\n\u001b[1;32m      <a href='vscode-notebook-cell://ssh-remote%2Bavalon/proj/sbaruah/mica-character-attribute-extraction/notebooks/clustering.ipynb#X45sdnNjb2RlLXJlbW90ZQ%3D%3D?line=3'>4</a>\u001b[0m     \u001b[39mself\u001b[39m\u001b[39m.\u001b[39mitems \u001b[39m=\u001b[39m items\n\u001b[1;32m      <a href='vscode-notebook-cell://ssh-remote%2Bavalon/proj/sbaruah/mica-character-attribute-extraction/notebooks/clustering.ipynb#X45sdnNjb2RlLXJlbW90ZQ%3D%3D?line=4'>5</a>\u001b[0m     \u001b[39mself\u001b[39m\u001b[39m.\u001b[39mparent \u001b[39m=\u001b[39m parent\n\u001b[0;32m----> <a href='vscode-notebook-cell://ssh-remote%2Bavalon/proj/sbaruah/mica-character-attribute-extraction/notebooks/clustering.ipynb#X45sdnNjb2RlLXJlbW90ZQ%3D%3D?line=6'>7</a>\u001b[0m \u001b[39mdef\u001b[39;00m \u001b[39m__eq__\u001b[39m(\u001b[39mself\u001b[39m, cluster: \u001b[39m\"\u001b[39m\u001b[39mCluster\u001b[39m\u001b[39m\"\u001b[39m) \u001b[39m-\u001b[39m\u001b[39m>\u001b[39m \u001b[39mbool\u001b[39m:\n\u001b[1;32m      <a href='vscode-notebook-cell://ssh-remote%2Bavalon/proj/sbaruah/mica-character-attribute-extraction/notebooks/clustering.ipynb#X45sdnNjb2RlLXJlbW90ZQ%3D%3D?line=7'>8</a>\u001b[0m     \u001b[39mreturn\u001b[39;00m \u001b[39mself\u001b[39m\u001b[39m.\u001b[39mitems \u001b[39m==\u001b[39m cluster\u001b[39m.\u001b[39mitems\n\u001b[1;32m     <a href='vscode-notebook-cell://ssh-remote%2Bavalon/proj/sbaruah/mica-character-attribute-extraction/notebooks/clustering.ipynb#X45sdnNjb2RlLXJlbW90ZQ%3D%3D?line=9'>10</a>\u001b[0m \u001b[39mdef\u001b[39;00m \u001b[39m__len__\u001b[39m(\u001b[39mself\u001b[39m) \u001b[39m-\u001b[39m\u001b[39m>\u001b[39m \u001b[39mint\u001b[39m:\n",
      "\u001b[0;31mKeyboardInterrupt\u001b[0m: "
     ]
    }
   ],
   "source": [
    "# agglomerative clustering\n",
    "while len(clusters) > 1:\n",
    "\n",
    "    # find cluster pair (cluster_a, cluster_b) with maximum similarity\n",
    "    i = 0\n",
    "    for j in range(1, len(cluster_similarity_pairs)):\n",
    "        if cluster_similarity_pairs[j].similarity > cluster_similarity_pairs[i].similarity:\n",
    "            i = j\n",
    "    cluster_a, cluster_b = cluster_similarity_pairs[i].cluster_a, cluster_similarity_pairs[i].cluster_b\n",
    "    \n",
    "    # delete cluster a and cluster b\n",
    "    clusters = [cluster for cluster in clusters if cluster != cluster_a or cluster != cluster_b]\n",
    "\n",
    "    # merge cluster a and cluster b\n",
    "    merged_cluster = merge_clusters(cluster_a, cluster_b, similarity)\n",
    "\n",
    "    # add the merged cluster\n",
    "    clusters.append(merged_cluster)\n",
    "\n",
    "    # delete the cluster pair with max similarity\n",
    "    cluster_similarity_pairs = cluster_similarity_pairs[:i] + cluster_similarity_pairs[i + 1:]\n",
    "\n",
    "    # update existing cluster similarity pairs\n",
    "    for pair in cluster_similarity_pairs:\n",
    "        if pair.cluster_a == cluster_a or pair.cluster_a == cluster_b:\n",
    "            pair.cluster_a = merged_cluster\n",
    "            pair.similarity = similarity[pair.cluster_b.parent, merged_cluster.parent]\n",
    "        elif pair.cluster_b == cluster_a or pair.cluster_b == cluster_b:\n",
    "            pair.cluster_b = merged_cluster\n",
    "            pair.similarity = similarity[pair.cluster_a.parent, merged_cluster.parent]\n",
    "\n",
    "    # update taxonomy tree\n",
    "    parent, parent_a, parent_b = merged_cluster.parent, cluster_a.parent, cluster_b.parent\n",
    "    if parent == parent_a:\n",
    "        taxonomy[parent, parent_b] = 1\n",
    "    elif parent == parent_b:\n",
    "        taxonomy[parent, parent_a] = 1\n",
    "    else:\n",
    "        i = np.nonzero(taxonomy[:, parent])[0][0]\n",
    "        for j in np.nonzero(taxonomy[parent])[0]:\n",
    "            taxonomy[parent, j] = 0\n",
    "            taxonomy[i, j] = 1\n",
    "        taxonomy[parent, parent_a] = 1\n",
    "        taxonomy[parent, parent_b] = 1\n",
    "    \n",
    "    # logging\n",
    "    if verbose:\n",
    "        cluster_a_str = cluster_str(cluster_a, keywords, truncate=10, include_count=True)\n",
    "        cluster_b_str = cluster_str(cluster_b, keywords, truncate=10, include_count=True)\n",
    "        print(f\"merge >\\n\\t{cluster_a_str}\\n\\t{cluster_b_str}\")"
   ]
  },
  {
   "cell_type": "code",
   "execution_count": null,
   "metadata": {},
   "outputs": [],
   "source": []
  }
 ],
 "metadata": {
  "kernelspec": {
   "display_name": "attribute",
   "language": "python",
   "name": "python3"
  },
  "language_info": {
   "codemirror_mode": {
    "name": "ipython",
    "version": 3
   },
   "file_extension": ".py",
   "mimetype": "text/x-python",
   "name": "python",
   "nbconvert_exporter": "python",
   "pygments_lexer": "ipython3",
   "version": "3.11.5"
  }
 },
 "nbformat": 4,
 "nbformat_minor": 2
}
