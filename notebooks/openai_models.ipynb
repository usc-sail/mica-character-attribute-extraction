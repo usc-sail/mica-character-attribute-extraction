{
 "cells": [
  {
   "cell_type": "code",
   "execution_count": 9,
   "metadata": {},
   "outputs": [],
   "source": [
    "import os\n",
    "import datetime\n",
    "from openai import OpenAI"
   ]
  },
  {
   "cell_type": "code",
   "execution_count": 3,
   "metadata": {},
   "outputs": [],
   "source": [
    "client = OpenAI(api_key=os.getenv(\"OPENAI_API_KEY\"), organization=\"org-xPjDKPQ58le6x8A7CE13e8O6\")"
   ]
  },
  {
   "cell_type": "code",
   "execution_count": 4,
   "metadata": {},
   "outputs": [],
   "source": [
    "models = client.models.list()"
   ]
  },
  {
   "cell_type": "code",
   "execution_count": 15,
   "metadata": {},
   "outputs": [
    {
     "name": "stdout",
     "output_type": "stream",
     "text": [
      "canary-whisper                 Nov 10 2023\n",
      "canary-tts                     Nov 08 2023\n",
      "tts-1-hd-1106                  Nov 03 2023\n",
      "tts-1-1106                     Nov 03 2023\n",
      "tts-1-hd                       Nov 03 2023\n",
      "gpt-3.5-turbo-1106             Nov 02 2023\n",
      "gpt-4-1106-preview             Nov 02 2023\n",
      "gpt-4-vision-preview           Nov 01 2023\n",
      "dall-e-2                       Oct 31 2023\n",
      "gpt-3.5-turbo-instruct-0914    Sep 07 2023\n",
      "gpt-3.5-turbo-instruct         Aug 24 2023\n",
      "babbage-002                    Aug 21 2023\n",
      "davinci-002                    Aug 21 2023\n",
      "gpt-4                          Jun 27 2023\n",
      "gpt-4-0314                     Jun 27 2023\n",
      "gpt-4-0613                     Jun 12 2023\n",
      "gpt-3.5-turbo-0613             Jun 12 2023\n",
      "gpt-3.5-turbo-16k-0613         May 30 2023\n",
      "gpt-3.5-turbo-16k              May 10 2023\n",
      "tts-1                          Apr 19 2023\n",
      "gpt-3.5-turbo-0301             Feb 28 2023\n",
      "gpt-3.5-turbo                  Feb 28 2023\n",
      "whisper-1                      Feb 27 2023\n",
      "text-embedding-ada-002         Dec 16 2022\n",
      "text-davinci-003               Nov 27 2022\n",
      "curie-similarity               Apr 28 2022\n",
      "babbage-search-document        Apr 28 2022\n",
      "ada-code-search-text           Apr 28 2022\n",
      "text-search-babbage-doc-001    Apr 28 2022\n",
      "curie-search-query             Apr 28 2022\n",
      "text-search-babbage-query-001  Apr 28 2022\n",
      "babbage-search-query           Apr 28 2022\n",
      "davinci-similarity             Apr 28 2022\n",
      "davinci-search-document        Apr 28 2022\n",
      "babbage-code-search-code       Apr 28 2022\n",
      "babbage-code-search-text       Apr 28 2022\n",
      "text-search-curie-query-001    Apr 28 2022\n",
      "text-search-curie-doc-001      Apr 28 2022\n",
      "curie-search-document          Apr 28 2022\n",
      "text-search-ada-doc-001        Apr 28 2022\n",
      "text-similarity-curie-001      Apr 28 2022\n",
      "ada-search-document            Apr 28 2022\n",
      "code-search-ada-text-001       Apr 28 2022\n",
      "code-search-babbage-code-001   Apr 28 2022\n",
      "code-search-babbage-text-001   Apr 28 2022\n",
      "ada-similarity                 Apr 28 2022\n",
      "code-search-ada-code-001       Apr 28 2022\n",
      "text-similarity-davinci-001    Apr 28 2022\n",
      "text-similarity-babbage-001    Apr 28 2022\n",
      "text-search-davinci-doc-001    Apr 28 2022\n",
      "babbage-similarity             Apr 28 2022\n",
      "davinci-search-query           Apr 28 2022\n",
      "text-search-davinci-query-001  Apr 28 2022\n",
      "ada-code-search-code           Apr 28 2022\n",
      "text-search-ada-query-001      Apr 28 2022\n",
      "ada-search-query               Apr 28 2022\n",
      "text-similarity-ada-001        Apr 28 2022\n",
      "code-davinci-edit-001          Apr 13 2022\n",
      "text-davinci-002               Apr 13 2022\n",
      "text-davinci-edit-001          Apr 12 2022\n",
      "text-babbage-001               Apr 07 2022\n",
      "text-curie-001                 Apr 07 2022\n",
      "curie-instruct-beta            Apr 07 2022\n",
      "davinci-instruct-beta          Apr 07 2022\n",
      "text-davinci-001               Apr 07 2022\n",
      "text-ada-001                   Apr 07 2022\n",
      "curie                          Apr 07 2022\n",
      "davinci                        Apr 07 2022\n",
      "babbage                        Apr 07 2022\n",
      "ada                            Apr 07 2022\n"
     ]
    }
   ],
   "source": [
    "models = sorted(models, key=lambda model: model.created, reverse=True)\n",
    "for model in models:\n",
    "    dt = datetime.datetime.fromtimestamp(model.created)\n",
    "    dt_str = datetime.datetime.strftime(dt, \"%b %d %Y\")\n",
    "    print(f\"{model.id:30s} {dt_str}\")"
   ]
  },
  {
   "cell_type": "code",
   "execution_count": null,
   "metadata": {},
   "outputs": [],
   "source": []
  }
 ],
 "metadata": {
  "kernelspec": {
   "display_name": "attribute",
   "language": "python",
   "name": "python3"
  },
  "language_info": {
   "codemirror_mode": {
    "name": "ipython",
    "version": 3
   },
   "file_extension": ".py",
   "mimetype": "text/x-python",
   "name": "python",
   "nbconvert_exporter": "python",
   "pygments_lexer": "ipython3",
   "version": "3.11.5"
  }
 },
 "nbformat": 4,
 "nbformat_minor": 2
}
