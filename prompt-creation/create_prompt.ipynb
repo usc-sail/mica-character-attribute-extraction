{
 "cells": [
  {
   "cell_type": "code",
   "execution_count": 1,
   "metadata": {},
   "outputs": [],
   "source": [
    "import os\n",
    "import re\n",
    "import tqdm\n",
    "import time\n",
    "import openai\n",
    "import tenacity\n",
    "import tiktoken\n",
    "import collections\n",
    "import pandas as pd"
   ]
  },
  {
   "attachments": {},
   "cell_type": "markdown",
   "metadata": {},
   "source": [
    "Samples file"
   ]
  },
  {
   "cell_type": "code",
   "execution_count": 2,
   "metadata": {},
   "outputs": [
    {
     "name": "stdout",
     "output_type": "stream",
     "text": [
      "accomplishments                35 samples\n",
      "age                            31 samples\n",
      "attire                         37 samples\n",
      "attitude                       30 samples\n",
      "demeanor                       33 samples\n",
      "emotion                        36 samples\n",
      "eyes                           31 samples\n",
      "goal                           29 samples\n",
      "hair                           38 samples\n",
      "physical appearance            38 samples\n",
      "physical health status         39 samples\n",
      "possessions                    39 samples\n",
      "profession                     32 samples\n",
      "qualities                      34 samples\n",
      "race                           30 samples\n",
      "voice                          32 samples\n"
     ]
    }
   ],
   "source": [
    "data_dir = os.path.join(os.getenv(\"DATA_DIR\"), \"narrative_understanding/chatter\")\n",
    "sample_file = os.path.join(data_dir, \"attr_instr/samples_filtered.csv\")\n",
    "sample_df = pd.read_csv(sample_file, index_col=None)\n",
    "for attr, attr_df in sample_df.groupby(\"attr\"):\n",
    "    print(f\"{attr:30s} {len(attr_df)} samples\")"
   ]
  },
  {
   "attachments": {},
   "cell_type": "markdown",
   "metadata": {},
   "source": [
    "OpenAI"
   ]
  },
  {
   "cell_type": "code",
   "execution_count": 3,
   "metadata": {},
   "outputs": [],
   "source": [
    "openai.api_key = os.getenv(\"OPENAI_API_KEY\")\n",
    "openai.organization = \"org-xPjDKPQ58le6x8A7CE13e8O6\"\n",
    "\n",
    "@tenacity.retry(wait=tenacity.wait_random_exponential(min=1, max=60), stop=tenacity.stop_after_attempt(10))\n",
    "def completion_with_backoff(**kwargs):\n",
    "    return openai.Completion.create(**kwargs)\n",
    "\n",
    "def prompt_sample(instr, temperature=0.7, max_tokens=1024):\n",
    "    try:\n",
    "        response = completion_with_backoff(\n",
    "            model=\"text-davinci-003\", \n",
    "            prompt=instr,\n",
    "            temperature=temperature,\n",
    "            max_tokens=max_tokens,\n",
    "            logprobs=1\n",
    "            )\n",
    "        return response.to_dict()\n",
    "    except Exception:\n",
    "        return\n",
    "\n",
    "encoding = tiktoken.encoding_for_model(\"text-davinci-003\")"
   ]
  },
  {
   "attachments": {},
   "cell_type": "markdown",
   "metadata": {},
   "source": [
    "# Demonstrations"
   ]
  },
  {
   "attachments": {},
   "cell_type": "markdown",
   "metadata": {},
   "source": [
    "## Accomplishments"
   ]
  },
  {
   "cell_type": "code",
   "execution_count": 4,
   "metadata": {},
   "outputs": [
    {
     "name": "stdout",
     "output_type": "stream",
     "text": [
      "Given a passage from a movie script and a character mentioned in it, find what the character has accomplished or achieved in the past using only the passage text. Include only significant positive achievements such as winning an award, overcoming a challenge, learning a skill, or completing their education. Give an answer as briefly as possible without missing the important facts. If you cannot find any accomplishments, write CANNOT ANSWER.\n",
      "\n",
      "Passage: <PASSAGE>\n",
      "Character: <CHARACTER>\n",
      "Answer:\n"
     ]
    }
   ],
   "source": [
    "attr = \"accomplishments\"\n",
    "attr_df = sample_df[sample_df[\"attr\"] == attr]\n",
    "\n",
    "template = \"\"\"Given a passage from a movie script and a character mentioned in it, find what the character has accomplished or achieved in the past using only the passage text. Include only significant positive achievements such as winning an award, overcoming a challenge, learning a skill, or completing their education. Give an answer as briefly as possible without missing the important facts. If you cannot find any accomplishments, write CANNOT ANSWER.\n",
    "\n",
    "Passage: <PASSAGE>\n",
    "Character: <CHARACTER>\n",
    "Answer:\n",
    "\"\"\"\n",
    "\n",
    "print(template.strip())"
   ]
  },
  {
   "cell_type": "code",
   "execution_count": 28,
   "metadata": {},
   "outputs": [
    {
     "name": "stderr",
     "output_type": "stream",
     "text": [
      "100%|██████████| 35/35 [00:53<00:00,  1.54s/it]"
     ]
    },
    {
     "name": "stdout",
     "output_type": "stream",
     "text": [
      "\n"
     ]
    },
    {
     "name": "stderr",
     "output_type": "stream",
     "text": [
      "\n"
     ]
    }
   ],
   "source": [
    "outputs = []\n",
    "\n",
    "for _, row in tqdm.tqdm(attr_df.iterrows(), total=len(attr_df)):\n",
    "    text, character = row[\"text\"], row[\"character\"]\n",
    "    prompt = template.replace(\"<PASSAGE>\", text).replace(\"<CHARACTER>\", character).strip()\n",
    "    output = prompt_sample(prompt, temperature=0)\n",
    "    outputs.append(output)\n",
    "print()"
   ]
  },
  {
   "cell_type": "code",
   "execution_count": 29,
   "metadata": {},
   "outputs": [],
   "source": [
    "with open(os.path.join(data_dir, f\"attr_instr/{attr}.txt\"), \"w\") as fw:\n",
    "    for (_, row), output in zip(attr_df.iterrows(), outputs):\n",
    "        text, character = row[\"text\"], row[\"character\"]\n",
    "        completion = output[\"choices\"][0][\"text\"]\n",
    "        fw.write(f\"TEXT = {text}\\n\")\n",
    "        fw.write(f\"CHARACTER = {character}\\n\")\n",
    "        fw.write(f\"{attr.upper()} = {completion}\\n\\n\")"
   ]
  },
  {
   "cell_type": "code",
   "execution_count": 34,
   "metadata": {},
   "outputs": [
    {
     "name": "stdout",
     "output_type": "stream",
     "text": [
      "845 tokens\n"
     ]
    }
   ],
   "source": [
    "attr_prompt_file = os.path.join(data_dir, f\"attr_instr/{attr}/prompt.txt\")\n",
    "with open(attr_prompt_file, \"r\") as fr:\n",
    "    attr_instr = fr.read().strip()\n",
    "n_tokens = len(encoding.encode(attr_instr))\n",
    "print(f\"{n_tokens} tokens\")"
   ]
  },
  {
   "attachments": {},
   "cell_type": "markdown",
   "metadata": {},
   "source": [
    "## Age"
   ]
  },
  {
   "cell_type": "code",
   "execution_count": 11,
   "metadata": {},
   "outputs": [
    {
     "name": "stdout",
     "output_type": "stream",
     "text": [
      "Given a passage from a movie script and a character mentioned in it, infer the current age of the character using only the passage text. If you cannot infer their age, write CANNOT ANSWER.\n",
      "\n",
      "Passage: <PASSAGE>\n",
      "Character: <CHARACTER>\n",
      "Answer:\n"
     ]
    }
   ],
   "source": [
    "attr = \"age\"\n",
    "attr_df = sample_df[sample_df[\"attr\"] == attr]\n",
    "\n",
    "template = \"\"\"Given a passage from a movie script and a character mentioned in it, infer the current age of the character using only the passage text. If you cannot infer their age, write CANNOT ANSWER.\n",
    "\n",
    "Passage: <PASSAGE>\n",
    "Character: <CHARACTER>\n",
    "Answer:\n",
    "\"\"\"\n",
    "\n",
    "print(template.strip())"
   ]
  },
  {
   "cell_type": "code",
   "execution_count": 8,
   "metadata": {},
   "outputs": [
    {
     "name": "stderr",
     "output_type": "stream",
     "text": [
      "  0%|          | 0/31 [00:00<?, ?it/s]"
     ]
    },
    {
     "name": "stderr",
     "output_type": "stream",
     "text": [
      "100%|██████████| 31/31 [00:19<00:00,  1.57it/s]"
     ]
    },
    {
     "name": "stdout",
     "output_type": "stream",
     "text": [
      "\n"
     ]
    },
    {
     "name": "stderr",
     "output_type": "stream",
     "text": [
      "\n"
     ]
    }
   ],
   "source": [
    "outputs = []\n",
    "\n",
    "for _, row in tqdm.tqdm(attr_df.iterrows(), total=len(attr_df)):\n",
    "    text, character = row[\"text\"], row[\"character\"]\n",
    "    prompt = template.replace(\"<PASSAGE>\", text).replace(\"<CHARACTER>\", character).strip()\n",
    "    output = prompt_sample(prompt, temperature=0)\n",
    "    outputs.append(output)\n",
    "print()"
   ]
  },
  {
   "cell_type": "code",
   "execution_count": 9,
   "metadata": {},
   "outputs": [],
   "source": [
    "with open(os.path.join(data_dir, f\"attr_instr/{attr}.txt\"), \"w\") as fw:\n",
    "    for (_, row), output in zip(attr_df.iterrows(), outputs):\n",
    "        text, character = row[\"text\"], row[\"character\"]\n",
    "        completion = output[\"choices\"][0][\"text\"]\n",
    "        fw.write(f\"TEXT = {text}\\n\")\n",
    "        fw.write(f\"CHARACTER = {character}\\n\")\n",
    "        fw.write(f\"{attr.upper()} = {completion}\\n\\n\")"
   ]
  },
  {
   "cell_type": "code",
   "execution_count": 10,
   "metadata": {},
   "outputs": [
    {
     "name": "stdout",
     "output_type": "stream",
     "text": [
      "425 tokens\n"
     ]
    }
   ],
   "source": [
    "attr_prompt_file = os.path.join(data_dir, f\"attr_instr/{attr}/prompt.txt\")\n",
    "with open(attr_prompt_file, \"r\") as fr:\n",
    "    attr_instr = fr.read().strip()\n",
    "n_tokens = len(encoding.encode(attr_instr))\n",
    "print(f\"{n_tokens} tokens\")"
   ]
  },
  {
   "attachments": {},
   "cell_type": "markdown",
   "metadata": {},
   "source": [
    "## Attire"
   ]
  },
  {
   "cell_type": "code",
   "execution_count": 5,
   "metadata": {},
   "outputs": [
    {
     "name": "stdout",
     "output_type": "stream",
     "text": [
      "Given a passage from a movie script and a character mentioned in it, find what clothes or type of attire is worn by the character using only the passage text. If they are not wearing anything, answer as NUDE. If you cannot find an answer, write CANNOT ANSWER.\n",
      "\n",
      "Passage: <PASSAGE>\n",
      "Character: <CHARACTER>\n",
      "Answer:\n"
     ]
    }
   ],
   "source": [
    "attr = \"attire\"\n",
    "attr_df = sample_df[sample_df[\"attr\"] == attr]\n",
    "\n",
    "template = \"\"\"Given a passage from a movie script and a character mentioned in it, find what clothes or type of attire is worn by the character using only the passage text. If they are not wearing anything, answer as NUDE. If you cannot find an answer, write CANNOT ANSWER.\n",
    "\n",
    "Passage: <PASSAGE>\n",
    "Character: <CHARACTER>\n",
    "Answer:\n",
    "\"\"\"\n",
    "\n",
    "print(template.strip())"
   ]
  },
  {
   "cell_type": "code",
   "execution_count": 9,
   "metadata": {},
   "outputs": [
    {
     "name": "stderr",
     "output_type": "stream",
     "text": [
      "100%|██████████| 37/37 [00:23<00:00,  1.58it/s]"
     ]
    },
    {
     "name": "stdout",
     "output_type": "stream",
     "text": [
      "\n"
     ]
    },
    {
     "name": "stderr",
     "output_type": "stream",
     "text": [
      "\n"
     ]
    }
   ],
   "source": [
    "outputs = []\n",
    "\n",
    "for _, row in tqdm.tqdm(attr_df.iterrows(), total=len(attr_df)):\n",
    "    text, character = row[\"text\"], row[\"character\"]\n",
    "    prompt = template.replace(\"<PASSAGE>\", text).replace(\"<CHARACTER>\", character).strip()\n",
    "    output = prompt_sample(prompt, temperature=0)\n",
    "    outputs.append(output)\n",
    "print()"
   ]
  },
  {
   "cell_type": "code",
   "execution_count": 11,
   "metadata": {},
   "outputs": [],
   "source": [
    "with open(os.path.join(data_dir, f\"attr_instr/{attr}/{attr}.txt\"), \"w\") as fw:\n",
    "    for (_, row), output in zip(attr_df.iterrows(), outputs):\n",
    "        text, character = row[\"text\"], row[\"character\"]\n",
    "        completion = output[\"choices\"][0][\"text\"]\n",
    "        fw.write(f\"Passage: {text}\\n\")\n",
    "        fw.write(f\"Character: {character}\\n\")\n",
    "        fw.write(f\"{attr.upper()}: {completion.strip()}\\n\\n\")"
   ]
  },
  {
   "cell_type": "code",
   "execution_count": 12,
   "metadata": {},
   "outputs": [
    {
     "name": "stdout",
     "output_type": "stream",
     "text": [
      "584 tokens\n"
     ]
    }
   ],
   "source": [
    "attr_prompt_file = os.path.join(data_dir, f\"attr_instr/{attr}/prompt.txt\")\n",
    "with open(attr_prompt_file, \"r\") as fr:\n",
    "    attr_instr = fr.read().strip()\n",
    "n_tokens = len(encoding.encode(attr_instr))\n",
    "print(f\"{n_tokens} tokens\")"
   ]
  },
  {
   "attachments": {},
   "cell_type": "markdown",
   "metadata": {},
   "source": [
    "## Attitude"
   ]
  },
  {
   "cell_type": "code",
   "execution_count": 4,
   "metadata": {},
   "outputs": [
    {
     "name": "stdout",
     "output_type": "stream",
     "text": [
      "Given a passage from a movie script and a character mentioned in it, infer the attitude, opinion or evaluation of the character which they hold towards something or someone in the passage text. Write your answer as briefly as possible. If you cannot infer the attitude of the character, write CANNOT ANSWER.\n",
      "\n",
      "Passage: <PASSAGE>\n",
      "Character: <CHARACTER>\n",
      "Answer:\n"
     ]
    }
   ],
   "source": [
    "attr = \"attitude\"\n",
    "attr_df = sample_df[sample_df[\"attr\"] == attr]\n",
    "\n",
    "template = \"\"\"Given a passage from a movie script and a character mentioned in it, infer the attitude, opinion or evaluation of the character which they hold towards something or someone in the passage text. Write your answer as briefly as possible. If you cannot infer the attitude of the character, write CANNOT ANSWER.\n",
    "\n",
    "Passage: <PASSAGE>\n",
    "Character: <CHARACTER>\n",
    "Answer:\n",
    "\"\"\"\n",
    "\n",
    "print(template.strip())"
   ]
  },
  {
   "cell_type": "code",
   "execution_count": 5,
   "metadata": {},
   "outputs": [
    {
     "name": "stderr",
     "output_type": "stream",
     "text": [
      "100%|██████████| 30/30 [00:26<00:00,  1.14it/s]"
     ]
    },
    {
     "name": "stdout",
     "output_type": "stream",
     "text": [
      "\n"
     ]
    },
    {
     "name": "stderr",
     "output_type": "stream",
     "text": [
      "\n"
     ]
    }
   ],
   "source": [
    "outputs = []\n",
    "\n",
    "for _, row in tqdm.tqdm(attr_df.iterrows(), total=len(attr_df)):\n",
    "    text, character = row[\"text\"], row[\"character\"]\n",
    "    prompt = template.replace(\"<PASSAGE>\", text).replace(\"<CHARACTER>\", character).strip()\n",
    "    output = prompt_sample(prompt, temperature=0)\n",
    "    outputs.append(output)\n",
    "print()"
   ]
  },
  {
   "cell_type": "code",
   "execution_count": 6,
   "metadata": {},
   "outputs": [],
   "source": [
    "with open(os.path.join(data_dir, f\"attr_instr/{attr}/{attr}.txt\"), \"w\") as fw:\n",
    "    for (_, row), output in zip(attr_df.iterrows(), outputs):\n",
    "        text, character = row[\"text\"], row[\"character\"]\n",
    "        completion = output[\"choices\"][0][\"text\"]\n",
    "        fw.write(f\"Passage: {text}\\n\")\n",
    "        fw.write(f\"Character: {character}\\n\")\n",
    "        fw.write(f\"Answer: {completion.strip()}\\n\\n\")"
   ]
  },
  {
   "cell_type": "code",
   "execution_count": 7,
   "metadata": {},
   "outputs": [
    {
     "name": "stdout",
     "output_type": "stream",
     "text": [
      "422 tokens\n"
     ]
    }
   ],
   "source": [
    "attr_prompt_file = os.path.join(data_dir, f\"attr_instr/{attr}/prompt.txt\")\n",
    "with open(attr_prompt_file, \"r\") as fr:\n",
    "    attr_instr = fr.read().strip()\n",
    "n_tokens = len(encoding.encode(attr_instr))\n",
    "print(f\"{n_tokens} tokens\")"
   ]
  },
  {
   "attachments": {},
   "cell_type": "markdown",
   "metadata": {},
   "source": [
    "## Demeanor"
   ]
  },
  {
   "cell_type": "code",
   "execution_count": 8,
   "metadata": {},
   "outputs": [
    {
     "name": "stdout",
     "output_type": "stream",
     "text": [
      "Given a passage from a movie script and a character mentioned in it, infer the demeanor, manners, bearing, or outward behavior of the character using only the passage text. Write your answer as briefly as possible. If you cannot infer the demeanor of the character, write CANNOT ANSWER.\n",
      "\n",
      "Passage: <PASSAGE>\n",
      "Character: <CHARACTER>\n",
      "Answer:\n"
     ]
    }
   ],
   "source": [
    "attr = \"demeanor\"\n",
    "attr_df = sample_df[sample_df[\"attr\"] == attr]\n",
    "\n",
    "template = \"\"\"Given a passage from a movie script and a character mentioned in it, infer the demeanor, manners, bearing, or outward behavior of the character using only the passage text. Write your answer as briefly as possible. If you cannot infer the demeanor of the character, write CANNOT ANSWER.\n",
    "\n",
    "Passage: <PASSAGE>\n",
    "Character: <CHARACTER>\n",
    "Answer:\n",
    "\"\"\"\n",
    "\n",
    "print(template.strip())"
   ]
  },
  {
   "cell_type": "code",
   "execution_count": 9,
   "metadata": {},
   "outputs": [
    {
     "name": "stderr",
     "output_type": "stream",
     "text": [
      "100%|██████████| 33/33 [00:24<00:00,  1.36it/s]"
     ]
    },
    {
     "name": "stdout",
     "output_type": "stream",
     "text": [
      "\n"
     ]
    },
    {
     "name": "stderr",
     "output_type": "stream",
     "text": [
      "\n"
     ]
    }
   ],
   "source": [
    "outputs = []\n",
    "\n",
    "for _, row in tqdm.tqdm(attr_df.iterrows(), total=len(attr_df)):\n",
    "    text, character = row[\"text\"], row[\"character\"]\n",
    "    prompt = template.replace(\"<PASSAGE>\", text).replace(\"<CHARACTER>\", character).strip()\n",
    "    output = prompt_sample(prompt, temperature=0)\n",
    "    outputs.append(output)\n",
    "print()"
   ]
  },
  {
   "cell_type": "code",
   "execution_count": 10,
   "metadata": {},
   "outputs": [],
   "source": [
    "with open(os.path.join(data_dir, f\"attr_instr/{attr}/{attr}.txt\"), \"w\") as fw:\n",
    "    for (_, row), output in zip(attr_df.iterrows(), outputs):\n",
    "        text, character = row[\"text\"], row[\"character\"]\n",
    "        completion = output[\"choices\"][0][\"text\"]\n",
    "        fw.write(f\"Passage: {text}\\n\")\n",
    "        fw.write(f\"Character: {character}\\n\")\n",
    "        fw.write(f\"Answer: {completion.strip()}\\n\\n\")"
   ]
  },
  {
   "cell_type": "code",
   "execution_count": 11,
   "metadata": {},
   "outputs": [
    {
     "name": "stdout",
     "output_type": "stream",
     "text": [
      "720 tokens\n"
     ]
    }
   ],
   "source": [
    "attr_prompt_file = os.path.join(data_dir, f\"attr_instr/{attr}/prompt.txt\")\n",
    "with open(attr_prompt_file, \"r\") as fr:\n",
    "    attr_instr = fr.read().strip()\n",
    "n_tokens = len(encoding.encode(attr_instr))\n",
    "print(f\"{n_tokens} tokens\")"
   ]
  },
  {
   "attachments": {},
   "cell_type": "markdown",
   "metadata": {},
   "source": [
    "## Emotion"
   ]
  },
  {
   "cell_type": "code",
   "execution_count": 12,
   "metadata": {},
   "outputs": [
    {
     "name": "stdout",
     "output_type": "stream",
     "text": [
      "Given a passage from a movie script and a character mentioned in it, infer the emotions, feelings, or mental state of the character using only the passage text. Write your answer as briefly as possible. If you cannot infer the emotions of the character, write CANNOT ANSWER.\n",
      "\n",
      "Passage: <PASSAGE>\n",
      "Character: <CHARACTER>\n",
      "Answer:\n"
     ]
    }
   ],
   "source": [
    "attr = \"emotion\"\n",
    "attr_df = sample_df[sample_df[\"attr\"] == attr]\n",
    "\n",
    "template = \"\"\"Given a passage from a movie script and a character mentioned in it, infer the emotions, feelings, or mental state of the character using only the passage text. Write your answer as briefly as possible. If you cannot infer the emotions of the character, write CANNOT ANSWER.\n",
    "\n",
    "Passage: <PASSAGE>\n",
    "Character: <CHARACTER>\n",
    "Answer:\n",
    "\"\"\"\n",
    "\n",
    "print(template.strip())"
   ]
  },
  {
   "cell_type": "code",
   "execution_count": 13,
   "metadata": {},
   "outputs": [
    {
     "name": "stderr",
     "output_type": "stream",
     "text": [
      "100%|██████████| 36/36 [00:24<00:00,  1.45it/s]"
     ]
    },
    {
     "name": "stdout",
     "output_type": "stream",
     "text": [
      "\n"
     ]
    },
    {
     "name": "stderr",
     "output_type": "stream",
     "text": [
      "\n"
     ]
    }
   ],
   "source": [
    "outputs = []\n",
    "\n",
    "for _, row in tqdm.tqdm(attr_df.iterrows(), total=len(attr_df)):\n",
    "    text, character = row[\"text\"], row[\"character\"]\n",
    "    prompt = template.replace(\"<PASSAGE>\", text).replace(\"<CHARACTER>\", character).strip()\n",
    "    output = prompt_sample(prompt, temperature=0)\n",
    "    outputs.append(output)\n",
    "print()"
   ]
  },
  {
   "cell_type": "code",
   "execution_count": 14,
   "metadata": {},
   "outputs": [],
   "source": [
    "with open(os.path.join(data_dir, f\"attr_instr/{attr}/{attr}.txt\"), \"w\") as fw:\n",
    "    for (_, row), output in zip(attr_df.iterrows(), outputs):\n",
    "        text, character = row[\"text\"], row[\"character\"]\n",
    "        completion = output[\"choices\"][0][\"text\"]\n",
    "        fw.write(f\"Passage: {text}\\n\")\n",
    "        fw.write(f\"Character: {character}\\n\")\n",
    "        fw.write(f\"Answer: {completion.strip()}\\n\\n\")"
   ]
  },
  {
   "cell_type": "code",
   "execution_count": 15,
   "metadata": {},
   "outputs": [
    {
     "name": "stdout",
     "output_type": "stream",
     "text": [
      "700 tokens\n"
     ]
    }
   ],
   "source": [
    "attr_prompt_file = os.path.join(data_dir, f\"attr_instr/{attr}/prompt.txt\")\n",
    "with open(attr_prompt_file, \"r\") as fr:\n",
    "    attr_instr = fr.read().strip()\n",
    "n_tokens = len(encoding.encode(attr_instr))\n",
    "print(f\"{n_tokens} tokens\")"
   ]
  },
  {
   "attachments": {},
   "cell_type": "markdown",
   "metadata": {},
   "source": [
    "## Eyes"
   ]
  },
  {
   "cell_type": "code",
   "execution_count": 19,
   "metadata": {},
   "outputs": [
    {
     "name": "stdout",
     "output_type": "stream",
     "text": [
      "Given a passage from a movie script and a character mentioned in it, find attributes of the character's eyes. Write your answer as briefly as possible. If you cannot find any attributes of the character's eyes, write CANNOT ANSWER.\n",
      "\n",
      "Passage: <PASSAGE>\n",
      "Character: <CHARACTER>\n",
      "Answer:\n"
     ]
    }
   ],
   "source": [
    "attr = \"eyes\"\n",
    "attr_df = sample_df[sample_df[\"attr\"] == attr]\n",
    "\n",
    "template = \"\"\"Given a passage from a movie script and a character mentioned in it, find attributes of the character's eyes. Write your answer as briefly as possible. If you cannot find any attributes of the character's eyes, write CANNOT ANSWER.\n",
    "\n",
    "Passage: <PASSAGE>\n",
    "Character: <CHARACTER>\n",
    "Answer:\n",
    "\"\"\"\n",
    "\n",
    "print(template.strip())"
   ]
  },
  {
   "cell_type": "code",
   "execution_count": 20,
   "metadata": {},
   "outputs": [
    {
     "name": "stderr",
     "output_type": "stream",
     "text": [
      "100%|██████████| 31/31 [00:25<00:00,  1.24it/s]"
     ]
    },
    {
     "name": "stdout",
     "output_type": "stream",
     "text": [
      "\n"
     ]
    },
    {
     "name": "stderr",
     "output_type": "stream",
     "text": [
      "\n"
     ]
    }
   ],
   "source": [
    "outputs = []\n",
    "\n",
    "for _, row in tqdm.tqdm(attr_df.iterrows(), total=len(attr_df)):\n",
    "    text, character = row[\"text\"], row[\"character\"]\n",
    "    prompt = template.replace(\"<PASSAGE>\", text).replace(\"<CHARACTER>\", character).strip()\n",
    "    output = prompt_sample(prompt, temperature=1)\n",
    "    outputs.append(output)\n",
    "print()"
   ]
  },
  {
   "cell_type": "code",
   "execution_count": 21,
   "metadata": {},
   "outputs": [],
   "source": [
    "with open(os.path.join(data_dir, f\"attr_instr/{attr}/{attr}.txt\"), \"w\") as fw:\n",
    "    for (_, row), output in zip(attr_df.iterrows(), outputs):\n",
    "        text, character = row[\"text\"], row[\"character\"]\n",
    "        completion = output[\"choices\"][0][\"text\"]\n",
    "        fw.write(f\"Passage: {text}\\n\")\n",
    "        fw.write(f\"Character: {character}\\n\")\n",
    "        fw.write(f\"Answer: {completion.strip()}\\n\\n\")"
   ]
  },
  {
   "cell_type": "code",
   "execution_count": 22,
   "metadata": {},
   "outputs": [
    {
     "name": "stdout",
     "output_type": "stream",
     "text": [
      "484 tokens\n"
     ]
    }
   ],
   "source": [
    "attr_prompt_file = os.path.join(data_dir, f\"attr_instr/{attr}/prompt.txt\")\n",
    "with open(attr_prompt_file, \"r\") as fr:\n",
    "    attr_instr = fr.read().strip()\n",
    "n_tokens = len(encoding.encode(attr_instr))\n",
    "print(f\"{n_tokens} tokens\")"
   ]
  },
  {
   "attachments": {},
   "cell_type": "markdown",
   "metadata": {},
   "source": [
    "## Goal"
   ]
  },
  {
   "cell_type": "code",
   "execution_count": 32,
   "metadata": {},
   "outputs": [
    {
     "name": "stdout",
     "output_type": "stream",
     "text": [
      "Given a passage from a movie script and a character mentioned in it, find the goal or motive of the character, or what they are trying to achieve. If you cannot find the goal of the character, write CANNOT ANSWER.\n",
      "\n",
      "Passage: \n",
      "<PASSAGE>\n",
      "\n",
      "Character: <CHARACTER>\n",
      "Answer:\n"
     ]
    }
   ],
   "source": [
    "attr = \"goal\"\n",
    "attr_df = sample_df[sample_df[\"attr\"] == attr]\n",
    "\n",
    "def norm_scene(text):\n",
    "    norm_text = re.sub(r\"\\n+\", \"\\n\", text).strip()\n",
    "    return norm_text\n",
    "\n",
    "template = \"\"\"Given a passage from a movie script and a character mentioned in it, find the goal or motive of the character, or what they are trying to achieve. If you cannot find the goal of the character, write CANNOT ANSWER.\n",
    "\n",
    "Passage: \n",
    "<PASSAGE>\n",
    "\n",
    "Character: <CHARACTER>\n",
    "Answer:\n",
    "\"\"\"\n",
    "\n",
    "print(template.strip())"
   ]
  },
  {
   "cell_type": "code",
   "execution_count": 33,
   "metadata": {},
   "outputs": [
    {
     "name": "stderr",
     "output_type": "stream",
     "text": [
      "100%|██████████| 29/29 [01:09<00:00,  2.39s/it]"
     ]
    },
    {
     "name": "stdout",
     "output_type": "stream",
     "text": [
      "\n"
     ]
    },
    {
     "name": "stderr",
     "output_type": "stream",
     "text": [
      "\n"
     ]
    }
   ],
   "source": [
    "outputs = []\n",
    "\n",
    "for _, row in tqdm.tqdm(attr_df.iterrows(), total=len(attr_df)):\n",
    "    text, character = row[\"text\"], row[\"character\"]\n",
    "    norm_text = norm_scene(text)\n",
    "    prompt = template.replace(\"<PASSAGE>\", norm_text).replace(\"<CHARACTER>\", character).strip()\n",
    "    output = prompt_sample(prompt, temperature=0)\n",
    "    outputs.append(output)\n",
    "print()"
   ]
  },
  {
   "cell_type": "code",
   "execution_count": 34,
   "metadata": {},
   "outputs": [],
   "source": [
    "with open(os.path.join(data_dir, f\"attr_instr/{attr}/{attr}.txt\"), \"w\") as fw:\n",
    "    for (_, row), output in zip(attr_df.iterrows(), outputs):\n",
    "        text, character = row[\"text\"], row[\"character\"]\n",
    "        completion = output[\"choices\"][0][\"text\"]\n",
    "        norm_text = norm_scene(text)\n",
    "        fw.write(f\"Passage:\\n{norm_text}\\n\\n\")\n",
    "        fw.write(f\"Character: {character}\\n\")\n",
    "        fw.write(f\"Answer: {completion.strip()}\\n\\n\")"
   ]
  },
  {
   "cell_type": "code",
   "execution_count": 36,
   "metadata": {},
   "outputs": [
    {
     "name": "stdout",
     "output_type": "stream",
     "text": [
      "2937 tokens\n"
     ]
    }
   ],
   "source": [
    "attr_prompt_file = os.path.join(data_dir, f\"attr_instr/{attr}/prompt.txt\")\n",
    "with open(attr_prompt_file, \"r\") as fr:\n",
    "    attr_instr = fr.read().strip()\n",
    "n_tokens = len(encoding.encode(attr_instr))\n",
    "print(f\"{n_tokens} tokens\")"
   ]
  },
  {
   "attachments": {},
   "cell_type": "markdown",
   "metadata": {},
   "source": [
    "## Hair"
   ]
  },
  {
   "cell_type": "code",
   "execution_count": 37,
   "metadata": {},
   "outputs": [
    {
     "name": "stdout",
     "output_type": "stream",
     "text": [
      "Given a passage from a movie script and a character mentioned in it, find the hair color, hair type or other attributes of the character's hair. Write your answer as briefly as possible. If you cannot find any attributes of the character's hair, write CANNOT ANSWER.\n",
      "\n",
      "Passage: <PASSAGE>\n",
      "Character: <CHARACTER>\n",
      "Answer:\n"
     ]
    }
   ],
   "source": [
    "attr = \"hair\"\n",
    "attr_df = sample_df[sample_df[\"attr\"] == attr]\n",
    "\n",
    "template = \"\"\"Given a passage from a movie script and a character mentioned in it, find the hair color, hair type or other attributes of the character's hair. Write your answer as briefly as possible. If you cannot find any attributes of the character's hair, write CANNOT ANSWER.\n",
    "\n",
    "Passage: <PASSAGE>\n",
    "Character: <CHARACTER>\n",
    "Answer:\n",
    "\"\"\"\n",
    "\n",
    "print(template.strip())"
   ]
  },
  {
   "cell_type": "code",
   "execution_count": 38,
   "metadata": {},
   "outputs": [
    {
     "name": "stderr",
     "output_type": "stream",
     "text": [
      "100%|██████████| 38/38 [00:21<00:00,  1.73it/s]"
     ]
    },
    {
     "name": "stdout",
     "output_type": "stream",
     "text": [
      "\n"
     ]
    },
    {
     "name": "stderr",
     "output_type": "stream",
     "text": [
      "\n"
     ]
    }
   ],
   "source": [
    "outputs = []\n",
    "\n",
    "for _, row in tqdm.tqdm(attr_df.iterrows(), total=len(attr_df)):\n",
    "    text, character = row[\"text\"], row[\"character\"]\n",
    "    prompt = template.replace(\"<PASSAGE>\", text).replace(\"<CHARACTER>\", character).strip()\n",
    "    output = prompt_sample(prompt, temperature=0)\n",
    "    outputs.append(output)\n",
    "print()"
   ]
  },
  {
   "cell_type": "code",
   "execution_count": 39,
   "metadata": {},
   "outputs": [],
   "source": [
    "with open(os.path.join(data_dir, f\"attr_instr/{attr}/{attr}.txt\"), \"w\") as fw:\n",
    "    for (_, row), output in zip(attr_df.iterrows(), outputs):\n",
    "        text, character = row[\"text\"], row[\"character\"]\n",
    "        completion = output[\"choices\"][0][\"text\"]\n",
    "        fw.write(f\"Passage: {text}\\n\")\n",
    "        fw.write(f\"Character: {character}\\n\")\n",
    "        fw.write(f\"Answer: {completion.strip()}\\n\\n\")"
   ]
  },
  {
   "cell_type": "code",
   "execution_count": 40,
   "metadata": {},
   "outputs": [
    {
     "name": "stdout",
     "output_type": "stream",
     "text": [
      "592 tokens\n"
     ]
    }
   ],
   "source": [
    "attr_prompt_file = os.path.join(data_dir, f\"attr_instr/{attr}/prompt.txt\")\n",
    "with open(attr_prompt_file, \"r\") as fr:\n",
    "    attr_instr = fr.read().strip()\n",
    "n_tokens = len(encoding.encode(attr_instr))\n",
    "print(f\"{n_tokens} tokens\")"
   ]
  },
  {
   "attachments": {},
   "cell_type": "markdown",
   "metadata": {},
   "source": [
    "## Physical Appearance"
   ]
  },
  {
   "cell_type": "code",
   "execution_count": 7,
   "metadata": {},
   "outputs": [
    {
     "name": "stdout",
     "output_type": "stream",
     "text": [
      "Given a passage from a movie script and a character mentioned in it, find the explicitly described physical attributes of the character's body using only the passage text. Write your answer as briefly as possible. If you cannot find any physical attributes of the character, write CANNOT ANSWER.\n",
      "\n",
      "Passage: <PASSAGE>\n",
      "Character: <CHARACTER>\n",
      "Answer:\n"
     ]
    }
   ],
   "source": [
    "attr = \"physical appearance\"\n",
    "attr_df = sample_df[sample_df[\"attr\"] == attr]\n",
    "\n",
    "template = \"\"\"Given a passage from a movie script and a character mentioned in it, find the explicitly described physical attributes of the character's body using only the passage text. Write your answer as briefly as possible. If you cannot find any physical attributes of the character, write CANNOT ANSWER.\n",
    "\n",
    "Passage: <PASSAGE>\n",
    "Character: <CHARACTER>\n",
    "Answer:\n",
    "\"\"\"\n",
    "\n",
    "print(template.strip())"
   ]
  },
  {
   "cell_type": "code",
   "execution_count": 8,
   "metadata": {},
   "outputs": [
    {
     "name": "stderr",
     "output_type": "stream",
     "text": [
      "100%|██████████| 38/38 [00:26<00:00,  1.42it/s]"
     ]
    },
    {
     "name": "stdout",
     "output_type": "stream",
     "text": [
      "\n"
     ]
    },
    {
     "name": "stderr",
     "output_type": "stream",
     "text": [
      "\n"
     ]
    }
   ],
   "source": [
    "outputs = []\n",
    "\n",
    "for _, row in tqdm.tqdm(attr_df.iterrows(), total=len(attr_df)):\n",
    "    text, character = row[\"text\"], row[\"character\"]\n",
    "    prompt = template.replace(\"<PASSAGE>\", text).replace(\"<CHARACTER>\", character).strip()\n",
    "    output = prompt_sample(prompt, temperature=0)\n",
    "    outputs.append(output)\n",
    "print()"
   ]
  },
  {
   "cell_type": "code",
   "execution_count": 9,
   "metadata": {},
   "outputs": [],
   "source": [
    "with open(os.path.join(data_dir, f\"attr_instr/{attr}/{attr}.txt\"), \"w\") as fw:\n",
    "    for (_, row), output in zip(attr_df.iterrows(), outputs):\n",
    "        text, character = row[\"text\"], row[\"character\"]\n",
    "        completion = output[\"choices\"][0][\"text\"]\n",
    "        fw.write(f\"Passage: {text}\\n\")\n",
    "        fw.write(f\"Character: {character}\\n\")\n",
    "        fw.write(f\"Answer: {completion.strip()}\\n\\n\")"
   ]
  },
  {
   "cell_type": "code",
   "execution_count": 10,
   "metadata": {},
   "outputs": [
    {
     "name": "stdout",
     "output_type": "stream",
     "text": [
      "637 tokens\n"
     ]
    }
   ],
   "source": [
    "attr_prompt_file = os.path.join(data_dir, f\"attr_instr/{attr}/prompt.txt\")\n",
    "with open(attr_prompt_file, \"r\") as fr:\n",
    "    attr_instr = fr.read().strip()\n",
    "n_tokens = len(encoding.encode(attr_instr))\n",
    "print(f\"{n_tokens} tokens\")"
   ]
  },
  {
   "attachments": {},
   "cell_type": "markdown",
   "metadata": {},
   "source": [
    "## Physical health status"
   ]
  },
  {
   "cell_type": "code",
   "execution_count": 45,
   "metadata": {},
   "outputs": [
    {
     "name": "stdout",
     "output_type": "stream",
     "text": [
      "Given a passage from a movie script and a character mentioned in it, find the physical health condition of the character using only the passage text, such as whether they are suffering from any disease, injured, or physically fit. Write your answer as briefly as possible. If you cannot find any information about the physical health condition of the character, write CANNOT ANSWER.\n",
      "\n",
      "Passage: <PASSAGE>\n",
      "Character: <CHARACTER>\n",
      "Answer:\n"
     ]
    }
   ],
   "source": [
    "attr = \"physical health status\"\n",
    "attr_df = sample_df[sample_df[\"attr\"] == attr]\n",
    "\n",
    "template = \"\"\"Given a passage from a movie script and a character mentioned in it, find the physical health condition of the character using only the passage text, such as whether they are suffering from any disease, injured, or physically fit. Write your answer as briefly as possible. If you cannot find any information about the physical health condition of the character, write CANNOT ANSWER.\n",
    "\n",
    "Passage: <PASSAGE>\n",
    "Character: <CHARACTER>\n",
    "Answer:\n",
    "\"\"\"\n",
    "\n",
    "print(template.strip())"
   ]
  },
  {
   "cell_type": "code",
   "execution_count": 12,
   "metadata": {},
   "outputs": [
    {
     "name": "stderr",
     "output_type": "stream",
     "text": [
      "100%|██████████| 39/39 [00:28<00:00,  1.38it/s]"
     ]
    },
    {
     "name": "stdout",
     "output_type": "stream",
     "text": [
      "\n"
     ]
    },
    {
     "name": "stderr",
     "output_type": "stream",
     "text": [
      "\n"
     ]
    }
   ],
   "source": [
    "outputs = []\n",
    "\n",
    "for _, row in tqdm.tqdm(attr_df.iterrows(), total=len(attr_df)):\n",
    "    text, character = row[\"text\"], row[\"character\"]\n",
    "    prompt = template.replace(\"<PASSAGE>\", text).replace(\"<CHARACTER>\", character).strip()\n",
    "    output = prompt_sample(prompt, temperature=0)\n",
    "    outputs.append(output)\n",
    "print()"
   ]
  },
  {
   "cell_type": "code",
   "execution_count": 13,
   "metadata": {},
   "outputs": [],
   "source": [
    "with open(os.path.join(data_dir, f\"attr_instr/{attr}/{attr}.txt\"), \"w\") as fw:\n",
    "    for (_, row), output in zip(attr_df.iterrows(), outputs):\n",
    "        text, character = row[\"text\"], row[\"character\"]\n",
    "        completion = output[\"choices\"][0][\"text\"]\n",
    "        fw.write(f\"Passage: {text}\\n\")\n",
    "        fw.write(f\"Character: {character}\\n\")\n",
    "        fw.write(f\"Answer: {completion.strip()}\\n\\n\")"
   ]
  },
  {
   "cell_type": "code",
   "execution_count": 46,
   "metadata": {},
   "outputs": [
    {
     "name": "stdout",
     "output_type": "stream",
     "text": [
      "561 tokens\n"
     ]
    }
   ],
   "source": [
    "attr_prompt_file = os.path.join(data_dir, f\"attr_instr/{attr}/prompt.txt\")\n",
    "with open(attr_prompt_file, \"r\") as fr:\n",
    "    attr_instr = fr.read().strip()\n",
    "n_tokens = len(encoding.encode(attr_instr))\n",
    "print(f\"{n_tokens} tokens\")"
   ]
  },
  {
   "attachments": {},
   "cell_type": "markdown",
   "metadata": {},
   "source": [
    "## Possessions"
   ]
  },
  {
   "cell_type": "code",
   "execution_count": 10,
   "metadata": {},
   "outputs": [
    {
     "name": "stdout",
     "output_type": "stream",
     "text": [
      "Given a passage from a movie script and a character mentioned in it, find the items held by the character with them presently using only the passage text. Write your answer as briefly as possible. If the passage does not explicitly specify any items held by the character, write CANNOT ANSWER. Do not consider the clothes, shoes, or any headgear worn by the character.\n",
      "\n",
      "Passage: <PASSAGE>\n",
      "Character: <CHARACTER>\n",
      "Answer:\n"
     ]
    }
   ],
   "source": [
    "attr = \"possessions\"\n",
    "attr_df = sample_df[sample_df[\"attr\"] == attr]\n",
    "\n",
    "template = \"\"\"Given a passage from a movie script and a character mentioned in it, find the items held by the character with them presently using only the passage text. Write your answer as briefly as possible. If the passage does not explicitly specify any items held by the character, write CANNOT ANSWER. Do not consider the clothes, shoes, or any headgear worn by the character.\n",
    "\n",
    "Passage: <PASSAGE>\n",
    "Character: <CHARACTER>\n",
    "Answer:\n",
    "\"\"\"\n",
    "\n",
    "print(template.strip())"
   ]
  },
  {
   "cell_type": "code",
   "execution_count": 11,
   "metadata": {},
   "outputs": [
    {
     "name": "stderr",
     "output_type": "stream",
     "text": [
      "100%|██████████| 39/39 [00:22<00:00,  1.74it/s]"
     ]
    },
    {
     "name": "stdout",
     "output_type": "stream",
     "text": [
      "\n"
     ]
    },
    {
     "name": "stderr",
     "output_type": "stream",
     "text": [
      "\n"
     ]
    }
   ],
   "source": [
    "outputs = []\n",
    "\n",
    "for _, row in tqdm.tqdm(attr_df.iterrows(), total=len(attr_df)):\n",
    "    text, character = row[\"text\"], row[\"character\"]\n",
    "    prompt = template.replace(\"<PASSAGE>\", text).replace(\"<CHARACTER>\", character).strip()\n",
    "    output = prompt_sample(prompt, temperature=0)\n",
    "    outputs.append(output)\n",
    "print()"
   ]
  },
  {
   "cell_type": "code",
   "execution_count": 12,
   "metadata": {},
   "outputs": [],
   "source": [
    "with open(os.path.join(data_dir, f\"attr_instr/{attr}/{attr}.txt\"), \"w\") as fw:\n",
    "    for (_, row), output in zip(attr_df.iterrows(), outputs):\n",
    "        text, character = row[\"text\"], row[\"character\"]\n",
    "        completion = output[\"choices\"][0][\"text\"]\n",
    "        fw.write(f\"Passage: {text}\\n\")\n",
    "        fw.write(f\"Character: {character}\\n\")\n",
    "        fw.write(f\"Answer: {completion.strip()}\\n\\n\")"
   ]
  },
  {
   "cell_type": "code",
   "execution_count": 13,
   "metadata": {},
   "outputs": [
    {
     "name": "stdout",
     "output_type": "stream",
     "text": [
      "633 tokens\n"
     ]
    }
   ],
   "source": [
    "attr_prompt_file = os.path.join(data_dir, f\"attr_instr/{attr}/prompt.txt\")\n",
    "with open(attr_prompt_file, \"r\") as fr:\n",
    "    attr_instr = fr.read().strip()\n",
    "n_tokens = len(encoding.encode(attr_instr))\n",
    "print(f\"{n_tokens} tokens\")"
   ]
  },
  {
   "attachments": {},
   "cell_type": "markdown",
   "metadata": {},
   "source": [
    "## Profession"
   ]
  },
  {
   "cell_type": "code",
   "execution_count": 43,
   "metadata": {},
   "outputs": [
    {
     "name": "stdout",
     "output_type": "stream",
     "text": [
      "Given a passage from a movie script and a character mentioned in it, find the profession of the character using only the passage text. Write your answer as briefly as possible. Unless the passage clearly and explicitly states the character's profession, write CANNOT ANSWER.\n",
      "\n",
      "Passage: <PASSAGE>\n",
      "Character: <CHARACTER>\n",
      "Answer:\n"
     ]
    }
   ],
   "source": [
    "attr = \"profession\"\n",
    "attr_df = sample_df[sample_df[\"attr\"] == attr]\n",
    "\n",
    "template = \"\"\"Given a passage from a movie script and a character mentioned in it, find the profession of the character using only the passage text. Write your answer as briefly as possible. Unless the passage clearly and explicitly states the character's profession, write CANNOT ANSWER.\n",
    "\n",
    "Passage: <PASSAGE>\n",
    "Character: <CHARACTER>\n",
    "Answer:\n",
    "\"\"\"\n",
    "\n",
    "print(template.strip())"
   ]
  },
  {
   "cell_type": "code",
   "execution_count": 18,
   "metadata": {},
   "outputs": [
    {
     "name": "stderr",
     "output_type": "stream",
     "text": [
      "100%|██████████| 32/32 [00:14<00:00,  2.20it/s]"
     ]
    },
    {
     "name": "stdout",
     "output_type": "stream",
     "text": [
      "\n"
     ]
    },
    {
     "name": "stderr",
     "output_type": "stream",
     "text": [
      "\n"
     ]
    }
   ],
   "source": [
    "outputs = []\n",
    "\n",
    "for _, row in tqdm.tqdm(attr_df.iterrows(), total=len(attr_df)):\n",
    "    text, character = row[\"text\"], row[\"character\"]\n",
    "    prompt = template.replace(\"<PASSAGE>\", text).replace(\"<CHARACTER>\", character).strip()\n",
    "    output = prompt_sample(prompt, temperature=0)\n",
    "    outputs.append(output)\n",
    "print()"
   ]
  },
  {
   "cell_type": "code",
   "execution_count": 19,
   "metadata": {},
   "outputs": [],
   "source": [
    "with open(os.path.join(data_dir, f\"attr_instr/{attr}/{attr}.txt\"), \"w\") as fw:\n",
    "    for (_, row), output in zip(attr_df.iterrows(), outputs):\n",
    "        text, character = row[\"text\"], row[\"character\"]\n",
    "        completion = output[\"choices\"][0][\"text\"]\n",
    "        fw.write(f\"Passage: {text}\\n\")\n",
    "        fw.write(f\"Character: {character}\\n\")\n",
    "        fw.write(f\"Answer: {completion.strip()}\\n\\n\")"
   ]
  },
  {
   "cell_type": "code",
   "execution_count": 44,
   "metadata": {},
   "outputs": [
    {
     "name": "stdout",
     "output_type": "stream",
     "text": [
      "808 tokens\n"
     ]
    }
   ],
   "source": [
    "attr_prompt_file = os.path.join(data_dir, f\"attr_instr/{attr}/prompt.txt\")\n",
    "with open(attr_prompt_file, \"r\") as fr:\n",
    "    attr_instr = fr.read().strip()\n",
    "n_tokens = len(encoding.encode(attr_instr))\n",
    "print(f\"{n_tokens} tokens\")"
   ]
  },
  {
   "attachments": {},
   "cell_type": "markdown",
   "metadata": {},
   "source": [
    "## Qualities"
   ]
  },
  {
   "cell_type": "code",
   "execution_count": 23,
   "metadata": {},
   "outputs": [
    {
     "name": "stdout",
     "output_type": "stream",
     "text": [
      "Given a passage from a movie script and a character mentioned in it, find any special unique qualities, skills, or abilies of the character using only the passage text. Write your answer as briefly as possible. If you cannot find any special skills of the character, write CANNOT ANSWER.\n",
      "\n",
      "Passage: <PASSAGE>\n",
      "Character: <CHARACTER>\n",
      "Answer:\n"
     ]
    }
   ],
   "source": [
    "attr = \"qualities\"\n",
    "attr_df = sample_df[sample_df[\"attr\"] == attr]\n",
    "\n",
    "template = \"\"\"Given a passage from a movie script and a character mentioned in it, find any special unique qualities, skills, or abilies of the character using only the passage text. Write your answer as briefly as possible. If you cannot find any special skills of the character, write CANNOT ANSWER.\n",
    "\n",
    "Passage: <PASSAGE>\n",
    "Character: <CHARACTER>\n",
    "Answer:\n",
    "\"\"\"\n",
    "\n",
    "print(template.strip())"
   ]
  },
  {
   "cell_type": "code",
   "execution_count": 24,
   "metadata": {},
   "outputs": [
    {
     "name": "stderr",
     "output_type": "stream",
     "text": [
      "100%|██████████| 34/34 [00:19<00:00,  1.77it/s]"
     ]
    },
    {
     "name": "stdout",
     "output_type": "stream",
     "text": [
      "\n"
     ]
    },
    {
     "name": "stderr",
     "output_type": "stream",
     "text": [
      "\n"
     ]
    }
   ],
   "source": [
    "outputs = []\n",
    "\n",
    "for _, row in tqdm.tqdm(attr_df.iterrows(), total=len(attr_df)):\n",
    "    text, character = row[\"text\"], row[\"character\"]\n",
    "    prompt = template.replace(\"<PASSAGE>\", text).replace(\"<CHARACTER>\", character).strip()\n",
    "    output = prompt_sample(prompt, temperature=0)\n",
    "    outputs.append(output)\n",
    "print()"
   ]
  },
  {
   "cell_type": "code",
   "execution_count": 25,
   "metadata": {},
   "outputs": [],
   "source": [
    "with open(os.path.join(data_dir, f\"attr_instr/{attr}/{attr}.txt\"), \"w\") as fw:\n",
    "    for (_, row), output in zip(attr_df.iterrows(), outputs):\n",
    "        text, character = row[\"text\"], row[\"character\"]\n",
    "        completion = output[\"choices\"][0][\"text\"]\n",
    "        fw.write(f\"Passage: {text}\\n\")\n",
    "        fw.write(f\"Character: {character}\\n\")\n",
    "        fw.write(f\"Answer: {completion.strip()}\\n\\n\")"
   ]
  },
  {
   "cell_type": "code",
   "execution_count": 26,
   "metadata": {},
   "outputs": [
    {
     "name": "stdout",
     "output_type": "stream",
     "text": [
      "714 tokens\n"
     ]
    }
   ],
   "source": [
    "attr_prompt_file = os.path.join(data_dir, f\"attr_instr/{attr}/prompt.txt\")\n",
    "with open(attr_prompt_file, \"r\") as fr:\n",
    "    attr_instr = fr.read().strip()\n",
    "n_tokens = len(encoding.encode(attr_instr))\n",
    "print(f\"{n_tokens} tokens\")"
   ]
  },
  {
   "attachments": {},
   "cell_type": "markdown",
   "metadata": {},
   "source": [
    "## Race"
   ]
  },
  {
   "cell_type": "code",
   "execution_count": 31,
   "metadata": {},
   "outputs": [
    {
     "name": "stdout",
     "output_type": "stream",
     "text": [
      "Given a passage from a movie script and a character mentioned in it, find the quality, tone, pitch, accent, or any other attributes of the character's voice using only the passage text. Write your answer as briefly as possible. If you cannot find any attributes of the character's voice, write CANNOT ANSWER.\n",
      "\n",
      "Passage: <PASSAGE>\n",
      "Character: <CHARACTER>\n",
      "Answer:\n"
     ]
    }
   ],
   "source": [
    "attr = \"race\"\n",
    "attr_df = sample_df[sample_df[\"attr\"] == attr]\n",
    "\n",
    "template = \"\"\"Given a passage from a movie script and a character mentioned in it, find the race or ethnicity of the character using only the passage text. Write your answer as briefly as possible. If you cannot find the race or ethnicity of the character, write CANNOT ANSWER.\n",
    "\n",
    "Passage: <PASSAGE>\n",
    "Character: <CHARACTER>\n",
    "Answer:\n",
    "\"\"\"\n",
    "\n",
    "print(template.strip())"
   ]
  },
  {
   "cell_type": "code",
   "execution_count": 32,
   "metadata": {},
   "outputs": [
    {
     "name": "stderr",
     "output_type": "stream",
     "text": [
      "100%|██████████| 30/30 [00:16<00:00,  1.77it/s]"
     ]
    },
    {
     "name": "stdout",
     "output_type": "stream",
     "text": [
      "\n"
     ]
    },
    {
     "name": "stderr",
     "output_type": "stream",
     "text": [
      "\n"
     ]
    }
   ],
   "source": [
    "outputs = []\n",
    "\n",
    "for _, row in tqdm.tqdm(attr_df.iterrows(), total=len(attr_df)):\n",
    "    text, character = row[\"text\"], row[\"character\"]\n",
    "    prompt = template.replace(\"<PASSAGE>\", text).replace(\"<CHARACTER>\", character).strip()\n",
    "    output = prompt_sample(prompt, temperature=0)\n",
    "    outputs.append(output)\n",
    "print()"
   ]
  },
  {
   "cell_type": "code",
   "execution_count": 29,
   "metadata": {},
   "outputs": [],
   "source": [
    "with open(os.path.join(data_dir, f\"attr_instr/{attr}/{attr}.txt\"), \"w\") as fw:\n",
    "    for (_, row), output in zip(attr_df.iterrows(), outputs):\n",
    "        text, character = row[\"text\"], row[\"character\"]\n",
    "        completion = output[\"choices\"][0][\"text\"]\n",
    "        fw.write(f\"Passage: {text}\\n\")\n",
    "        fw.write(f\"Character: {character}\\n\")\n",
    "        fw.write(f\"Answer: {completion.strip()}\\n\\n\")"
   ]
  },
  {
   "cell_type": "code",
   "execution_count": 30,
   "metadata": {},
   "outputs": [
    {
     "name": "stdout",
     "output_type": "stream",
     "text": [
      "411 tokens\n"
     ]
    }
   ],
   "source": [
    "attr_prompt_file = os.path.join(data_dir, f\"attr_instr/{attr}/prompt.txt\")\n",
    "with open(attr_prompt_file, \"r\") as fr:\n",
    "    attr_instr = fr.read().strip()\n",
    "n_tokens = len(encoding.encode(attr_instr))\n",
    "print(f\"{n_tokens} tokens\")"
   ]
  },
  {
   "attachments": {},
   "cell_type": "markdown",
   "metadata": {},
   "source": [
    "## Voice"
   ]
  },
  {
   "cell_type": "code",
   "execution_count": 37,
   "metadata": {},
   "outputs": [
    {
     "name": "stdout",
     "output_type": "stream",
     "text": [
      "Given a passage from a movie script and a character mentioned in it, find the quality, tone, pitch, accent, or any other attributes of the character's voice using only the passage text. Write your answer as briefly as possible. If you cannot find any attributes of the character's voice, write CANNOT ANSWER.\n",
      "\n",
      "Passage: <PASSAGE>\n",
      "Character: <CHARACTER>\n",
      "Answer:\n"
     ]
    }
   ],
   "source": [
    "attr = \"voice\"\n",
    "attr_df = sample_df[sample_df[\"attr\"] == attr]\n",
    "\n",
    "template = \"\"\"Given a passage from a movie script and a character mentioned in it, find the quality, tone, pitch, accent, or any other attributes of the character's voice using only the passage text. Write your answer as briefly as possible. If you cannot find any attributes of the character's voice, write CANNOT ANSWER.\n",
    "\n",
    "Passage: <PASSAGE>\n",
    "Character: <CHARACTER>\n",
    "Answer:\n",
    "\"\"\"\n",
    "\n",
    "print(template.strip())"
   ]
  },
  {
   "cell_type": "code",
   "execution_count": 38,
   "metadata": {},
   "outputs": [
    {
     "name": "stderr",
     "output_type": "stream",
     "text": [
      "100%|██████████| 32/32 [00:16<00:00,  1.99it/s]"
     ]
    },
    {
     "name": "stdout",
     "output_type": "stream",
     "text": [
      "\n"
     ]
    },
    {
     "name": "stderr",
     "output_type": "stream",
     "text": [
      "\n"
     ]
    }
   ],
   "source": [
    "outputs = []\n",
    "\n",
    "for _, row in tqdm.tqdm(attr_df.iterrows(), total=len(attr_df)):\n",
    "    text, character = row[\"text\"], row[\"character\"]\n",
    "    prompt = template.replace(\"<PASSAGE>\", text).replace(\"<CHARACTER>\", character).strip()\n",
    "    output = prompt_sample(prompt, temperature=0)\n",
    "    outputs.append(output)\n",
    "print()"
   ]
  },
  {
   "cell_type": "code",
   "execution_count": 40,
   "metadata": {},
   "outputs": [],
   "source": [
    "with open(os.path.join(data_dir, f\"attr_instr/{attr}/{attr}.txt\"), \"w\") as fw:\n",
    "    for (_, row), output in zip(attr_df.iterrows(), outputs):\n",
    "        text, character = row[\"text\"], row[\"character\"]\n",
    "        completion = output[\"choices\"][0][\"text\"]\n",
    "        fw.write(f\"Passage: {text}\\n\")\n",
    "        fw.write(f\"Character: {character}\\n\")\n",
    "        fw.write(f\"Answer: {completion.strip()}\\n\\n\")"
   ]
  },
  {
   "cell_type": "code",
   "execution_count": 41,
   "metadata": {},
   "outputs": [
    {
     "name": "stdout",
     "output_type": "stream",
     "text": [
      "495 tokens\n"
     ]
    }
   ],
   "source": [
    "attr_prompt_file = os.path.join(data_dir, f\"attr_instr/{attr}/prompt.txt\")\n",
    "with open(attr_prompt_file, \"r\") as fr:\n",
    "    attr_instr = fr.read().strip()\n",
    "n_tokens = len(encoding.encode(attr_instr))\n",
    "print(f\"{n_tokens} tokens\")"
   ]
  },
  {
   "attachments": {},
   "cell_type": "markdown",
   "metadata": {},
   "source": [
    "# CoT"
   ]
  },
  {
   "cell_type": "code",
   "execution_count": 38,
   "metadata": {},
   "outputs": [],
   "source": [
    "attrs = sorted(sample_df[\"attr\"].unique())\n",
    "instruction_dict, demonstrations_dict = {}, {}\n",
    "\n",
    "for attr in attrs:\n",
    "    prompt_file = os.path.join(data_dir, \"attr_instr\", attr, \"prompt.txt\")\n",
    "    with open(prompt_file, \"r\") as fr:\n",
    "        prompt_lines = fr.read().strip().split(\"\\n\")\n",
    "    instruction = prompt_lines[0]\n",
    "    demonstrations = []\n",
    "    if attr == \"goal\":\n",
    "        i = 3\n",
    "        while i < len(prompt_lines):\n",
    "            passage = []\n",
    "            while prompt_lines[i] != \"\":\n",
    "                passage.append(prompt_lines[i])\n",
    "                i += 1\n",
    "            demonstrations.append((\"\\n\".join(passage).strip(), \n",
    "                                   prompt_lines[i + 1].lstrip(\"Character:\").strip(), \n",
    "                                   prompt_lines[i + 2].lstrip(\"Answer:\").strip()))\n",
    "            i += 6\n",
    "    else:\n",
    "        i = 2\n",
    "        while i < len(prompt_lines):\n",
    "            demonstrations.append((prompt_lines[i].lstrip(\"Passage:\").strip(), \n",
    "                                   prompt_lines[i + 1].lstrip(\"Character:\").strip(), \n",
    "                                   prompt_lines[i + 2].lstrip(\"Answer:\").strip()))\n",
    "            i += 4\n",
    "    instruction_dict[attr] = instruction\n",
    "    demonstrations_dict[attr] = demonstrations"
   ]
  },
  {
   "attachments": {},
   "cell_type": "markdown",
   "metadata": {},
   "source": [
    "## Accomplishments"
   ]
  },
  {
   "cell_type": "code",
   "execution_count": 32,
   "metadata": {},
   "outputs": [
    {
     "name": "stdout",
     "output_type": "stream",
     "text": [
      "Given a passage from a movie script and a character mentioned in it, find what the character has accomplished or achieved in the past using only the passage text. Include only significant positive achievements such as winning an award, overcoming a challenge, learning a skill, or completing their education. Give an answer as briefly as possible without missing the important facts. If you cannot find any accomplishments, write CANNOT ANSWER.\n",
      "\n",
      "Passage: DELLA FRYE, 26, crosses the newsroom. Stylish, Meticulouslygroomed, ambitious - she's a successful blogger who recently accepted a position on the Globe's fledgling internet edition. She heads toward Cal's desk... then slows a bit, not wanting to barge in while he's on the phone. We peer over his cubicle wall, as:\n",
      "Character: Della Frye\n",
      "Accomplishments: Successful blogger; accepted a position on the Globe's fledgling internet edition.\n",
      "\n",
      "Passage: Rita walks to her minivan alone, in a hurry. She Jumps in and starts the stubborn engine. HELEN ( V , 0 . ) But her dedication had paid off, Marcos was now an honor student and as such, was on a field trip to Washington D.C.,. For the first time since her son was nine, Rita would be early for work. The engine starts and she is on her way.\n",
      "Character: RITA\n",
      "Accomplishments: Raised her son to be an honor student.\n",
      "\n",
      "Passage: Chris leaves Rose's room. A door at the end of the hallway is a crack open. Chris slowly walks down the hall, and peers inside. A couple lacrosse trophies and one for ju-jitsu. Jeremy's room. Movement inside. It's Georgina making the bed. The door creaks alerting her of his presence, she turns slowly. Before she sees him he walks quickly back to Rose's room just as she comes\n",
      "Character: CHRIS\n",
      "Accomplishments: CANNOT ANSWER\n",
      "\n",
      "Passage: Cruz is best known for her many collaborations with Pedro Almodovar, which began with a small role in LIVE FLESH, followed by a role in the ensemble cast of ALL ABOUT MY MOTHER (awarded the Golden Globe(r) and Oscar(r) for Best Foreign Film), and the lead roles in VOLVER and BROKEN EMBRACES. In addition to her Academy Award(r) nomination for VOLVER, Cruz won a Goya, a European Film Award, shared Best Actress at Cannes, and received nominations for a Golden Globe(r), and BAFTA and SAG Awards.\n",
      "Character: CRUZ\n",
      "Accomplishments: Won Goya, European Film Award, shared Best Actress at Cannes, Academy Award(r) nomination for VOLVER, Golden Globe(r), BAFTA and SAG Award nominations.\n",
      "\n",
      "Passage: Oliver looking at a copy of the local news. We see an article on Zoe. There's a post-it note on it from Jill. 'Isn't this your friend Zoe?! Mum x' 'Local girl Zoe Preece wins modelling contract'. There is a quote: \"the kids at school called me fat. I suppose they should see me now.\" \"I was so unhappy the weight just fell off.\" There is a photo-shopped picture of Zoe, looking much thinner. OLIVER has a bottle of whiskey next to him. He takes a gulp.\n",
      "Character: ZOE PREECE\n",
      "Accomplishments: Won a modelling contract.\n",
      "\n",
      "Passage: The truck comes to a stop and two men get out. One is young, early 20's, and even at this hour his step is lively, his face full of warmth. He walks over to Natalie and gives her a kiss. The young man from the opening scene, rRANK FOWLER. The other man leans back against the passenger door. He is in his early 50's. Kind face, good looking, athletic in his day - Frank's father, MATT. He smiles at Natalie. Natalie smiles back.\n",
      "Character: MATT\n",
      "Accomplishments: CANNOT ANSWER\n",
      "\n"
     ]
    }
   ],
   "source": [
    "attr = \"accomplishments\"\n",
    "print(instruction_dict[attr])\n",
    "print()\n",
    "for passage, character, answer in demonstrations_dict[attr]:\n",
    "    print(f\"Passage: {passage}\")\n",
    "    print(f\"Character: {character}\")\n",
    "    print(f\"{attr.title()}: {answer}\")\n",
    "    print()"
   ]
  },
  {
   "cell_type": "code",
   "execution_count": 23,
   "metadata": {},
   "outputs": [
    {
     "name": "stdout",
     "output_type": "stream",
     "text": [
      "Given a passage from a movie script, a character mentioned in the passage, and a description of the past accomplishments or achievements of the character, very briefly explain why the passage supports or how it gives evidence about those accomplishments. If the accomplishments field contains CANNOT ANSWER, then explain why you cannot find any past accomplishments or achievements of the character from the passage. If the accomplishments have been mostly copied from the passage, you can answer as COPY.\n",
      "\n",
      "Passage: <Passage>\n",
      "Character: <Character>\n",
      "Accomplishments: <Attr>\n",
      "Answer:\n"
     ]
    }
   ],
   "source": [
    "template = f\"\"\"Given a passage from a movie script, a character mentioned in the passage, and a description of the past accomplishments or achievements of the character, very briefly explain why the passage supports or how it gives evidence about those accomplishments. If the accomplishments field contains CANNOT ANSWER, then explain why you cannot find any past accomplishments or achievements of the character from the passage. If the accomplishments have been mostly copied from the passage, you can answer as COPY.\n",
    "\n",
    "Passage: <Passage>\n",
    "Character: <Character>\n",
    "{attr.title()}: <Attr>\n",
    "Answer:\n",
    "\"\"\"\n",
    "print(template.strip())"
   ]
  },
  {
   "cell_type": "code",
   "execution_count": 24,
   "metadata": {},
   "outputs": [
    {
     "name": "stderr",
     "output_type": "stream",
     "text": [
      "100%|██████████| 6/6 [00:31<00:00,  5.24s/it]\n"
     ]
    }
   ],
   "source": [
    "explanations = []\n",
    "\n",
    "for passage, character, answer in tqdm.tqdm(demonstrations_dict[\"accomplishments\"]):\n",
    "    prompt = template.replace(\"<Passage>\", passage).replace(\"<Character>\", character).replace(\"<Attr>\", answer)\n",
    "    output = prompt_sample(prompt, temperature=0)\n",
    "    explanations.append(output)"
   ]
  },
  {
   "cell_type": "code",
   "execution_count": 28,
   "metadata": {},
   "outputs": [],
   "source": [
    "with open(os.path.join(data_dir, f\"attr_instr/{attr}/explanations.txt\"), \"w\") as fw:\n",
    "    for (passage, character, answer), explanation in zip(demonstrations_dict[\"accomplishments\"], explanations):\n",
    "        completion = explanation[\"choices\"][0][\"text\"].strip()\n",
    "        fw.write(f\"Passage: {passage}\\n\")\n",
    "        fw.write(f\"Character: {character}\\n\")\n",
    "        fw.write(f\"{attr.title()}: {answer}\\n\")\n",
    "        fw.write(f\"Explanation: {completion}\\n\\n\")"
   ]
  },
  {
   "cell_type": "code",
   "execution_count": 29,
   "metadata": {},
   "outputs": [
    {
     "name": "stdout",
     "output_type": "stream",
     "text": [
      "1164 tokens\n"
     ]
    }
   ],
   "source": [
    "attr_prompt_file = os.path.join(data_dir, f\"attr_instr/{attr}/cot_prompt.txt\")\n",
    "with open(attr_prompt_file, \"r\") as fr:\n",
    "    attr_instr = fr.read().strip()\n",
    "n_tokens = len(encoding.encode(attr_instr))\n",
    "print(f\"{n_tokens} tokens\")"
   ]
  },
  {
   "attachments": {},
   "cell_type": "markdown",
   "metadata": {},
   "source": [
    "## Age"
   ]
  },
  {
   "cell_type": "code",
   "execution_count": 6,
   "metadata": {},
   "outputs": [
    {
     "name": "stdout",
     "output_type": "stream",
     "text": [
      "Given a passage from a movie script and a character mentioned in it, infer the current age of the character using only the passage text. If you cannot infer their age, write CANNOT ANSWER.\n",
      "\n",
      "Passage: KEYS in the lock. LAUGHTER in the hallway. The door swings open to reveal a drenched Will (29) carrying four sacks of groceries, the bottoms collapsing from the rain. His wife Josephine (28) pushes past him to get the phone.\n",
      "Character: WILL\n",
      "Age: 29\n",
      "\n",
      "Passage: JULIA nods to LITTLE JULIA, standing by the record player, who puts on a '78: \"Oh John My Son To Me You Are so Wonderful\". It's a 30's ballad - definitely not rock and roll. The room falls quiet, thinking 'what is this shiite'. JULIA re-appears from the kitchen holding a birthday cake, 17 candles on top. She brings it to JOHN. He eyes her before blowing out the candles.\n",
      "Character: John\n",
      "Age: 17\n",
      "\n",
      "Passage: We spot a snippet: \"The Girl: Sweet Sixteen and never -- well, once or twice.\" Fay finishes, rises, switches to Mandarin:\n",
      "Character: FAY\n",
      "Age: CANNOT ANSWER\n",
      "\n",
      "Passage: Hub, stands in the same grief-stricken stance, forty years later: his sorrow and grief still so intense, so crippling, after all those years. Walter's heart breaks in two.\n",
      "Character: Hub\n",
      "Age: Over 40\n",
      "\n",
      "Passage: Bridget sits on her bare mattress. She opens her laptop and writes in google's search bar: \"What to do with my life\". It autofills in \"quiz, at 20, at 35, at 50.\" She clicks on \"at 35.\"\n",
      "Character: Bridget\n",
      "Age: 35\n",
      "\n",
      "Passage: An adult Puff and his now older father sit on the forest floor and pick bugs off each other and eat them.\n",
      "Character: PUFF\n",
      "Age: CANNOT ANSWER\n",
      "\n"
     ]
    }
   ],
   "source": [
    "attr = \"age\"\n",
    "print(instruction_dict[attr])\n",
    "print()\n",
    "for passage, character, answer in demonstrations_dict[attr]:\n",
    "    print(f\"Passage: {passage}\")\n",
    "    print(f\"Character: {character}\")\n",
    "    print(f\"{attr.title()}: {answer}\")\n",
    "    print()"
   ]
  },
  {
   "cell_type": "code",
   "execution_count": 7,
   "metadata": {},
   "outputs": [
    {
     "name": "stdout",
     "output_type": "stream",
     "text": [
      "Given a passage from a movie script, a character mentioned in the passage, and the age of the character, very briefly explain why the passage supports or how it gives evidence about the character's age. If the age field contains CANNOT ANSWER, then explain why you cannot find the character's age from the passage.\n",
      "\n",
      "Passage: <Passage>\n",
      "Character: <Character>\n",
      "Age: <Attr>\n",
      "Answer:\n"
     ]
    }
   ],
   "source": [
    "template = f\"\"\"Given a passage from a movie script, a character mentioned in the passage, and the age of the character, very briefly explain why the passage supports or how it gives evidence about the character's age. If the age field contains CANNOT ANSWER, then explain why you cannot find the character's age from the passage.\n",
    "\n",
    "Passage: <Passage>\n",
    "Character: <Character>\n",
    "{attr.title()}: <Attr>\n",
    "Answer:\n",
    "\"\"\"\n",
    "print(template.strip())"
   ]
  },
  {
   "cell_type": "code",
   "execution_count": 8,
   "metadata": {},
   "outputs": [
    {
     "name": "stderr",
     "output_type": "stream",
     "text": [
      "100%|██████████| 6/6 [00:19<00:00,  3.27s/it]\n"
     ]
    }
   ],
   "source": [
    "explanations = []\n",
    "\n",
    "for passage, character, answer in tqdm.tqdm(demonstrations_dict[attr]):\n",
    "    prompt = template.replace(\"<Passage>\", passage).replace(\"<Character>\", character).replace(\"<Attr>\", answer)\n",
    "    output = prompt_sample(prompt, temperature=0)\n",
    "    explanations.append(output)"
   ]
  },
  {
   "cell_type": "code",
   "execution_count": 9,
   "metadata": {},
   "outputs": [],
   "source": [
    "with open(os.path.join(data_dir, f\"attr_instr/{attr}/explanations.txt\"), \"w\") as fw:\n",
    "    for (passage, character, answer), explanation in zip(demonstrations_dict[attr], explanations):\n",
    "        completion = explanation[\"choices\"][0][\"text\"].strip()\n",
    "        fw.write(f\"Passage: {passage}\\n\")\n",
    "        fw.write(f\"Character: {character}\\n\")\n",
    "        fw.write(f\"{attr.title()}: {answer}\\n\")\n",
    "        fw.write(f\"Explanation: {completion}\\n\\n\")"
   ]
  },
  {
   "attachments": {},
   "cell_type": "markdown",
   "metadata": {},
   "source": [
    "## Attire"
   ]
  },
  {
   "cell_type": "code",
   "execution_count": 10,
   "metadata": {},
   "outputs": [
    {
     "name": "stdout",
     "output_type": "stream",
     "text": [
      "Given a passage from a movie script and a character mentioned in it, find what clothes or type of attire is worn by the character using only the passage text. If they are not wearing anything, answer as NUDE. If you cannot find an answer, write CANNOT ANSWER.\n",
      "\n",
      "Passage: Pavel exits office, closing the door. Doug gets out the envelope with the money in and writes on it \"BUGLER\", name and address, attention Henry Whittaker. Doug then puts the envelope back in his jacket pocket and moves to the window.\n",
      "Character: DOUG\n",
      "Attire: Jacket\n",
      "\n",
      "Passage: In the fine master bedroom, MISS ELEANOR HAVISHAM sits in front of a mirror. It's hard to see her face beneath the veil, but she's a little older than one might expect for a bride in the last years of the 18th Century. Nevertheless, there's no mistaking the grace and beauty there - nor the discontent and resentment in the eyes of ARTHUR HAVISHAM, the half-brother, sulky and malign.\n",
      "Character: ELEANOR HAVISHAM\n",
      "Attire: WEDDING DRESS\n",
      "\n",
      "Passage: Nick, Dev, Thom and the Beefy Guy are combing getting distracted by a CHORUS of MEN dressed sans pants. Dev is especially distracted.\n",
      "Character: Dev\n",
      "Attire: CANNOT ANSWER\n",
      "\n",
      "Passage: Faith wades into the water then submerges under its icy surface. Emily peels off her dress down to her bra and underwear. She wades into the water with a gasp, her jaw clenched against the cold. Faith surfaces and treads water.\n",
      "Character: EMILY\n",
      "Attire: BRA and UNDERWEAR\n",
      "\n",
      "Passage: Harvey has lunch with the \"gay establishment\": DAVID GOODSTEIN, 58, gold and turquoise jewelry, and Goodstein's protege, RICK STOKES, 45, reserved. Rick can't keep his eyes off naked Scott in the pool.\n",
      "Character: Scott\n",
      "Attire: NUDE\n",
      "\n",
      "Passage: Jimmy Dix leaves the bedroom. Pads barefoot down a hall littered with beer cans, food wrappers. A sleeping guy. Stops at a door, peeks in: all-night poker game in progress. Four bleary-eyed men. Unshaven. Stack of wrinkled money on a card table.\n",
      "Character: Jimmy Dix\n",
      "Attire: CANNOT ANSWER\n",
      "\n",
      "Passage: shoves Gang Banger #1 off of her as Jason returns his attention to her. She grabs a loose brick and FLINGS IT AT HIM, CRACKING HIS HOCKEY MASK, momentarily disorienting him. Rennie sprints away.\n",
      "Character: Jason\n",
      "Attire: TTIRE: Hockey Mask\n",
      "\n"
     ]
    }
   ],
   "source": [
    "attr = \"attire\"\n",
    "print(instruction_dict[attr])\n",
    "print()\n",
    "for passage, character, answer in demonstrations_dict[attr]:\n",
    "    print(f\"Passage: {passage}\")\n",
    "    print(f\"Character: {character}\")\n",
    "    print(f\"{attr.title()}: {answer}\")\n",
    "    print()"
   ]
  },
  {
   "cell_type": "code",
   "execution_count": 11,
   "metadata": {},
   "outputs": [
    {
     "name": "stdout",
     "output_type": "stream",
     "text": [
      "Given a passage from a movie script, a character mentioned in the passage, and the attire worn by the character, very briefly explain why the passage supports or how it gives evidence about the character's attire or what clothes they are wearing. If the attire field contains CANNOT ANSWER, then explain why you cannot find the character's attire from the passage.\n",
      "\n",
      "Passage: <Passage>\n",
      "Character: <Character>\n",
      "Attire: <Attr>\n",
      "Answer:\n"
     ]
    }
   ],
   "source": [
    "template = f\"\"\"Given a passage from a movie script, a character mentioned in the passage, and the attire worn by the character, very briefly explain why the passage supports or how it gives evidence about the character's attire or what clothes they are wearing. If the attire field contains CANNOT ANSWER, then explain why you cannot find the character's attire from the passage.\n",
    "\n",
    "Passage: <Passage>\n",
    "Character: <Character>\n",
    "{attr.title()}: <Attr>\n",
    "Answer:\n",
    "\"\"\"\n",
    "print(template.strip())"
   ]
  },
  {
   "cell_type": "code",
   "execution_count": 12,
   "metadata": {},
   "outputs": [
    {
     "name": "stderr",
     "output_type": "stream",
     "text": [
      "100%|██████████| 7/7 [00:17<00:00,  2.44s/it]\n"
     ]
    }
   ],
   "source": [
    "explanations = []\n",
    "\n",
    "for passage, character, answer in tqdm.tqdm(demonstrations_dict[attr]):\n",
    "    prompt = template.replace(\"<Passage>\", passage).replace(\"<Character>\", character).replace(\"<Attr>\", answer)\n",
    "    output = prompt_sample(prompt, temperature=0)\n",
    "    explanations.append(output)"
   ]
  },
  {
   "cell_type": "code",
   "execution_count": 13,
   "metadata": {},
   "outputs": [],
   "source": [
    "with open(os.path.join(data_dir, f\"attr_instr/{attr}/explanations.txt\"), \"w\") as fw:\n",
    "    for (passage, character, answer), explanation in zip(demonstrations_dict[attr], explanations):\n",
    "        completion = explanation[\"choices\"][0][\"text\"].strip()\n",
    "        fw.write(f\"Passage: {passage}\\n\")\n",
    "        fw.write(f\"Character: {character}\\n\")\n",
    "        fw.write(f\"{attr.title()}: {answer}\\n\")\n",
    "        fw.write(f\"Explanation: {completion}\\n\\n\")"
   ]
  },
  {
   "attachments": {},
   "cell_type": "markdown",
   "metadata": {},
   "source": [
    "## Attitude"
   ]
  },
  {
   "cell_type": "code",
   "execution_count": 15,
   "metadata": {},
   "outputs": [
    {
     "name": "stdout",
     "output_type": "stream",
     "text": [
      "Given a passage from a movie script and a character mentioned in it, infer the attitude, opinion or evaluation of the character which they hold towards something or someone in the passage text. Write your answer as briefly as possible. If you cannot infer the attitude of the character, write CANNOT ANSWER.\n",
      "\n",
      "Passage: Neo's eyes light up as he steps closer to the screens that seem alive with a constant flow of data.\n",
      "Character: Neo\n",
      "Attitude: Interested.\n",
      "\n",
      "Passage: Just look for Mr. Pelikas. And be careful. Todd gives Frady a hugely hostile look, but he goes down the hall toward back of house.\n",
      "Character: FRADY\n",
      "Attitude: CANNOT ANSWER\n",
      "\n",
      "Passage: Steven yanks the knife back out, and gently places it in Billy's tiny hands, wrapping his son's fingers around the wooden handle. The boy grins like he was just handed a new toy. Steven smiles proudly, almost teary-eyed. Together, they stare at the head. It's a real father and son moment.\n",
      "Character: BILLY\n",
      "Attitude: Excitement/happiness\n",
      "\n",
      "Passage: Tight on JOHN slumped back in a chair. The worst possible news just delivered. Hear tears and visceral moans off. But we just stay on JOHN - still like death.\n",
      "Character: JOHN\n",
      "Attitude: Despair\n",
      "\n",
      "Passage: Courtney silent. Struck by that. And she wants more, needs to ask Lauren a dozen follow-up questions -But they're wheeling Lauren away, off into the tumult of the busy hospital and -Courtney.\n",
      "Character: COURTNEY\n",
      "Attitude: CANNOT ANSWER\n",
      "\n",
      "Passage: Merrick stands before the row of smiling ladies on his wall. He surveys them lovingly for a long moment. He is holding in his hand a bundle of evening clothes, the handsome black bow tie lying on the new silk shirt.\n",
      "Character: MERRICK\n",
      "Attitude: Merrick holds a loving attitude towards the ladies on his wall.\n",
      "\n"
     ]
    }
   ],
   "source": [
    "attr = \"attitude\"\n",
    "print(instruction_dict[attr])\n",
    "print()\n",
    "for passage, character, answer in demonstrations_dict[attr]:\n",
    "    print(f\"Passage: {passage}\")\n",
    "    print(f\"Character: {character}\")\n",
    "    print(f\"{attr.title()}: {answer}\")\n",
    "    print()"
   ]
  },
  {
   "cell_type": "code",
   "execution_count": 16,
   "metadata": {},
   "outputs": [
    {
     "name": "stdout",
     "output_type": "stream",
     "text": [
      "Given a passage from a movie script, a character mentioned in the passage, and the attitude of the character, very briefly explain why the passage supports or how it gives evidence about the character's attitude, opinion or evaluation towards something or someone in the passage text. If the attitude field contains CANNOT ANSWER, then explain why you cannot find the character's attitude from the passage.\n",
      "\n",
      "Passage: <Passage>\n",
      "Character: <Character>\n",
      "Attitude: <Attr>\n",
      "Answer:\n"
     ]
    }
   ],
   "source": [
    "template = f\"\"\"Given a passage from a movie script, a character mentioned in the passage, and the attitude of the character, very briefly explain why the passage supports or how it gives evidence about the character's attitude, opinion or evaluation towards something or someone in the passage text. If the attitude field contains CANNOT ANSWER, then explain why you cannot find the character's attitude from the passage.\n",
    "\n",
    "Passage: <Passage>\n",
    "Character: <Character>\n",
    "{attr.title()}: <Attr>\n",
    "Answer:\n",
    "\"\"\"\n",
    "print(template.strip())"
   ]
  },
  {
   "cell_type": "code",
   "execution_count": 17,
   "metadata": {},
   "outputs": [
    {
     "name": "stderr",
     "output_type": "stream",
     "text": [
      "100%|██████████| 6/6 [00:17<00:00,  2.94s/it]\n"
     ]
    }
   ],
   "source": [
    "explanations = []\n",
    "\n",
    "for passage, character, answer in tqdm.tqdm(demonstrations_dict[attr]):\n",
    "    prompt = template.replace(\"<Passage>\", passage).replace(\"<Character>\", character).replace(\"<Attr>\", answer)\n",
    "    output = prompt_sample(prompt, temperature=0)\n",
    "    explanations.append(output)"
   ]
  },
  {
   "cell_type": "code",
   "execution_count": 18,
   "metadata": {},
   "outputs": [],
   "source": [
    "with open(os.path.join(data_dir, f\"attr_instr/{attr}/explanations.txt\"), \"w\") as fw:\n",
    "    for (passage, character, answer), explanation in zip(demonstrations_dict[attr], explanations):\n",
    "        completion = explanation[\"choices\"][0][\"text\"].strip()\n",
    "        fw.write(f\"Passage: {passage}\\n\")\n",
    "        fw.write(f\"Character: {character}\\n\")\n",
    "        fw.write(f\"{attr.title()}: {answer}\\n\")\n",
    "        fw.write(f\"Explanation: {completion}\\n\\n\")"
   ]
  },
  {
   "attachments": {},
   "cell_type": "markdown",
   "metadata": {},
   "source": [
    "## Demeanor"
   ]
  },
  {
   "cell_type": "code",
   "execution_count": 19,
   "metadata": {},
   "outputs": [
    {
     "name": "stdout",
     "output_type": "stream",
     "text": [
      "Given a passage from a movie script and a character mentioned in it, infer the demeanor, manners, bearing, or outward behavior of the character using only the passage text. Write your answer as briefly as possible. If you cannot infer the demeanor of the character, write CANNOT ANSWER.\n",
      "\n",
      "Passage: A man toils over a pot of simmering tomato sauce. He is a handsome Italian-American with big brown eyes. He is VICTOR. Victor tastes the sauce he's cooking the way a sommelier tastes wine. Slow and deliberate. He's pleased but subdued. Victor carefully plates some of that fresh pasta with his sauce and takes it into the living room. Sophia looks stressed out. She keeps glancing at what looks like a draft of a magazine article, certain parts have been highlighted. She's in the middle of typing something when Victor approaches with the plate of food.\n",
      "Character: Victor\n",
      "Demeanor: Careful, pleased, subdued.\n",
      "\n",
      "Passage: As BRIDGE and CASTLE glimmer in the distance, Hagrid emerges from the Forbidden Forest, dragging a fistful of dead FERRETS by the tail. A BIRD appears, circles his head playfully, CHIRP-CHIRP-CHIRPING merrily before it... ... flutters off, pin-wheeling past flowers, into a BIRDBATH, finally coming to rest upon... ... an ANCIENT TREE. It TWITTERS cheerfully, singing its lovely song, when -- THWOCK! -- a branch punts the bird into the air. As feathers fly, the WHOMPING WILLOW resumes its shape.\n",
      "Character: HAGRID\n",
      "Demeanor: Calm and content.\n",
      "\n",
      "Passage: Let me out of here! Let me out! There's a deafening SOUND like a thousand bells ringing at once and Miranda covers her ears -- Outside WE HEAR MURMURS, YELLS, INSTRUCTIONS --\n",
      "Character: MIRANDA\n",
      "Demeanor: Frightened.\n",
      "\n",
      "Passage: Celie, this here Shug Avery. Old friend of the family. Fix up the spare room. Celie seems frozen on the spot.\n",
      "Character: SHUG AVERY\n",
      "Demeanor: CANNOT ANSWER\n",
      "\n",
      "Passage: Noa is seated at the table with a small donut pillow under her non-ass. The table has been moved over near the dish washer. Her left hand is handcuffed to the handle of it. SONG: Sade: \"Kiss of Life\" The song plays low from a speaker as Steve stands quietly mouthing along to the words while cutting the foil off a bottle of wine. Noa stares at his back deep in thoughts. Noa's eyes start to take in her surroundings with purpose. Click, to the knives, click, to Steve's cooking. Click, to the back kitchen door and the triple locks. Her eyes clicking everywhere are interrupted by Steve turning around..\n",
      "Character: STEVE\n",
      "Demeanor: Calm, focused.\n",
      "\n",
      "Passage: PRINCIPAL RICHARD MERKIN, mid-50's, marches down the hallway, seizing copies of \"EXPOSED!\" from students' hands. We can see that it is a \"homemade\" looking newspaper. And there's obviously much ado about it. Christy winks at Ted as she hides the newspaper in her locker.\n",
      "Character: CHRISTY\n",
      "Demeanor: Mischievous.\n",
      "\n"
     ]
    }
   ],
   "source": [
    "attr = \"demeanor\"\n",
    "print(instruction_dict[attr])\n",
    "print()\n",
    "for passage, character, answer in demonstrations_dict[attr]:\n",
    "    print(f\"Passage: {passage}\")\n",
    "    print(f\"Character: {character}\")\n",
    "    print(f\"{attr.title()}: {answer}\")\n",
    "    print()"
   ]
  },
  {
   "cell_type": "code",
   "execution_count": 20,
   "metadata": {},
   "outputs": [
    {
     "name": "stdout",
     "output_type": "stream",
     "text": [
      "Given a passage from a movie script, a character mentioned in the passage, and the demeanor of the character, very briefly explain why the passage supports or how it gives evidence about the character's demeanor, manners, bearing, or outward behavior. If the demeanor field contains CANNOT ANSWER, then explain why you cannot find the character's demeanor from the passage.\n",
      "\n",
      "Passage: <Passage>\n",
      "Character: <Character>\n",
      "Demeanor: <Attr>\n",
      "Answer:\n"
     ]
    }
   ],
   "source": [
    "template = f\"\"\"Given a passage from a movie script, a character mentioned in the passage, and the demeanor of the character, very briefly explain why the passage supports or how it gives evidence about the character's demeanor, manners, bearing, or outward behavior. If the demeanor field contains CANNOT ANSWER, then explain why you cannot find the character's demeanor from the passage.\n",
    "\n",
    "Passage: <Passage>\n",
    "Character: <Character>\n",
    "{attr.title()}: <Attr>\n",
    "Answer:\n",
    "\"\"\"\n",
    "print(template.strip())"
   ]
  },
  {
   "cell_type": "code",
   "execution_count": 21,
   "metadata": {},
   "outputs": [
    {
     "name": "stderr",
     "output_type": "stream",
     "text": [
      "100%|██████████| 6/6 [00:34<00:00,  5.73s/it]\n"
     ]
    }
   ],
   "source": [
    "explanations = []\n",
    "\n",
    "for passage, character, answer in tqdm.tqdm(demonstrations_dict[attr]):\n",
    "    prompt = template.replace(\"<Passage>\", passage).replace(\"<Character>\", character).replace(\"<Attr>\", answer)\n",
    "    output = prompt_sample(prompt, temperature=0)\n",
    "    explanations.append(output)"
   ]
  },
  {
   "cell_type": "code",
   "execution_count": 22,
   "metadata": {},
   "outputs": [],
   "source": [
    "with open(os.path.join(data_dir, f\"attr_instr/{attr}/explanations.txt\"), \"w\") as fw:\n",
    "    for (passage, character, answer), explanation in zip(demonstrations_dict[attr], explanations):\n",
    "        completion = explanation[\"choices\"][0][\"text\"].strip()\n",
    "        fw.write(f\"Passage: {passage}\\n\")\n",
    "        fw.write(f\"Character: {character}\\n\")\n",
    "        fw.write(f\"{attr.title()}: {answer}\\n\")\n",
    "        fw.write(f\"Explanation: {completion}\\n\\n\")"
   ]
  },
  {
   "attachments": {},
   "cell_type": "markdown",
   "metadata": {},
   "source": [
    "## Emotion"
   ]
  },
  {
   "cell_type": "code",
   "execution_count": 23,
   "metadata": {},
   "outputs": [
    {
     "name": "stdout",
     "output_type": "stream",
     "text": [
      "Given a passage from a movie script and a character mentioned in it, infer the emotions, feelings, or mental state of the character using only the passage text. Write your answer as briefly as possible. If you cannot infer the emotions of the character, write CANNOT ANSWER.\n",
      "\n",
      "Passage: IN THE MANUFACTORY: Armand enters, Ferroq and McGivens pushing Elena and Joaquin onward. IN THE TUNNEL: Zorro's getting the hell beaten out of him SEES THE FUSE moving toward the locomotive, manages to BREAK AWAY only to be TACKLED by the Stoker, Zorro's hand just out of reach of the fuse as it STREAKS ON -- and it's too late, there's no way he'll stop it now.\n",
      "Character: ZORRO\n",
      "Emotion: Frustration, desperation.\n",
      "\n",
      "Passage: Maurice is out of the truck and Kenneth, with a shotgun, is scrambling to be next. Buddy catches him by his jacket collar and holds him squirming until Foley is out.\n",
      "Character: KENNETH\n",
      "Emotion: Fear, panic.\n",
      "\n",
      "Passage: The ADMIRAL'S MEN are all in costume, and are in a buzz of nervous excitement. ALLEYN, dressed for \"MERCUTIO,\" is giving last minute instructions to PETER. JAMES and JOHN HEMMINGS are arguing about the timing of their entrance. FENNYMAN in his apothecary's cap is agonising over his lines. WABASH is stuttering over his. Alone in his dejection in the midst of all this, is WILL, dressed for \"Romeo.\" FENNYMAN approaches him, apothecary's cap in hand.\n",
      "Character: WABASH\n",
      "Emotion: Nervousness, anxiety.\n",
      "\n",
      "Passage: Kate's room is empty, and Dade can't resist going back in to play with her laptop, which far outclasses his own, some more. On the balcony, Kate notices and comes back in.\n",
      "Character: DADE\n",
      "Emotion: Curiosity, excitement.\n",
      "\n",
      "Passage: Queen's heart aches for the men in blue jumpsuits who mean nothing more to this country than a pair of strong hands that can do cheap manual labor. Is it?\n",
      "Character: QUEEN\n",
      "Emotion: Sadness\n",
      "\n",
      "Passage: She blinks the spray from her eyes, and deftly SEARS the wire dividing those two numbers on the board. As Mac keeps waving it, she goes off line. Concentrates. Gets it right. The wire PEELS away...\n",
      "Character: MAC\n",
      "Emotion: CANNOT ANSWER.\n",
      "\n",
      "Passage: Riggs lowers the gun. Lets go and drops twenty feet to the pavement. Lands, rolls, comes up. A CAR swerves around him. CRASHES into the guardrail. Riggs doesn't even look. Instead, he begins to walk. He is a fucking juggernaut.\n",
      "Character: RIGGS\n",
      "Emotion: Determined, focused.\n",
      "\n",
      "Passage: Adrienne gets several small suitcases from the closet, opens them on the bed. She begins packing as Gentry watches from the doorway. After a moment she stops, straightens. What?\n",
      "Character: ADRIENNE\n",
      "Emotion: CANNOT ANSWER.\n",
      "\n"
     ]
    }
   ],
   "source": [
    "attr = \"emotion\"\n",
    "print(instruction_dict[attr])\n",
    "print()\n",
    "for passage, character, answer in demonstrations_dict[attr]:\n",
    "    print(f\"Passage: {passage}\")\n",
    "    print(f\"Character: {character}\")\n",
    "    print(f\"{attr.title()}: {answer}\")\n",
    "    print()"
   ]
  },
  {
   "cell_type": "code",
   "execution_count": 24,
   "metadata": {},
   "outputs": [
    {
     "name": "stdout",
     "output_type": "stream",
     "text": [
      "Given a passage from a movie script, a character mentioned in the passage, and the emotion of the character, very briefly explain why the passage supports or how it gives evidence about the character's emotions, feelings, or mental state. If the emotion field contains CANNOT ANSWER, then explain why you cannot find the character's emotion from the passage.\n",
      "\n",
      "Passage: <Passage>\n",
      "Character: <Character>\n",
      "Emotion: <Attr>\n",
      "Answer:\n"
     ]
    }
   ],
   "source": [
    "template = f\"\"\"Given a passage from a movie script, a character mentioned in the passage, and the emotion of the character, very briefly explain why the passage supports or how it gives evidence about the character's emotions, feelings, or mental state. If the emotion field contains CANNOT ANSWER, then explain why you cannot find the character's emotion from the passage.\n",
    "\n",
    "Passage: <Passage>\n",
    "Character: <Character>\n",
    "{attr.title()}: <Attr>\n",
    "Answer:\n",
    "\"\"\"\n",
    "print(template.strip())"
   ]
  },
  {
   "cell_type": "code",
   "execution_count": 25,
   "metadata": {},
   "outputs": [
    {
     "name": "stderr",
     "output_type": "stream",
     "text": [
      "100%|██████████| 8/8 [00:27<00:00,  3.43s/it]\n"
     ]
    }
   ],
   "source": [
    "explanations = []\n",
    "\n",
    "for passage, character, answer in tqdm.tqdm(demonstrations_dict[attr]):\n",
    "    prompt = template.replace(\"<Passage>\", passage).replace(\"<Character>\", character).replace(\"<Attr>\", answer)\n",
    "    output = prompt_sample(prompt, temperature=0)\n",
    "    explanations.append(output)"
   ]
  },
  {
   "cell_type": "code",
   "execution_count": 26,
   "metadata": {},
   "outputs": [],
   "source": [
    "with open(os.path.join(data_dir, f\"attr_instr/{attr}/explanations.txt\"), \"w\") as fw:\n",
    "    for (passage, character, answer), explanation in zip(demonstrations_dict[attr], explanations):\n",
    "        completion = explanation[\"choices\"][0][\"text\"].strip()\n",
    "        fw.write(f\"Passage: {passage}\\n\")\n",
    "        fw.write(f\"Character: {character}\\n\")\n",
    "        fw.write(f\"{attr.title()}: {answer}\\n\")\n",
    "        fw.write(f\"Explanation: {completion}\\n\\n\")"
   ]
  },
  {
   "attachments": {},
   "cell_type": "markdown",
   "metadata": {},
   "source": [
    "## Eyes"
   ]
  },
  {
   "cell_type": "code",
   "execution_count": 28,
   "metadata": {},
   "outputs": [
    {
     "name": "stdout",
     "output_type": "stream",
     "text": [
      "Given a passage from a movie script and a character mentioned in it, find the eye color, eye shape, or any other attributes of the character's eyes. Write your answer as briefly as possible. If you cannot find any attributes of the character's eyes, write CANNOT ANSWER.\n",
      "\n",
      "Passage: CLAIRE stands before the Core. She is naked. Her skin is pale and beautiful and cold and wet. Her hair hangs in her face, covering her milk-white eyes...\n",
      "Character: CLAIRE\n",
      "Eyes: Milk-white.\n",
      "\n",
      "Passage: GALLY'S face is gaunt, something dark and unhinged just beneath the surface. His left eye clouded over, his right, cold and piercing.\n",
      "Character: GALLY\n",
      "Eyes: Left eye clouded, right eye cold and piercing.\n",
      "\n",
      "Passage: Julia is paralyzed against the wall. Staring into the dead as-marble eyes of Shepard. He looks her up and down.\n",
      "Character: SHEPARD\n",
      "Eyes: dead as marble\n",
      "\n",
      "Passage: With the soft HISS of hydraulics, she LOWERS herself down to where her face is very close to that of Data's. Her features are almost angelic, but the silvery glint in her eyes betrays an inner-darkness.\n",
      "Character: Data\n",
      "Eyes: CANNOT ANSWER\n",
      "\n",
      "Passage: The powerful SHUDDER is felt, amplified in the tank. NADIA shakes awake to see... LELAND is kneeling over her, eyes wide with hunger, deliciously sniffing her body. They both jump with fright and yell in unison.\n",
      "Character: LELAND\n",
      "Eyes: Wild, hungry\n",
      "\n",
      "Passage: Will walks past some boxes and opens the door There in the doorway stands the startling presence of FATHER SEAMUS, a reedy, older Catholic priest with sunken eyes and ashen skin - the air is foggy Will is taken aback by the man, waits a beat to compose himself WILL\n",
      "Character: WILL\n",
      "Eyes: CANNOT ANSWER\n",
      "\n",
      "Passage: ELEANOR ROOSEVELT, 34, is dictating a letter. Her enormous eyes, liquid and blue, reveal a woman of extraordinary intelligence and depth.\n",
      "Character: ELEANOR ROOSEVELT\n",
      "Eyes: Liquid and blue.\n",
      "\n"
     ]
    }
   ],
   "source": [
    "attr = \"eyes\"\n",
    "print(instruction_dict[attr])\n",
    "print()\n",
    "for passage, character, answer in demonstrations_dict[attr]:\n",
    "    print(f\"Passage: {passage}\")\n",
    "    print(f\"Character: {character}\")\n",
    "    print(f\"{attr.title()}: {answer}\")\n",
    "    print()"
   ]
  },
  {
   "cell_type": "code",
   "execution_count": 29,
   "metadata": {},
   "outputs": [
    {
     "name": "stdout",
     "output_type": "stream",
     "text": [
      "Given a passage from a movie script, a character mentioned in the passage, and some attributes of the eyes of the character, very briefly explain why the passage supports or how it gives evidence about those attributes of the character's eyes. If the eye field contains CANNOT ANSWER, then explain why you cannot find any attributes of the character's eyes from the passage.\n",
      "\n",
      "Passage: <Passage>\n",
      "Character: <Character>\n",
      "Eyes: <Attr>\n",
      "Answer:\n"
     ]
    }
   ],
   "source": [
    "template = f\"\"\"Given a passage from a movie script, a character mentioned in the passage, and some attributes of the eyes of the character, very briefly explain why the passage supports or how it gives evidence about those attributes of the character's eyes. If the eye field contains CANNOT ANSWER, then explain why you cannot find any attributes of the character's eyes from the passage.\n",
    "\n",
    "Passage: <Passage>\n",
    "Character: <Character>\n",
    "{attr.title()}: <Attr>\n",
    "Answer:\n",
    "\"\"\"\n",
    "print(template.strip())"
   ]
  },
  {
   "cell_type": "code",
   "execution_count": 30,
   "metadata": {},
   "outputs": [
    {
     "name": "stderr",
     "output_type": "stream",
     "text": [
      "100%|██████████| 7/7 [00:33<00:00,  4.74s/it]\n"
     ]
    }
   ],
   "source": [
    "explanations = []\n",
    "\n",
    "for passage, character, answer in tqdm.tqdm(demonstrations_dict[attr]):\n",
    "    prompt = template.replace(\"<Passage>\", passage).replace(\"<Character>\", character).replace(\"<Attr>\", answer)\n",
    "    output = prompt_sample(prompt, temperature=0)\n",
    "    explanations.append(output)"
   ]
  },
  {
   "cell_type": "code",
   "execution_count": 31,
   "metadata": {},
   "outputs": [],
   "source": [
    "with open(os.path.join(data_dir, f\"attr_instr/{attr}/explanations.txt\"), \"w\") as fw:\n",
    "    for (passage, character, answer), explanation in zip(demonstrations_dict[attr], explanations):\n",
    "        completion = explanation[\"choices\"][0][\"text\"].strip()\n",
    "        fw.write(f\"Passage: {passage}\\n\")\n",
    "        fw.write(f\"Character: {character}\\n\")\n",
    "        fw.write(f\"{attr.title()}: {answer}\\n\")\n",
    "        fw.write(f\"Explanation: {completion}\\n\\n\")"
   ]
  },
  {
   "attachments": {},
   "cell_type": "markdown",
   "metadata": {},
   "source": [
    "## Goal"
   ]
  },
  {
   "cell_type": "code",
   "execution_count": 39,
   "metadata": {},
   "outputs": [
    {
     "name": "stdout",
     "output_type": "stream",
     "text": [
      "Given a passage from a movie script and a character mentioned in it, find the goal or motive of the character, or what they are trying to achieve. Write your answer as briefly as possible. If you cannot find the goal of the character, write CANNOT ANSWER.\n"
     ]
    }
   ],
   "source": [
    "attr = \"goal\"\n",
    "print(instruction_dict[attr])"
   ]
  },
  {
   "cell_type": "code",
   "execution_count": 40,
   "metadata": {},
   "outputs": [
    {
     "name": "stdout",
     "output_type": "stream",
     "text": [
      "Given a passage from a movie script, a character mentioned in the passage, and the goal of the character, very briefly explain why the passage supports or how it gives evidence about the character's goal, motive, or what they are trying to achieve. If the goal field contains CANNOT ANSWER, then explain why you cannot find the character's goal from the passage.\n",
      "\n",
      "Passage:\n",
      "<Passage>\n",
      "\n",
      "Character: <Character>\n",
      "Goal: <Attr>\n",
      "Answer:\n"
     ]
    }
   ],
   "source": [
    "template = f\"\"\"Given a passage from a movie script, a character mentioned in the passage, and the goal of the character, very briefly explain why the passage supports or how it gives evidence about the character's goal, motive, or what they are trying to achieve. If the goal field contains CANNOT ANSWER, then explain why you cannot find the character's goal from the passage.\n",
    "\n",
    "Passage:\n",
    "<Passage>\n",
    "\n",
    "Character: <Character>\n",
    "{attr.title()}: <Attr>\n",
    "Answer:\n",
    "\"\"\"\n",
    "print(template.strip())"
   ]
  },
  {
   "cell_type": "code",
   "execution_count": 42,
   "metadata": {},
   "outputs": [],
   "source": [
    "explanations = []\n",
    "\n",
    "for passage, character, answer in tqdm.tqdm(demonstrations_dict[attr]):\n",
    "    prompt = template.replace(\"<Passage>\", passage).replace(\"<Character>\", character).replace(\"<Attr>\", answer)\n",
    "    output = prompt_sample(prompt, temperature=0)\n",
    "    explanations.append(output)"
   ]
  },
  {
   "cell_type": "code",
   "execution_count": 43,
   "metadata": {},
   "outputs": [],
   "source": [
    "with open(os.path.join(data_dir, f\"attr_instr/{attr}/explanations.txt\"), \"w\") as fw:\n",
    "    for (passage, character, answer), explanation in zip(demonstrations_dict[attr], explanations):\n",
    "        completion = explanation[\"choices\"][0][\"text\"].strip()\n",
    "        fw.write(f\"Passage: {passage}\\n\")\n",
    "        fw.write(f\"Character: {character}\\n\")\n",
    "        fw.write(f\"{attr.title()}: {answer}\\n\")\n",
    "        fw.write(f\"Explanation: {completion}\\n\\n\")"
   ]
  },
  {
   "attachments": {},
   "cell_type": "markdown",
   "metadata": {},
   "source": [
    "## Hair"
   ]
  },
  {
   "cell_type": "code",
   "execution_count": 44,
   "metadata": {},
   "outputs": [
    {
     "name": "stdout",
     "output_type": "stream",
     "text": [
      "Given a passage from a movie script and a character mentioned in it, find the hair color, hair type or other attributes of the character's hair. Write your answer as briefly as possible. If you cannot find any attributes of the character's hair, write CANNOT ANSWER.\n",
      "\n",
      "Passage: She's just about to say something when RAY GRIFFEN arrives. Ray's the starting tailback, black, handsome, clean-cut, well-spoken, middle class.\n",
      "Character: RAY\n",
      "Hair: CANNOT ANSWER\n",
      "\n",
      "Passage: Carter switches on the light. Edna is pressed against the far wall, holding a poker. Her dress is torn and her hair dishevelled. When she sees Carter, she sighs with relief.\n",
      "Character: EDNA\n",
      "Hair: Dishevelled\n",
      "\n",
      "Passage: The bespectacled, short-haired MURRAY ROSENBERG, 48, looks over and spots Danny listening outside. Murray walks over and shuts the door. He looks at DR. SWEENEY, who now has his jacket off.\n",
      "Character: Danny\n",
      "Hair: CANNOT ANSWER\n",
      "\n",
      "Passage: She points to a table at the side of the restaurant. JIMMY ELLIS, a bald. little man in his 80's, is sitting at a table. With him is another MAN, VINCE, also in his 80's. Harry and Archie approach. Jimmy looks up, recognizes them immediately and smiles. JIIvIMY\n",
      "Character: JIMMY\n",
      "Hair: Bald\n",
      "\n",
      "Passage: Cynthia stands at a MAGNIFYING MIRROR, moving her finger across her jaw, feeling something. She leans in and lifts her chin. IN THE MIRROR, her magnified chin sprouts ONE BRISTLY HAIR. Cynthia locates some TWEEZERS and tries to grab the offending hair. Her first attempt fails, so she tries again, pulling her lips into her mouth. GOT IT! She holds the tweezers up to examine the wiry whisker, then notices a PIN-SIZED DROP OF BLOOD on her chin. She grabs some toilet paper and dabs at it.\n",
      "Character: CYNTHIA\n",
      "Hair: CANNOT ANSWER\n",
      "\n",
      "Passage: ON ROSALIE, 18, long blonde hair, model beautiful, knows it. Alongside her is EMMETT, 17, big, brawny, like a weight lifter, but a playful glint in his eye.\n",
      "Character: ROSALIE\n",
      "Hair: Long blonde hair\n",
      "\n",
      "Passage: Monica emerges, walking her banana-seater. She is looking cute in her yellow dress and braids tied with ribbons. A basketball sits in her back basket.\n",
      "Character: MONICA\n",
      "Hair: Braids, ribbons\n",
      "\n"
     ]
    }
   ],
   "source": [
    "attr = \"hair\"\n",
    "print(instruction_dict[attr])\n",
    "print()\n",
    "for passage, character, answer in demonstrations_dict[attr]:\n",
    "    print(f\"Passage: {passage}\")\n",
    "    print(f\"Character: {character}\")\n",
    "    print(f\"{attr.title()}: {answer}\")\n",
    "    print()"
   ]
  },
  {
   "cell_type": "code",
   "execution_count": 45,
   "metadata": {},
   "outputs": [
    {
     "name": "stdout",
     "output_type": "stream",
     "text": [
      "Given a passage from a movie script, a character mentioned in the passage, and some attributes of the character's hair, very briefly explain why the passage supports or how it gives evidence about those attributes of the character's hair. If the hair field contains CANNOT ANSWER, then explain why you cannot find any attributes of the character's hair from the passage.\n",
      "\n",
      "Passage: <Passage>\n",
      "Character: <Character>\n",
      "Hair: <Attr>\n",
      "Answer:\n"
     ]
    }
   ],
   "source": [
    "template = f\"\"\"Given a passage from a movie script, a character mentioned in the passage, and some attributes of the character's hair, very briefly explain why the passage supports or how it gives evidence about those attributes of the character's hair. If the hair field contains CANNOT ANSWER, then explain why you cannot find any attributes of the character's hair from the passage.\n",
    "\n",
    "Passage: <Passage>\n",
    "Character: <Character>\n",
    "{attr.title()}: <Attr>\n",
    "Answer:\n",
    "\"\"\"\n",
    "print(template.strip())"
   ]
  },
  {
   "cell_type": "code",
   "execution_count": 46,
   "metadata": {},
   "outputs": [
    {
     "name": "stderr",
     "output_type": "stream",
     "text": [
      "100%|██████████| 7/7 [00:21<00:00,  3.11s/it]\n"
     ]
    }
   ],
   "source": [
    "explanations = []\n",
    "\n",
    "for passage, character, answer in tqdm.tqdm(demonstrations_dict[attr]):\n",
    "    prompt = template.replace(\"<Passage>\", passage).replace(\"<Character>\", character).replace(\"<Attr>\", answer)\n",
    "    output = prompt_sample(prompt, temperature=0)\n",
    "    explanations.append(output)"
   ]
  },
  {
   "cell_type": "code",
   "execution_count": 47,
   "metadata": {},
   "outputs": [],
   "source": [
    "with open(os.path.join(data_dir, f\"attr_instr/{attr}/explanations.txt\"), \"w\") as fw:\n",
    "    for (passage, character, answer), explanation in zip(demonstrations_dict[attr], explanations):\n",
    "        completion = explanation[\"choices\"][0][\"text\"].strip()\n",
    "        fw.write(f\"Passage: {passage}\\n\")\n",
    "        fw.write(f\"Character: {character}\\n\")\n",
    "        fw.write(f\"{attr.title()}: {answer}\\n\")\n",
    "        fw.write(f\"Explanation: {completion}\\n\\n\")"
   ]
  },
  {
   "attachments": {},
   "cell_type": "markdown",
   "metadata": {},
   "source": [
    "## Physical appearance"
   ]
  },
  {
   "cell_type": "code",
   "execution_count": 49,
   "metadata": {},
   "outputs": [
    {
     "name": "stdout",
     "output_type": "stream",
     "text": [
      "Given a passage from a movie script and a character mentioned in it, find the explicitly described physical attributes of the character's body using only the passage text. Write your answer as briefly as possible. If you cannot find any physical attributes of the character's body, write CANNOT ANSWER.\n",
      "\n",
      "Passage: Hans pours the water on the fireplace, putting out the fire. Anna tries to stop him. She falls to the floor, weak.\n",
      "Character: ANNA\n",
      "Body: Weak.\n",
      "\n",
      "Passage: The untouched chicken broth sits on the night stand. Gideon is TALKING in his sleep. Morning light filters through the window shade. The room takes on a brownish tint. Gideon has dark rings under his eyes and looks like he has aged considerably.\n",
      "Character: Gideon\n",
      "Body: Dark rings under eyes, aged considerably.\n",
      "\n",
      "Passage: The archive footage continues, but it is not of the Coronation. David and Wallis visiting the Fuhrer in Germany: Hitler gallantly kissing Mrs Simpson's hand while Goring and the Duke of Windsor beam; David giving the Nazi salute. FREEZE FRAME. The lights come on. For once, Churchill is speechless.\n",
      "Character: CHURCHILL\n",
      "Body: CANNOT ANSWER.\n",
      "\n",
      "Passage: All.\" Our credits are intercut in the cement blocks as the camera pans across this local tourist attraction. Cut to SINCLAIR STEVENS, the handsome but intense 20-year-old theater manager as he adjusts the final letter of the film's title on the marquee, perched atop a ladder. SINCLAIR is dressed in an obviously rented tuxedo and for a moment seems like any other middle class suburban kid.\n",
      "Character: SINCLAIR STEVENS\n",
      "Body: Handsome, intense, 20-year-old.\n",
      "\n",
      "Passage: In the dingy gas station bathroom, Ben stands in front of a broken mirror, a newly bought hair clipper in his hand. He slowly, methodically, buzzes off his beard.\n",
      "Character: BEN\n",
      "Body: Ben has a beard.\n",
      "\n",
      "Passage: We see Rowley jot something in his notebook. We can read the words \"sash no good\" at the bottom of a list that includes \"no pics mommy\", \"long hair ok skateboard\" and \"butterflies = death\".\n",
      "Character: ROWLEY\n",
      "Body: CANNOT ANSWER\n",
      "\n",
      "Passage: Dazed SANDRA crawls across the carpet, determined, rigorous, vision-blurred, face bloodied. She pushes one of the patio-doors open, just slightly - too late - GARY grabs a handful of hair and hauls her back. Sandra's LEFT HAND, reaching out, clawing for the door-frame. She's dragged back until SLAM. GARY's steel cap boot rages down. A sickening crunch. Her hand under, his boot. Crushing it. An agonized howl. Silence.\n",
      "Character: Sandra\n",
      "Body: Bloodied face and hand.\n",
      "\n"
     ]
    }
   ],
   "source": [
    "attr = \"physical appearance\"\n",
    "print(instruction_dict[attr])\n",
    "print()\n",
    "for passage, character, answer in demonstrations_dict[attr]:\n",
    "    print(f\"Passage: {passage}\")\n",
    "    print(f\"Character: {character}\")\n",
    "    print(f\"Body: {answer}\")\n",
    "    print()"
   ]
  },
  {
   "cell_type": "code",
   "execution_count": 50,
   "metadata": {},
   "outputs": [
    {
     "name": "stdout",
     "output_type": "stream",
     "text": [
      "Given a passage from a movie script, a character mentioned in the passage, and some physical attributes of the character's body, very briefly explain why the passage supports or how it gives evidence about those physical attributes of the character. If the body field contains CANNOT ANSWER, then explain why you cannot find any physical attributes of the character's body from the passage.\n",
      "\n",
      "Passage: <Passage>\n",
      "Character: <Character>\n",
      "Body: <Attr>\n",
      "Answer:\n"
     ]
    }
   ],
   "source": [
    "template = f\"\"\"Given a passage from a movie script, a character mentioned in the passage, and some physical attributes of the character's body, very briefly explain why the passage supports or how it gives evidence about those physical attributes of the character. If the body field contains CANNOT ANSWER, then explain why you cannot find any physical attributes of the character's body from the passage.\n",
    "\n",
    "Passage: <Passage>\n",
    "Character: <Character>\n",
    "Body: <Attr>\n",
    "Answer:\n",
    "\"\"\"\n",
    "print(template.strip())"
   ]
  },
  {
   "cell_type": "code",
   "execution_count": 51,
   "metadata": {},
   "outputs": [
    {
     "name": "stderr",
     "output_type": "stream",
     "text": [
      "100%|██████████| 7/7 [00:18<00:00,  2.71s/it]\n"
     ]
    }
   ],
   "source": [
    "explanations = []\n",
    "\n",
    "for passage, character, answer in tqdm.tqdm(demonstrations_dict[attr]):\n",
    "    prompt = template.replace(\"<Passage>\", passage).replace(\"<Character>\", character).replace(\"Body\", answer)\n",
    "    output = prompt_sample(prompt, temperature=0)\n",
    "    explanations.append(output)"
   ]
  },
  {
   "cell_type": "code",
   "execution_count": 52,
   "metadata": {},
   "outputs": [],
   "source": [
    "with open(os.path.join(data_dir, f\"attr_instr/{attr}/explanations.txt\"), \"w\") as fw:\n",
    "    for (passage, character, answer), explanation in zip(demonstrations_dict[attr], explanations):\n",
    "        completion = explanation[\"choices\"][0][\"text\"].strip()\n",
    "        fw.write(f\"Passage: {passage}\\n\")\n",
    "        fw.write(f\"Character: {character}\\n\")\n",
    "        fw.write(f\"{attr.title()}: {answer}\\n\")\n",
    "        fw.write(f\"Explanation: {completion}\\n\\n\")"
   ]
  },
  {
   "attachments": {},
   "cell_type": "markdown",
   "metadata": {},
   "source": [
    "## Physical Health Status"
   ]
  },
  {
   "cell_type": "code",
   "execution_count": 53,
   "metadata": {},
   "outputs": [
    {
     "name": "stdout",
     "output_type": "stream",
     "text": [
      "Given a passage from a movie script and a character mentioned in it, find the physical health condition of the character using only the passage text, such as whether they are suffering from any disease, injured, or physically fit. Write your answer as briefly as possible. If you cannot find any information about the physical health condition of the character, write CANNOT ANSWER.\n",
      "\n",
      "Passage: SHOTS of Deirdre and Erik struggling to get Momo settled. CONTINUE SOUNDS OF GETTING MOMO SETTLED (shuffling of feet, pills being sorted, pans being picked up) over-GLIMPSES OF THE APARTMENT: --the stairwell and its curves, rusted sections --a pre-war light fixture medallion sans light fixture BACK TO SCENE--Deirdre gives mumbling Momo a pill. Richard, Brigid and Aimee clean up the kitchen mess.\n",
      "Character: MOMO\n",
      "Physical Health Status: Suffering from an unspecified illness.\n",
      "\n",
      "Passage: Yuri shudders with the impact. The enraged Vitaly lunges towards the Leader but Yuri, despite his wound, holds him back.\n",
      "Character: YURI\n",
      "Physical Health Status: Injured.\n",
      "\n",
      "Passage: Rochefort crumples to the floor, dead. D'Artagnan looks at Rochefort's blood on his sword. His father's death finally avenged. That's when he hears the RUSTLE of a SILKEN ROBE. D'Artagnan pivots, sees Richelieu kneeling at Rochefort's body... extracting the treaty from his doublet.\n",
      "Character: ROCHEFORT\n",
      "Physical Health Status: Dead.\n",
      "\n",
      "Passage: Dave stops in mid-sentence. He raises his hand to his forehead and seems to rock a moment. A concerned murmur runs through the floor of the House.\n",
      "Character: DAVE\n",
      "Physical Health Status: CANNOT ANSWER\n",
      "\n",
      "Passage: Close by to Barnard. Gloria's face is wan and haggard. Every upward move seems to require a Herculean effort. She stops and has a fit of coughing.\n",
      "Character: Barnard\n",
      "Physical Health Status: CANNOT ANSWER\n",
      "\n",
      "Passage: And then we find our Hector. He stands against the wall, holding a large towel. Although clean-shaven and more healthy-looking we can still recognize Hector, more so * by the look in his eyes. There is a set to his face that tells us he is a man alone, emotionally detached from his surroundings. He is a personal body slave. He watches his master in the pool, alert to any hint of need that he might have.\n",
      "Character: HECTOR\n",
      "Physical Health Status: Physically fit.\n",
      "\n"
     ]
    }
   ],
   "source": [
    "attr = \"physical health status\"\n",
    "print(instruction_dict[attr])\n",
    "print()\n",
    "for passage, character, answer in demonstrations_dict[attr]:\n",
    "    print(f\"Passage: {passage}\")\n",
    "    print(f\"Character: {character}\")\n",
    "    print(f\"{attr.title()}: {answer}\")\n",
    "    print()"
   ]
  },
  {
   "cell_type": "code",
   "execution_count": 54,
   "metadata": {},
   "outputs": [
    {
     "name": "stdout",
     "output_type": "stream",
     "text": [
      "Given a passage from a movie script, a character mentioned in the passage, and the physical health status of the character, very briefly explain why the passage supports or how it gives evidence about the character's physical health condition. If the attitude field contains CANNOT ANSWER, then explain why you cannot find the character's physical health status from the passage.\n",
      "\n",
      "Passage: <Passage>\n",
      "Character: <Character>\n",
      "Physical Health Status: <Attr>\n",
      "Answer:\n"
     ]
    }
   ],
   "source": [
    "template = f\"\"\"Given a passage from a movie script, a character mentioned in the passage, and the physical health status of the character, very briefly explain why the passage supports or how it gives evidence about the character's physical health condition. If the attitude field contains CANNOT ANSWER, then explain why you cannot find the character's physical health status from the passage.\n",
    "\n",
    "Passage: <Passage>\n",
    "Character: <Character>\n",
    "{attr.title()}: <Attr>\n",
    "Answer:\n",
    "\"\"\"\n",
    "print(template.strip())"
   ]
  },
  {
   "cell_type": "code",
   "execution_count": 55,
   "metadata": {},
   "outputs": [
    {
     "name": "stderr",
     "output_type": "stream",
     "text": [
      "100%|██████████| 6/6 [00:20<00:00,  3.47s/it]\n"
     ]
    }
   ],
   "source": [
    "explanations = []\n",
    "\n",
    "for passage, character, answer in tqdm.tqdm(demonstrations_dict[attr]):\n",
    "    prompt = template.replace(\"<Passage>\", passage).replace(\"<Character>\", character).replace(\"<Attr>\", answer)\n",
    "    output = prompt_sample(prompt, temperature=0)\n",
    "    explanations.append(output)"
   ]
  },
  {
   "cell_type": "code",
   "execution_count": 56,
   "metadata": {},
   "outputs": [],
   "source": [
    "with open(os.path.join(data_dir, f\"attr_instr/{attr}/explanations.txt\"), \"w\") as fw:\n",
    "    for (passage, character, answer), explanation in zip(demonstrations_dict[attr], explanations):\n",
    "        completion = explanation[\"choices\"][0][\"text\"].strip()\n",
    "        fw.write(f\"Passage: {passage}\\n\")\n",
    "        fw.write(f\"Character: {character}\\n\")\n",
    "        fw.write(f\"{attr.title()}: {answer}\\n\")\n",
    "        fw.write(f\"Explanation: {completion}\\n\\n\")"
   ]
  },
  {
   "attachments": {},
   "cell_type": "markdown",
   "metadata": {},
   "source": [
    "## Possessions"
   ]
  },
  {
   "cell_type": "code",
   "execution_count": 57,
   "metadata": {},
   "outputs": [
    {
     "name": "stdout",
     "output_type": "stream",
     "text": [
      "Given a passage from a movie script and a character mentioned in it, find the items held by the character with them presently using only the passage text. Write your answer as briefly as possible. If the passage does not explicitly specify any items held by the character, write CANNOT ANSWER. Do not consider the clothes, shoes, or any headgear worn by the character.\n",
      "\n",
      "Passage: Nick hesitates, then picks it up again. He runs his fingers over the face of the bill and snaps the paper.\n",
      "Character: NICK\n",
      "Possessions: Paper Bill\n",
      "\n",
      "Passage: Rose comes walking out of the house with groceries. She sets them on the picnic table and heads back into the house. Alvin loads the groceries into the now finished trailer. The back door of the house opens and a big sheet of foam rubber flies out the door followed by Rose. She hauls it over to the trailer and sets it in. She fusses over its arrangement.\n",
      "Character: ROSE\n",
      "Possessions: Groceries, foam rubber.\n",
      "\n",
      "Passage: Holly, excited, runs over to April, who is busy taking the Stroganoff out of the oven. She wears the same uniform as Holly: black skirt, white shirt, and black bowtie.\n",
      "Character: HOLLY\n",
      "Possessions: CANNOT ANSWER\n",
      "\n",
      "Passage: Scully has her hand in her coat pocket now. Moving around the table and approaching Cassidy. Removing something which she puts on the desk in front of her. A small vial.\n",
      "Character: SCULLY\n",
      "Possessions: Vial\n",
      "\n",
      "Passage: Sharon shows in Mr. Miller, the Denver oilman. He's a self- assured, impressive man in his 50's with a western accent, cowboy boots and hat, and a well-cut gabardine suit.\n",
      "Character: MILLER\n",
      "Possessions: CANNOT ANSWER\n",
      "\n",
      "Passage: RAY unpacking. But fast. Spy-tech pull-down. Three bags on the bed, he's pulling selected -- seemingly innocuous -- items from each of them, as -DUKE (V.O.) ...then two years ago, he walked into a bank in Atlanta. He produced a halfa-million dollar letter of credit and a Dermavale business card... RAY assembling this weird bunch of shit that passed through security into a very sophisticated listening device -HEADPHONES -- A BOOMBOX -- A COLLAPSIBLE MINI-UMBRELLA -THE WIRE LINER OF THE SUITCASE -- HIS PHONE, as -DUKE (V.O.) ...now we've been digging as fast and hard as we can, but so far Dermavale is just a blank. We can't find a vendor, we can't find an insurance company, we can't find one person down there who can tell us what the hell Dermavale was about...\n",
      "Character: RAY\n",
      "Possessions: Headphones, boombox, collapsible mini-umbrella, wire liner of the suitcase, phone.\n",
      "\n"
     ]
    }
   ],
   "source": [
    "attr = \"possessions\"\n",
    "print(instruction_dict[attr])\n",
    "print()\n",
    "for passage, character, answer in demonstrations_dict[attr]:\n",
    "    print(f\"Passage: {passage}\")\n",
    "    print(f\"Character: {character}\")\n",
    "    print(f\"{attr.title()}: {answer}\")\n",
    "    print()"
   ]
  },
  {
   "cell_type": "code",
   "execution_count": 58,
   "metadata": {},
   "outputs": [
    {
     "name": "stdout",
     "output_type": "stream",
     "text": [
      "Given a passage from a movie script, a character mentioned in the passage, and the possessions held by the character, very briefly explain why the passage supports or how it gives evidence about those items or possessions held by the character presently. If the possessions field contains CANNOT ANSWER, then explain why you cannot find the character's possessions from the passage.\n",
      "\n",
      "Passage: <Passage>\n",
      "Character: <Character>\n",
      "Possessions: <Attr>\n",
      "Answer:\n"
     ]
    }
   ],
   "source": [
    "template = f\"\"\"Given a passage from a movie script, a character mentioned in the passage, and the possessions held by the character, very briefly explain why the passage supports or how it gives evidence about those items or possessions held by the character presently. If the possessions field contains CANNOT ANSWER, then explain why you cannot find the character's possessions from the passage.\n",
    "\n",
    "Passage: <Passage>\n",
    "Character: <Character>\n",
    "{attr.title()}: <Attr>\n",
    "Answer:\n",
    "\"\"\"\n",
    "print(template.strip())"
   ]
  },
  {
   "cell_type": "code",
   "execution_count": 59,
   "metadata": {},
   "outputs": [
    {
     "name": "stderr",
     "output_type": "stream",
     "text": [
      "100%|██████████| 6/6 [00:21<00:00,  3.60s/it]\n"
     ]
    }
   ],
   "source": [
    "explanations = []\n",
    "\n",
    "for passage, character, answer in tqdm.tqdm(demonstrations_dict[attr]):\n",
    "    prompt = template.replace(\"<Passage>\", passage).replace(\"<Character>\", character).replace(\"<Attr>\", answer)\n",
    "    output = prompt_sample(prompt, temperature=0)\n",
    "    explanations.append(output)"
   ]
  },
  {
   "cell_type": "code",
   "execution_count": 60,
   "metadata": {},
   "outputs": [],
   "source": [
    "with open(os.path.join(data_dir, f\"attr_instr/{attr}/explanations.txt\"), \"w\") as fw:\n",
    "    for (passage, character, answer), explanation in zip(demonstrations_dict[attr], explanations):\n",
    "        completion = explanation[\"choices\"][0][\"text\"].strip()\n",
    "        fw.write(f\"Passage: {passage}\\n\")\n",
    "        fw.write(f\"Character: {character}\\n\")\n",
    "        fw.write(f\"{attr.title()}: {answer}\\n\")\n",
    "        fw.write(f\"Explanation: {completion}\\n\\n\")"
   ]
  },
  {
   "attachments": {},
   "cell_type": "markdown",
   "metadata": {},
   "source": [
    "## Profession"
   ]
  },
  {
   "cell_type": "code",
   "execution_count": 66,
   "metadata": {},
   "outputs": [
    {
     "name": "stdout",
     "output_type": "stream",
     "text": [
      "Given a passage from a movie script and a character mentioned in it, find the profession of the character using only the passage text. Write your answer as briefly as possible. Unless the passage clearly and explicitly states the character's profession, write CANNOT ANSWER.\n",
      "\n",
      "Passage: 11. EXTERIOR FRONT ENTRANCE HARBOR COURT. 11. Limos await dignitaries for publicity cavalcade to Senator Theater premiere. PETIE, a 22-year-old hillbilly tough guy, dressed in a chauffeur's uniform sits behind the wheel of a white limousine as HONEY and MAYOR and their entourages make their way to limos followed by PRESS.\n",
      "Character: PETIE\n",
      "Profession: Chauffeur\n",
      "\n",
      "Passage: (CU) A file folder is opened. We SEE recent PHOTOGRAPHS of Harry and Archie, alongside their original MUG SHOTS. (WIDE) DEKE YABLONSKI, is walking through the busy squadroom with WATCH COMMANDER, CAPT. RALPH JARVIS, 40. Jarvis is studying the file.\n",
      "Character: JARVIS\n",
      "Profession: WATCH COMMANDER\n",
      "\n",
      "Passage: Yes! You Must! (pointing inside) Harry, you're in Hagrid's hut right now. If you go bursting inside, you'll think you've gone mad. Awful things can happen when wizards meddle with time. We can't be seen. Hermione turns, watches Fudge and the others drawing closer. She frowns, glances into the hut.\n",
      "Character: HAGRID\n",
      "Profession: CANNOT ANSWER\n",
      "\n",
      "Passage: In the midst of morning Mass, the novices are all seated together in their pews. As the Priest then beckons the entire congregation to pray, we focus on Cathleen who's still so distracted she forgets to lower her head. Seated beside her, Sister Charlotte notices and gently nudges her. Cathleen looks up confused. Charlotte then shoots her a look like, \"Everyone's praying.\"\n",
      "Character: Sister Charlotte\n",
      "Profession: Nun\n",
      "\n",
      "Passage: (10) The lights come on. George Valentin comes onto the stage and acknowledges the audience, they are cheering for him. He is so happy he dances a few tap steps to express his joy then he acknowledges the orchestra before finally motioning to someone in the wings to join him. Jack the dog trots over in response. The crowd laughs and cheers, George waves to the dog, Jack waves back then waves at the audience, the people are loving it!\n",
      "Character: JACK\n",
      "Profession: CANNOT ANSWER\n",
      "\n",
      "Passage: Clarence Oveur is in the pilot's seat. VICTOR BASTA is seated at engineer's console. There is a St. Christopher's statue on the dashboard.\n",
      "Character: VICTOR BASTA\n",
      "Profession: CANNOT ANSWER\n",
      "\n",
      "Passage: TWO GUYS sitting at the counter in team jackets. The older of the two holds up his empty coffee cup. But his WAITRESS, standing a couple seats down from him, doesn't move. She's completely absorbed in watching the soap opera that plays on two battered, fuzzy TV sets. BETTY SIZEMORE, 30, has a wholesome attractiveness that competes with a bit too much makeup and a cheesy white waitress uniform. TWO OTHER WAITRESSES attend to customers behind her. The younger of the two guys is involved in the soap opera. But the older one, still wants coffee. He gestures toward Betty.\n",
      "Character: BETTY SIZEMORE\n",
      "Profession: Waitress\n",
      "\n",
      "Passage: Mercedes is in the back, wearing the darkest glasses allowed a teacher in a classroom, hiding the fact that Mercy is looking at Larry. Larry is listening to Lala with delight.\n",
      "Character: MERCEDES\n",
      "Profession: Teacher\n",
      "\n"
     ]
    }
   ],
   "source": [
    "attr = \"profession\"\n",
    "print(instruction_dict[attr])\n",
    "print()\n",
    "for passage, character, answer in demonstrations_dict[attr]:\n",
    "    print(f\"Passage: {passage}\")\n",
    "    print(f\"Character: {character}\")\n",
    "    print(f\"{attr.title()}: {answer}\")\n",
    "    print()"
   ]
  },
  {
   "cell_type": "code",
   "execution_count": 62,
   "metadata": {},
   "outputs": [
    {
     "name": "stdout",
     "output_type": "stream",
     "text": [
      "Given a passage from a movie script, a character mentioned in the passage, and the profession of the character, very briefly explain why the passage supports or how it gives evidence about the character's profession. If the profession field contains CANNOT ANSWER, then explain why you cannot find the character's profession from the passage.\n",
      "\n",
      "Passage: <Passage>\n",
      "Character: <Character>\n",
      "Profession: <Attr>\n",
      "Answer:\n"
     ]
    }
   ],
   "source": [
    "template = f\"\"\"Given a passage from a movie script, a character mentioned in the passage, and the profession of the character, very briefly explain why the passage supports or how it gives evidence about the character's profession. If the profession field contains CANNOT ANSWER, then explain why you cannot find the character's profession from the passage.\n",
    "\n",
    "Passage: <Passage>\n",
    "Character: <Character>\n",
    "{attr.title()}: <Attr>\n",
    "Answer:\n",
    "\"\"\"\n",
    "print(template.strip())"
   ]
  },
  {
   "cell_type": "code",
   "execution_count": 63,
   "metadata": {},
   "outputs": [
    {
     "name": "stderr",
     "output_type": "stream",
     "text": [
      "100%|██████████| 8/8 [00:31<00:00,  3.88s/it]\n"
     ]
    }
   ],
   "source": [
    "explanations = []\n",
    "\n",
    "for passage, character, answer in tqdm.tqdm(demonstrations_dict[attr]):\n",
    "    prompt = template.replace(\"<Passage>\", passage).replace(\"<Character>\", character).replace(\"<Attr>\", answer)\n",
    "    output = prompt_sample(prompt, temperature=0)\n",
    "    explanations.append(output)"
   ]
  },
  {
   "cell_type": "code",
   "execution_count": 67,
   "metadata": {},
   "outputs": [],
   "source": [
    "with open(os.path.join(data_dir, f\"attr_instr/{attr}/explanations.txt\"), \"w\") as fw:\n",
    "    for (passage, character, answer), explanation in zip(demonstrations_dict[attr], explanations):\n",
    "        completion = explanation[\"choices\"][0][\"text\"].strip()\n",
    "        fw.write(f\"Passage: {passage}\\n\")\n",
    "        fw.write(f\"Character: {character}\\n\")\n",
    "        fw.write(f\"{attr.title()}: {answer}\\n\")\n",
    "        fw.write(f\"Explanation: {completion}\\n\\n\")"
   ]
  },
  {
   "attachments": {},
   "cell_type": "markdown",
   "metadata": {},
   "source": [
    "## Qualities"
   ]
  },
  {
   "cell_type": "code",
   "execution_count": 69,
   "metadata": {},
   "outputs": [
    {
     "name": "stdout",
     "output_type": "stream",
     "text": [
      "Given a passage from a movie script and a character mentioned in it, find any special unique qualities, skills, or abilies of the character using only the passage text. Write your answer as briefly as possible. If you cannot find any special skills of the character, write CANNOT ANSWER.\n",
      "\n",
      "Passage: Carnegie is such an impassioned and inspiring speaker it's almost impossible not to get caught up and swept away by his words. His apparently unshakable belief is infectious.\n",
      "Character: CARNEGIE\n",
      "Qualities: Charismatic, inspiring, persuasive.\n",
      "\n",
      "Passage: Through her Engineer's lens Watts sees DAVID manipulating a complex interface of light. The pulsing life-signs of the Sleeper begin to change.\n",
      "Character: DAVID\n",
      "Qualities: Technological expertise.\n",
      "\n",
      "Passage: The \"MESSIAH\" FADES and an R & B BAND breaks into ROUSING MUSIC as Feingold approaches and sticks a CIGAR in his mouth, LIGHTS it.\n",
      "Character: FEINGOLD\n",
      "Qualities: CANNOT ANSWER\n",
      "\n",
      "Passage: - Jeff completes the remaining ploughing - Jeff ripping out a dead tree trunk - The green shoots of the hay field begin to flourish - The dry river bed fills with fast-flowing water - Jeff amongst other workers, harvesting the hay - Jeff telling a story to the spellbound children - The Dog running, chasing a small rodent down a hole - Jeff locking his shackles. Handing the key to Zahne - Jeff stomping after birds eating newly sown seed - Jeff excitedly examining a new tree seedling - Jeff helps build a new cabin for one of the families - Jeff acting as schoolteacher. All the children, and several adults watch as he teaches them mathematics DISSOLVE TO: SOUND OVER: CHILDREN SINGING A CHRISTMAS CAROL.\n",
      "Character: JEFF\n",
      "Qualities: Hardworking, knowledgeable, resourceful, patient, kind.\n",
      "\n",
      "Passage: Jackie, carrying a sixteen ounce can of \"Budweiser\" in a paper bag, and Terry, push their way through the silent crowd in front of the spectator line, uniformed cops lining the funeral route to the gravesite, all of them wearing dress uniforms and white gloves, police pipers marching in front of the flag-draped casket, the pipers playing the funeral dirge, uniformed cops, police officials, politicians, etc., marching behind the casket, silent spectators on both sides.of the funeral route, media people taping the event, etc., acres of gravestones in the b.g. TERRY AND JACKIE\n",
      "Character: JACKIE\n",
      "Qualities: CANNOT ANSWER\n",
      "\n",
      "Passage: KEN dresses in a neat suit and tie, hides RAY's gun in a cupboard, checks his own gun is loaded and pockets it, and lays a sealed envelope on the pillow of his neatly-made bed. He looks over the room one last time, and exits. The envelope\n",
      "Character: KEN\n",
      "Qualities: Neatness, attention to detail, preparedness, gun proficiency.\n",
      "\n",
      "Passage: Bernie gets the wallet to his lap. In between cautious glances toward the bench where the conference continues inaudibly, he surreptitiously selects some of the twenties and some of the tens from the wallet.\n",
      "Character: BERNIE\n",
      "Qualities: Stealth and resourcefulness.\n",
      "\n"
     ]
    }
   ],
   "source": [
    "attr = \"qualities\"\n",
    "print(instruction_dict[attr])\n",
    "print()\n",
    "for passage, character, answer in demonstrations_dict[attr]:\n",
    "    print(f\"Passage: {passage}\")\n",
    "    print(f\"Character: {character}\")\n",
    "    print(f\"{attr.title()}: {answer}\")\n",
    "    print()"
   ]
  },
  {
   "cell_type": "code",
   "execution_count": 71,
   "metadata": {},
   "outputs": [
    {
     "name": "stdout",
     "output_type": "stream",
     "text": [
      "Given a passage from a movie script, a character mentioned in the passage, and the qualities of the character, very briefly explain why the passage supports or how it gives evidence about the character's qualities, skills, or abilies. If the qualities field contains CANNOT ANSWER, then explain why you cannot find the character's qualities from the passage.\n",
      "\n",
      "Passage: <Passage>\n",
      "Character: <Character>\n",
      "Qualities: <Attr>\n",
      "Answer:\n"
     ]
    }
   ],
   "source": [
    "template = f\"\"\"Given a passage from a movie script, a character mentioned in the passage, and the qualities of the character, very briefly explain why the passage supports or how it gives evidence about the character's qualities, skills, or abilies. If the qualities field contains CANNOT ANSWER, then explain why you cannot find the character's qualities from the passage.\n",
    "\n",
    "Passage: <Passage>\n",
    "Character: <Character>\n",
    "{attr.title()}: <Attr>\n",
    "Answer:\n",
    "\"\"\"\n",
    "print(template.strip())"
   ]
  },
  {
   "cell_type": "code",
   "execution_count": 72,
   "metadata": {},
   "outputs": [
    {
     "name": "stderr",
     "output_type": "stream",
     "text": [
      "100%|██████████| 7/7 [00:27<00:00,  3.87s/it]\n"
     ]
    }
   ],
   "source": [
    "explanations = []\n",
    "\n",
    "for passage, character, answer in tqdm.tqdm(demonstrations_dict[attr]):\n",
    "    prompt = template.replace(\"<Passage>\", passage).replace(\"<Character>\", character).replace(\"<Attr>\", answer)\n",
    "    output = prompt_sample(prompt, temperature=0)\n",
    "    explanations.append(output)"
   ]
  },
  {
   "cell_type": "code",
   "execution_count": 73,
   "metadata": {},
   "outputs": [],
   "source": [
    "with open(os.path.join(data_dir, f\"attr_instr/{attr}/explanations.txt\"), \"w\") as fw:\n",
    "    for (passage, character, answer), explanation in zip(demonstrations_dict[attr], explanations):\n",
    "        completion = explanation[\"choices\"][0][\"text\"].strip()\n",
    "        fw.write(f\"Passage: {passage}\\n\")\n",
    "        fw.write(f\"Character: {character}\\n\")\n",
    "        fw.write(f\"{attr.title()}: {answer}\\n\")\n",
    "        fw.write(f\"Explanation: {completion}\\n\\n\")"
   ]
  },
  {
   "attachments": {},
   "cell_type": "markdown",
   "metadata": {},
   "source": [
    "## Race"
   ]
  },
  {
   "cell_type": "code",
   "execution_count": 74,
   "metadata": {},
   "outputs": [
    {
     "name": "stdout",
     "output_type": "stream",
     "text": [
      "Given a passage from a movie script and a character mentioned in it, find the race or ethnicity of the character using only the passage text. Write your answer as briefly as possible. If you cannot find the race or ethnicity of the character, write CANNOT ANSWER.\n",
      "\n",
      "Passage: Standing on the porch is SHELBY, an optimistic looking white boy - age 25. He is wearing a white button-down shirt and a black tie.\n",
      "Character: SHELBY\n",
      "Race: White\n",
      "\n",
      "Passage: A big room divided into many small cubicles in which telephone operators, wearing headsets, answer 411 calls. In one of the cubicles is LOUISE WILLIAMS, a warm, sympathetic African-American woman in her forties. She is upset. On her workstation is a framed photograph of her twin sons Cedric and Neville (16).\n",
      "Character: NEVILLE\n",
      "Race: African-American\n",
      "\n",
      "Passage: Dr. Ravell comes out of surgery, clearly exhausted. Without his surgical mask he is ruggedly handsome. TWO NURSES follow, attending him like a fighter fresh from the ring: CHLOE, 25, Raven-haired and striking, and JASMINE, 24, an exotic mix of African-American and Asian.\n",
      "Character: CHLOE\n",
      "Race: CANNOT ANSWER\n",
      "\n",
      "Passage: Billy and the three Thai Inmates stand before the \"cell boss,\" we saw in the yard: KENG. He sharply barks the rules in Thai. Billy's quiet, doesn't like the tone. A few Samurai laugh. As Billy looks for a space to sit, one Samurai gets up...KIAW (30, Thai, body and lips tattooed, wearing shackles). He shouts in Thai at a sleeping Samurai, \"Bie!\" (move!) then kicks him hard in the ribs to make room for Billy. Then Kiaw looks at Billy and smiles...\n",
      "Character: KIAW\n",
      "Race: Thai\n",
      "\n"
     ]
    }
   ],
   "source": [
    "attr = \"race\"\n",
    "print(instruction_dict[attr])\n",
    "print()\n",
    "for passage, character, answer in demonstrations_dict[attr]:\n",
    "    print(f\"Passage: {passage}\")\n",
    "    print(f\"Character: {character}\")\n",
    "    print(f\"{attr.title()}: {answer}\")\n",
    "    print()"
   ]
  },
  {
   "cell_type": "code",
   "execution_count": 75,
   "metadata": {},
   "outputs": [
    {
     "name": "stdout",
     "output_type": "stream",
     "text": [
      "Given a passage from a movie script, a character mentioned in the passage, and the race of the character, very briefly explain why the passage supports or how it gives evidence about the character's race or ethnicity. If the race field contains CANNOT ANSWER, then explain why you cannot find the character's race or ethnicity from the passage.\n",
      "\n",
      "Passage: <Passage>\n",
      "Character: <Character>\n",
      "Race: <Attr>\n",
      "Answer:\n"
     ]
    }
   ],
   "source": [
    "template = f\"\"\"Given a passage from a movie script, a character mentioned in the passage, and the race of the character, very briefly explain why the passage supports or how it gives evidence about the character's race or ethnicity. If the race field contains CANNOT ANSWER, then explain why you cannot find the character's race or ethnicity from the passage.\n",
    "\n",
    "Passage: <Passage>\n",
    "Character: <Character>\n",
    "{attr.title()}: <Attr>\n",
    "Answer:\n",
    "\"\"\"\n",
    "print(template.strip())"
   ]
  },
  {
   "cell_type": "code",
   "execution_count": 76,
   "metadata": {},
   "outputs": [
    {
     "name": "stderr",
     "output_type": "stream",
     "text": [
      "100%|██████████| 4/4 [00:11<00:00,  2.87s/it]\n"
     ]
    }
   ],
   "source": [
    "explanations = []\n",
    "\n",
    "for passage, character, answer in tqdm.tqdm(demonstrations_dict[attr]):\n",
    "    prompt = template.replace(\"<Passage>\", passage).replace(\"<Character>\", character).replace(\"<Attr>\", answer)\n",
    "    output = prompt_sample(prompt, temperature=0)\n",
    "    explanations.append(output)"
   ]
  },
  {
   "cell_type": "code",
   "execution_count": 77,
   "metadata": {},
   "outputs": [],
   "source": [
    "with open(os.path.join(data_dir, f\"attr_instr/{attr}/explanations.txt\"), \"w\") as fw:\n",
    "    for (passage, character, answer), explanation in zip(demonstrations_dict[attr], explanations):\n",
    "        completion = explanation[\"choices\"][0][\"text\"].strip()\n",
    "        fw.write(f\"Passage: {passage}\\n\")\n",
    "        fw.write(f\"Character: {character}\\n\")\n",
    "        fw.write(f\"{attr.title()}: {answer}\\n\")\n",
    "        fw.write(f\"Explanation: {completion}\\n\\n\")"
   ]
  },
  {
   "attachments": {},
   "cell_type": "markdown",
   "metadata": {},
   "source": [
    "## Voice"
   ]
  },
  {
   "cell_type": "code",
   "execution_count": 78,
   "metadata": {},
   "outputs": [
    {
     "name": "stdout",
     "output_type": "stream",
     "text": [
      "Given a passage from a movie script and a character mentioned in it, find the quality, tone, pitch, accent, or any other attributes of the character's voice using only the passage text. Write your answer as briefly as possible. If you cannot find any attributes of the character's voice, write CANNOT ANSWER.\n",
      "\n",
      "Passage: BORIS BALKAN, standing at a state-of-the-art lecturer's desk, is a bulky, imposing figure of a man around 50 years old. His thick gray hair is slicked back to reveal a domed forehead. The eyes beneath it radiate keen intelligence through a pair of heavy hornrims. He speaks in a deep, slow, almost monotonous voice, but with great authority.\n",
      "Character: BORIS BALKAN\n",
      "Voice: Deep, slow, almost monotonous, with great authority.\n",
      "\n",
      "Passage: Dewey, this is crazy! Ain't nobody gon' wanna hear music like that. You standin' there, playing as fast as you can, singin' like some kind of. .. punk. DEWEY\n",
      "Character: DEWEY\n",
      "Voice: Fast-paced, punk-like singing.\n",
      "\n",
      "Passage: Giulia pedals away, but Luca knows there's more to learn-LUCA (whispering) No no! Keep going! Ask her about the prize money! Maybe that becomes a Vespa! Just ask her!\n",
      "Character: LUCA\n",
      "Voice: Whispering.\n",
      "\n",
      "Passage: The dealer, the pit boss, and all the players look on as Mike drops ANOTHER BLACK CHIP in the circle with a barely audible, yet deafening, thud.\n",
      "Character: Mike\n",
      "Voice: CANNOT ANSWER.\n",
      "\n",
      "Passage: (softly) Go on in. I'm going to write a note to Katharine and tape it to the door. Go on. Val goes, reluctantly, into\n",
      "Character: KATHARINE\n",
      "Voice: CANNOT ANSWER\n",
      "\n",
      "Passage: Rita, aching from a place she thought she buried long ago, shakes her head, NO. Now, Margaret literally has to wrench Lucy away from her father's arms. Lucy bellowing as she pulls her down the hallway. Sam is frozen in incalculable pain.\n",
      "Character: Lucy\n",
      "Voice: High-pitched, distressed.\n",
      "\n"
     ]
    }
   ],
   "source": [
    "attr = \"voice\"\n",
    "print(instruction_dict[attr])\n",
    "print()\n",
    "for passage, character, answer in demonstrations_dict[attr]:\n",
    "    print(f\"Passage: {passage}\")\n",
    "    print(f\"Character: {character}\")\n",
    "    print(f\"{attr.title()}: {answer}\")\n",
    "    print()"
   ]
  },
  {
   "cell_type": "code",
   "execution_count": 79,
   "metadata": {},
   "outputs": [
    {
     "name": "stdout",
     "output_type": "stream",
     "text": [
      "Given a passage from a movie script, a character mentioned in the passage, and some attributes of the character's voice, very briefly explain why the passage supports or how it gives evidence about those attributes of the character's voice. If the voice field contains CANNOT ANSWER, then explain why you cannot find any attributes of the character's voice from the passage.\n",
      "\n",
      "Passage: <Passage>\n",
      "Character: <Character>\n",
      "Voice: <Attr>\n",
      "Answer:\n"
     ]
    }
   ],
   "source": [
    "template = f\"\"\"Given a passage from a movie script, a character mentioned in the passage, and some attributes of the character's voice, very briefly explain why the passage supports or how it gives evidence about those attributes of the character's voice. If the voice field contains CANNOT ANSWER, then explain why you cannot find any attributes of the character's voice from the passage.\n",
    "\n",
    "Passage: <Passage>\n",
    "Character: <Character>\n",
    "{attr.title()}: <Attr>\n",
    "Answer:\n",
    "\"\"\"\n",
    "print(template.strip())"
   ]
  },
  {
   "cell_type": "code",
   "execution_count": 80,
   "metadata": {},
   "outputs": [
    {
     "name": "stderr",
     "output_type": "stream",
     "text": [
      "100%|██████████| 6/6 [00:15<00:00,  2.59s/it]\n"
     ]
    }
   ],
   "source": [
    "explanations = []\n",
    "\n",
    "for passage, character, answer in tqdm.tqdm(demonstrations_dict[attr]):\n",
    "    prompt = template.replace(\"<Passage>\", passage).replace(\"<Character>\", character).replace(\"<Attr>\", answer)\n",
    "    output = prompt_sample(prompt, temperature=0)\n",
    "    explanations.append(output)"
   ]
  },
  {
   "cell_type": "code",
   "execution_count": 81,
   "metadata": {},
   "outputs": [],
   "source": [
    "with open(os.path.join(data_dir, f\"attr_instr/{attr}/explanations.txt\"), \"w\") as fw:\n",
    "    for (passage, character, answer), explanation in zip(demonstrations_dict[attr], explanations):\n",
    "        completion = explanation[\"choices\"][0][\"text\"].strip()\n",
    "        fw.write(f\"Passage: {passage}\\n\")\n",
    "        fw.write(f\"Character: {character}\\n\")\n",
    "        fw.write(f\"{attr.title()}: {answer}\\n\")\n",
    "        fw.write(f\"Explanation: {completion}\\n\\n\")"
   ]
  },
  {
   "cell_type": "code",
   "execution_count": 83,
   "metadata": {},
   "outputs": [
    {
     "name": "stdout",
     "output_type": "stream",
     "text": [
      "accomplishments                = 1164 words\n",
      "age                            =  675 words\n",
      "attire                         =  825 words\n",
      "attitude                       =  698 words\n",
      "demeanor                       = 1045 words\n",
      "emotion                        = 1095 words\n",
      "eyes                           =  721 words\n",
      "goal                           = 3222 words\n",
      "hair                           =  779 words\n",
      "physical appearance            =  863 words\n",
      "physical health status         =  826 words\n",
      "possessions                    =  854 words\n",
      "profession                     = 1097 words\n",
      "qualities                      = 1059 words\n",
      "race                           =  553 words\n",
      "voice                          =  686 words\n"
     ]
    }
   ],
   "source": [
    "for attr in attrs:\n",
    "    with open(os.path.join(data_dir, \"attr_instr\", attr, \"cot_prompt.txt\")) as fr:\n",
    "        cot_prompt = fr.read().strip()\n",
    "    n_tokens = len(encoding.encode(cot_prompt))\n",
    "    print(f\"{attr:30s} = {n_tokens:4d} words\")"
   ]
  },
  {
   "cell_type": "code",
   "execution_count": null,
   "metadata": {},
   "outputs": [],
   "source": []
  }
 ],
 "metadata": {
  "kernelspec": {
   "display_name": "story",
   "language": "python",
   "name": "python3"
  },
  "language_info": {
   "codemirror_mode": {
    "name": "ipython",
    "version": 3
   },
   "file_extension": ".py",
   "mimetype": "text/x-python",
   "name": "python",
   "nbconvert_exporter": "python",
   "pygments_lexer": "ipython3",
   "version": "3.10.9"
  },
  "orig_nbformat": 4
 },
 "nbformat": 4,
 "nbformat_minor": 2
}
