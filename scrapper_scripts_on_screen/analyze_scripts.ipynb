{
 "cells": [
  {
   "cell_type": "code",
   "execution_count": 90,
   "metadata": {},
   "outputs": [],
   "source": [
    "import pandas as pd\n",
    "import numpy as np\n",
    "import os\n",
    "import requests\n",
    "import bs4\n",
    "import imdb\n",
    "from imdb import Cinemagoer\n",
    "import tqdm\n",
    "import collections\n",
    "import json"
   ]
  },
  {
   "cell_type": "code",
   "execution_count": 91,
   "metadata": {},
   "outputs": [],
   "source": [
    "movie_script_index_file = os.path.join(os.getenv(\"DATA_DIR\"), \n",
    "                                       \"narrative_understanding/movie_scripts/movie_scripts/index.csv\")\n",
    "movie_script_index_df = pd.read_csv(movie_script_index_file, index_col=None)"
   ]
  },
  {
   "cell_type": "code",
   "execution_count": 92,
   "metadata": {},
   "outputs": [
    {
     "data": {
      "text/html": [
       "<div>\n",
       "<style scoped>\n",
       "    .dataframe tbody tr th:only-of-type {\n",
       "        vertical-align: middle;\n",
       "    }\n",
       "\n",
       "    .dataframe tbody tr th {\n",
       "        vertical-align: top;\n",
       "    }\n",
       "\n",
       "    .dataframe thead th {\n",
       "        text-align: right;\n",
       "    }\n",
       "</style>\n",
       "<table border=\"1\" class=\"dataframe\">\n",
       "  <thead>\n",
       "    <tr style=\"text-align: right;\">\n",
       "      <th></th>\n",
       "      <th>url</th>\n",
       "      <th>file</th>\n",
       "      <th>date</th>\n",
       "      <th>imdb_id</th>\n",
       "      <th>moviedb_id</th>\n",
       "      <th>script_on_screen_synopsis</th>\n",
       "    </tr>\n",
       "  </thead>\n",
       "  <tbody>\n",
       "    <tr>\n",
       "      <th>0</th>\n",
       "      <td>https://thescriptsavant.com/movies/Aaranya_Kaa...</td>\n",
       "      <td>0</td>\n",
       "      <td>Feb 15 2023</td>\n",
       "      <td>tt1496729</td>\n",
       "      <td>119123.0</td>\n",
       "      <td>A drama that unfolds between two rival mafia g...</td>\n",
       "    </tr>\n",
       "    <tr>\n",
       "      <th>1</th>\n",
       "      <td>https://thescriptsavant.com/movies/Abduction.pdf</td>\n",
       "      <td>1</td>\n",
       "      <td>Feb 15 2023</td>\n",
       "      <td>tt1600195</td>\n",
       "      <td>59965.0</td>\n",
       "      <td>A young man sets out to uncover the truth abou...</td>\n",
       "    </tr>\n",
       "    <tr>\n",
       "      <th>2</th>\n",
       "      <td>http://www.dailyscript.com/scripts/Above_the_L...</td>\n",
       "      <td>2</td>\n",
       "      <td>Feb 15 2023</td>\n",
       "      <td>tt0094602</td>\n",
       "      <td>9395.0</td>\n",
       "      <td>Nico Toscani is an Italian immigrant, American...</td>\n",
       "    </tr>\n",
       "    <tr>\n",
       "      <th>3</th>\n",
       "      <td>http://www.imsdb.com/scripts/Above-the-Law.html</td>\n",
       "      <td>3</td>\n",
       "      <td>Feb 15 2023</td>\n",
       "      <td>tt0094602</td>\n",
       "      <td>9395.0</td>\n",
       "      <td>Nico Toscani is an Italian immigrant, American...</td>\n",
       "    </tr>\n",
       "    <tr>\n",
       "      <th>4</th>\n",
       "      <td>http://www.dailyscript.com/scripts/Absolute_Po...</td>\n",
       "      <td>4</td>\n",
       "      <td>Feb 15 2023</td>\n",
       "      <td>tt0118548</td>\n",
       "      <td>66.0</td>\n",
       "      <td>A master thief coincidentally is robbing a hou...</td>\n",
       "    </tr>\n",
       "  </tbody>\n",
       "</table>\n",
       "</div>"
      ],
      "text/plain": [
       "                                                 url  file         date  \\\n",
       "0  https://thescriptsavant.com/movies/Aaranya_Kaa...     0  Feb 15 2023   \n",
       "1   https://thescriptsavant.com/movies/Abduction.pdf     1  Feb 15 2023   \n",
       "2  http://www.dailyscript.com/scripts/Above_the_L...     2  Feb 15 2023   \n",
       "3    http://www.imsdb.com/scripts/Above-the-Law.html     3  Feb 15 2023   \n",
       "4  http://www.dailyscript.com/scripts/Absolute_Po...     4  Feb 15 2023   \n",
       "\n",
       "     imdb_id  moviedb_id                          script_on_screen_synopsis  \n",
       "0  tt1496729    119123.0  A drama that unfolds between two rival mafia g...  \n",
       "1  tt1600195     59965.0  A young man sets out to uncover the truth abou...  \n",
       "2  tt0094602      9395.0  Nico Toscani is an Italian immigrant, American...  \n",
       "3  tt0094602      9395.0  Nico Toscani is an Italian immigrant, American...  \n",
       "4  tt0118548        66.0  A master thief coincidentally is robbing a hou...  "
      ]
     },
     "metadata": {},
     "output_type": "display_data"
    },
    {
     "name": "stdout",
     "output_type": "stream",
     "text": [
      "number of nan imdb ids: 7\n",
      "number of rows: 5928\n",
      "number of non-nan unique imdb ids: 2662\n"
     ]
    }
   ],
   "source": [
    "display(movie_script_index_df.head())\n",
    "print(\"number of nan imdb ids:\", movie_script_index_df[\"imdb_id\"].isna().sum())\n",
    "print(\"number of rows:\", movie_script_index_df.shape[0])\n",
    "print(\"number of non-nan unique imdb ids:\", movie_script_index_df[\"imdb_id\"].dropna().unique().size)"
   ]
  },
  {
   "cell_type": "code",
   "execution_count": 5,
   "metadata": {},
   "outputs": [],
   "source": [
    "ia = Cinemagoer()"
   ]
  },
  {
   "cell_type": "code",
   "execution_count": 6,
   "metadata": {},
   "outputs": [],
   "source": [
    "movie = ia.get_movie(\"0133093\")"
   ]
  },
  {
   "cell_type": "code",
   "execution_count": 17,
   "metadata": {},
   "outputs": [
    {
     "data": {
      "text/plain": [
       "{'Back': <Movie id:0133093[http] title:_Back (None)_>,\n",
       " 'Cast & crew': <Movie id:0133093[http] title:_Cast & crew (None)_>,\n",
       " 'User reviews': <Movie id:0133093[http] title:_User reviews (None)_>,\n",
       " 'Trivia': <Movie id:0133093[http] title:_Trivia (None)_>,\n",
       " 'The Matrix (1999)': <Movie id:0133093[http] title:_The Matrix (1999)_>,\n",
       " 'The Matrix Reloaded (2003)': <Movie id:0234215[http] title:_The Matrix Reloaded (2003)_>}"
      ]
     },
     "execution_count": 17,
     "metadata": {},
     "output_type": "execute_result"
    }
   ],
   "source": [
    "movie.get_titlesRefs()"
   ]
  },
  {
   "cell_type": "code",
   "execution_count": 18,
   "metadata": {},
   "outputs": [
    {
     "data": {
      "text/plain": [
       "dict"
      ]
     },
     "execution_count": 18,
     "metadata": {},
     "output_type": "execute_result"
    }
   ],
   "source": [
    "type(movie.get_titlesRefs())"
   ]
  },
  {
   "cell_type": "code",
   "execution_count": 19,
   "metadata": {},
   "outputs": [
    {
     "data": {
      "text/plain": [
       "'The Matrix'"
      ]
     },
     "execution_count": 19,
     "metadata": {},
     "output_type": "execute_result"
    }
   ],
   "source": [
    "movie.get(\"title\")"
   ]
  },
  {
   "cell_type": "code",
   "execution_count": 20,
   "metadata": {},
   "outputs": [
    {
     "data": {
      "text/plain": [
       "1999"
      ]
     },
     "execution_count": 20,
     "metadata": {},
     "output_type": "execute_result"
    }
   ],
   "source": [
    "movie.get(\"year\")"
   ]
  },
  {
   "cell_type": "code",
   "execution_count": 21,
   "metadata": {},
   "outputs": [],
   "source": [
    "movie.get(\"rubbish\")"
   ]
  },
  {
   "cell_type": "code",
   "execution_count": 28,
   "metadata": {},
   "outputs": [
    {
     "name": "stdout",
     "output_type": "stream",
     "text": [
      "False\n"
     ]
    }
   ],
   "source": [
    "# print(\"all imdb ids start with 'tt'\", movie_script_index_df[\"imdb_id\"].dropna().str.match(\"tt\").all())\n",
    "print((movie_script_index_df[\"imdb_id\"].dropna().str.slice(2).str.len() == 7).all())"
   ]
  },
  {
   "cell_type": "code",
   "execution_count": 33,
   "metadata": {},
   "outputs": [
    {
     "data": {
      "text/plain": [
       "Counter({7: 5542, 8: 119})"
      ]
     },
     "execution_count": 33,
     "metadata": {},
     "output_type": "execute_result"
    }
   ],
   "source": [
    "collections.Counter(movie_script_index_df[\"imdb_id\"].dropna().str.slice(2).str.len())"
   ]
  },
  {
   "cell_type": "code",
   "execution_count": 29,
   "metadata": {},
   "outputs": [
    {
     "data": {
      "text/html": [
       "<div>\n",
       "<style scoped>\n",
       "    .dataframe tbody tr th:only-of-type {\n",
       "        vertical-align: middle;\n",
       "    }\n",
       "\n",
       "    .dataframe tbody tr th {\n",
       "        vertical-align: top;\n",
       "    }\n",
       "\n",
       "    .dataframe thead th {\n",
       "        text-align: right;\n",
       "    }\n",
       "</style>\n",
       "<table border=\"1\" class=\"dataframe\">\n",
       "  <thead>\n",
       "    <tr style=\"text-align: right;\">\n",
       "      <th></th>\n",
       "      <th>url</th>\n",
       "      <th>file</th>\n",
       "      <th>date</th>\n",
       "      <th>imdb_id</th>\n",
       "      <th>moviedb_id</th>\n",
       "      <th>script_on_screen_synopsis</th>\n",
       "    </tr>\n",
       "  </thead>\n",
       "  <tbody>\n",
       "    <tr>\n",
       "      <th>32</th>\n",
       "      <td>https://deadline.com/wp-content/uploads/2023/0...</td>\n",
       "      <td>32</td>\n",
       "      <td>Feb 15 2023</td>\n",
       "      <td>tt19770238</td>\n",
       "      <td>965150.0</td>\n",
       "      <td>Sophie reflects on the shared joy and private ...</td>\n",
       "    </tr>\n",
       "    <tr>\n",
       "      <th>146</th>\n",
       "      <td>https://deadline.com/wp-content/uploads/2022/1...</td>\n",
       "      <td>146</td>\n",
       "      <td>Feb 15 2023</td>\n",
       "      <td>tt10304142</td>\n",
       "      <td>664469.0</td>\n",
       "      <td>In the 1930s, three friends—a doctor, a nurse,...</td>\n",
       "    </tr>\n",
       "    <tr>\n",
       "      <th>170</th>\n",
       "      <td>https://lionsgate.brightspotcdn.com/54/d1/0f4d...</td>\n",
       "      <td>170</td>\n",
       "      <td>Feb 15 2023</td>\n",
       "      <td>tt10065694</td>\n",
       "      <td>627290.0</td>\n",
       "      <td>Successful author Veronica finds herself trapp...</td>\n",
       "    </tr>\n",
       "    <tr>\n",
       "      <th>200</th>\n",
       "      <td>https://amazonstudiosguilds.com/app/uploads/20...</td>\n",
       "      <td>200</td>\n",
       "      <td>Feb 15 2023</td>\n",
       "      <td>tt15301048</td>\n",
       "      <td>714888.0</td>\n",
       "      <td>In the 1980s, a team of lawyers takes on the h...</td>\n",
       "    </tr>\n",
       "    <tr>\n",
       "      <th>201</th>\n",
       "      <td>https://amazonstudiosguilds.com/app/uploads/20...</td>\n",
       "      <td>201</td>\n",
       "      <td>Feb 15 2023</td>\n",
       "      <td>tt15301048</td>\n",
       "      <td>714888.0</td>\n",
       "      <td>In the 1980s, a team of lawyers takes on the h...</td>\n",
       "    </tr>\n",
       "    <tr>\n",
       "      <th>...</th>\n",
       "      <td>...</td>\n",
       "      <td>...</td>\n",
       "      <td>...</td>\n",
       "      <td>...</td>\n",
       "      <td>...</td>\n",
       "      <td>...</td>\n",
       "    </tr>\n",
       "    <tr>\n",
       "      <th>5250</th>\n",
       "      <td>https://www.scriptslug.com/script/the-whale-2022</td>\n",
       "      <td>5250</td>\n",
       "      <td>Feb 16 2023</td>\n",
       "      <td>tt13833688</td>\n",
       "      <td>785084.0</td>\n",
       "      <td>A reclusive English teacher suffering from sev...</td>\n",
       "    </tr>\n",
       "    <tr>\n",
       "      <th>5499</th>\n",
       "      <td>https://d1qf1lxchdoll2.cloudfront.net/2022/uar...</td>\n",
       "      <td>5499</td>\n",
       "      <td>Feb 16 2023</td>\n",
       "      <td>tt13669038</td>\n",
       "      <td>777245.0</td>\n",
       "      <td>A group of women in an isolated Mennonite comm...</td>\n",
       "    </tr>\n",
       "    <tr>\n",
       "      <th>5500</th>\n",
       "      <td>https://www.scriptslug.com/script/women-talkin...</td>\n",
       "      <td>5500</td>\n",
       "      <td>Feb 16 2023</td>\n",
       "      <td>tt13669038</td>\n",
       "      <td>777245.0</td>\n",
       "      <td>A group of women in an isolated Mennonite comm...</td>\n",
       "    </tr>\n",
       "    <tr>\n",
       "      <th>5508</th>\n",
       "      <td>https://www.scriptslug.com/script/work-it-2020</td>\n",
       "      <td>5508</td>\n",
       "      <td>Feb 16 2023</td>\n",
       "      <td>tt10276470</td>\n",
       "      <td>612706.0</td>\n",
       "      <td>A brilliant but clumsy high school senior vows...</td>\n",
       "    </tr>\n",
       "    <tr>\n",
       "      <th>5652</th>\n",
       "      <td>https://www.scriptslug.com/script/8-bit-christ...</td>\n",
       "      <td>5652</td>\n",
       "      <td>Feb 16 2023</td>\n",
       "      <td>tt11540284</td>\n",
       "      <td>802217.0</td>\n",
       "      <td>In suburban Chicago during the late 1980s, ten...</td>\n",
       "    </tr>\n",
       "  </tbody>\n",
       "</table>\n",
       "<p>119 rows × 6 columns</p>\n",
       "</div>"
      ],
      "text/plain": [
       "                                                    url  file         date  \\\n",
       "32    https://deadline.com/wp-content/uploads/2023/0...    32  Feb 15 2023   \n",
       "146   https://deadline.com/wp-content/uploads/2022/1...   146  Feb 15 2023   \n",
       "170   https://lionsgate.brightspotcdn.com/54/d1/0f4d...   170  Feb 15 2023   \n",
       "200   https://amazonstudiosguilds.com/app/uploads/20...   200  Feb 15 2023   \n",
       "201   https://amazonstudiosguilds.com/app/uploads/20...   201  Feb 15 2023   \n",
       "...                                                 ...   ...          ...   \n",
       "5250   https://www.scriptslug.com/script/the-whale-2022  5250  Feb 16 2023   \n",
       "5499  https://d1qf1lxchdoll2.cloudfront.net/2022/uar...  5499  Feb 16 2023   \n",
       "5500  https://www.scriptslug.com/script/women-talkin...  5500  Feb 16 2023   \n",
       "5508     https://www.scriptslug.com/script/work-it-2020  5508  Feb 16 2023   \n",
       "5652  https://www.scriptslug.com/script/8-bit-christ...  5652  Feb 16 2023   \n",
       "\n",
       "         imdb_id  moviedb_id  \\\n",
       "32    tt19770238    965150.0   \n",
       "146   tt10304142    664469.0   \n",
       "170   tt10065694    627290.0   \n",
       "200   tt15301048    714888.0   \n",
       "201   tt15301048    714888.0   \n",
       "...          ...         ...   \n",
       "5250  tt13833688    785084.0   \n",
       "5499  tt13669038    777245.0   \n",
       "5500  tt13669038    777245.0   \n",
       "5508  tt10276470    612706.0   \n",
       "5652  tt11540284    802217.0   \n",
       "\n",
       "                              script_on_screen_synopsis  \n",
       "32    Sophie reflects on the shared joy and private ...  \n",
       "146   In the 1930s, three friends—a doctor, a nurse,...  \n",
       "170   Successful author Veronica finds herself trapp...  \n",
       "200   In the 1980s, a team of lawyers takes on the h...  \n",
       "201   In the 1980s, a team of lawyers takes on the h...  \n",
       "...                                                 ...  \n",
       "5250  A reclusive English teacher suffering from sev...  \n",
       "5499  A group of women in an isolated Mennonite comm...  \n",
       "5500  A group of women in an isolated Mennonite comm...  \n",
       "5508  A brilliant but clumsy high school senior vows...  \n",
       "5652  In suburban Chicago during the late 1980s, ten...  \n",
       "\n",
       "[119 rows x 6 columns]"
      ]
     },
     "execution_count": 29,
     "metadata": {},
     "output_type": "execute_result"
    }
   ],
   "source": [
    "movie_script_index_df[movie_script_index_df[\"imdb_id\"].notna() \n",
    "                      & (movie_script_index_df[\"imdb_id\"].str.slice(2).str.len() != 7)]"
   ]
  },
  {
   "cell_type": "code",
   "execution_count": 34,
   "metadata": {},
   "outputs": [
    {
     "name": "stderr",
     "output_type": "stream",
     "text": [
      " 18%|█▊        | 468/2644 [23:40<2:10:05,  3.59s/it]2023-04-17 11:17:26,757 CRITICAL [imdbpy] /proj/sbaruah/anaconda3/envs/story/lib/python3.10/site-packages/imdb/_exceptions.py:32: IMDbDataAccessError exception raised; args: ({'errcode': None, 'errmsg': 'None', 'url': 'https://www.imdb.com/title/tt1134807/reference', 'proxy': '', 'exception type': 'IOError', 'original exception': <HTTPError 404: ''>},); kwds: {}\n",
      "Traceback (most recent call last):\n",
      "  File \"/proj/sbaruah/anaconda3/envs/story/lib/python3.10/site-packages/imdb/parser/http/__init__.py\", line 233, in retrieve_unicode\n",
      "    response = uopener.open(url)\n",
      "  File \"/proj/sbaruah/anaconda3/envs/story/lib/python3.10/urllib/request.py\", line 525, in open\n",
      "    response = meth(req, response)\n",
      "  File \"/proj/sbaruah/anaconda3/envs/story/lib/python3.10/urllib/request.py\", line 634, in http_response\n",
      "    response = self.parent.error(\n",
      "  File \"/proj/sbaruah/anaconda3/envs/story/lib/python3.10/urllib/request.py\", line 563, in error\n",
      "    return self._call_chain(*args)\n",
      "  File \"/proj/sbaruah/anaconda3/envs/story/lib/python3.10/urllib/request.py\", line 496, in _call_chain\n",
      "    result = func(*args)\n",
      "  File \"/proj/sbaruah/anaconda3/envs/story/lib/python3.10/urllib/request.py\", line 643, in http_error_default\n",
      "    raise HTTPError(req.full_url, code, msg, hdrs, fp)\n",
      "urllib.error.HTTPError: HTTP Error 404: \n",
      "2023-04-17 11:17:26,758 CRITICAL [imdbpy] /proj/sbaruah/anaconda3/envs/story/lib/python3.10/site-packages/imdb/__init__.py:850: caught an exception retrieving or parsing \"main\" info set for mopID \"1134807\" (accessSystem: http)\n",
      "Traceback (most recent call last):\n",
      "  File \"/proj/sbaruah/anaconda3/envs/story/lib/python3.10/site-packages/imdb/parser/http/__init__.py\", line 233, in retrieve_unicode\n",
      "    response = uopener.open(url)\n",
      "  File \"/proj/sbaruah/anaconda3/envs/story/lib/python3.10/urllib/request.py\", line 525, in open\n",
      "    response = meth(req, response)\n",
      "  File \"/proj/sbaruah/anaconda3/envs/story/lib/python3.10/urllib/request.py\", line 634, in http_response\n",
      "    response = self.parent.error(\n",
      "  File \"/proj/sbaruah/anaconda3/envs/story/lib/python3.10/urllib/request.py\", line 563, in error\n",
      "    return self._call_chain(*args)\n",
      "  File \"/proj/sbaruah/anaconda3/envs/story/lib/python3.10/urllib/request.py\", line 496, in _call_chain\n",
      "    result = func(*args)\n",
      "  File \"/proj/sbaruah/anaconda3/envs/story/lib/python3.10/urllib/request.py\", line 643, in http_error_default\n",
      "    raise HTTPError(req.full_url, code, msg, hdrs, fp)\n",
      "urllib.error.HTTPError: HTTP Error 404: \n",
      "\n",
      "During handling of the above exception, another exception occurred:\n",
      "\n",
      "Traceback (most recent call last):\n",
      "  File \"/proj/sbaruah/anaconda3/envs/story/lib/python3.10/site-packages/imdb/__init__.py\", line 848, in update\n",
      "    ret = method(mopID)\n",
      "  File \"/proj/sbaruah/anaconda3/envs/story/lib/python3.10/site-packages/imdb/parser/http/__init__.py\", line 481, in get_movie_main\n",
      "    cont = self._retrieve(self.urls['movie_main'] % movieID + 'reference')\n",
      "  File \"/proj/sbaruah/anaconda3/envs/story/lib/python3.10/site-packages/imdb/parser/http/__init__.py\", line 392, in _retrieve\n",
      "    ret = self.urlOpener.retrieve_unicode(url, size=size)\n",
      "  File \"/proj/sbaruah/anaconda3/envs/story/lib/python3.10/site-packages/imdb/parser/http/__init__.py\", line 261, in retrieve_unicode\n",
      "    raise IMDbDataAccessError(\n",
      "imdb._exceptions.IMDbDataAccessError: {'errcode': None, 'errmsg': 'None', 'url': 'https://www.imdb.com/title/tt1134807/reference', 'proxy': '', 'exception type': 'IOError', 'original exception': <HTTPError 404: ''>}\n",
      "100%|██████████| 2644/2644 [2:14:37<00:00,  3.06s/it]  \n"
     ]
    }
   ],
   "source": [
    "imdb_id_to_movie = {}\n",
    "error_imdb_ids = []\n",
    "\n",
    "for imdb_id in tqdm.tqdm(movie_script_index_df[\"imdb_id\"].dropna().str.slice(2).unique()):\n",
    "    try:\n",
    "        movie = ia.get_movie(imdb_id)\n",
    "        imdb_id_to_movie[imdb_id] = movie\n",
    "    except Exception:\n",
    "        error_imdb_ids.append(imdb_id)"
   ]
  },
  {
   "cell_type": "code",
   "execution_count": 35,
   "metadata": {},
   "outputs": [
    {
     "name": "stdout",
     "output_type": "stream",
     "text": [
      "2643 1\n"
     ]
    }
   ],
   "source": [
    "print(len(imdb_id_to_movie), len(error_imdb_ids))"
   ]
  },
  {
   "cell_type": "code",
   "execution_count": 89,
   "metadata": {},
   "outputs": [],
   "source": [
    "class movieEncoder(json.JSONEncoder):\n",
    "    def default(self, o):\n",
    "        if isinstance(o, imdb.Person.Person):\n",
    "            try:\n",
    "                return {\"personID\": o.personID, \"name\": o.data.get(\"name\")}\n",
    "            except Exception:\n",
    "                print(type(o.currentRole))\n",
    "        elif isinstance(o, imdb.Company.Company):\n",
    "            return {\"companyID\": o.companyID, \"name\": o.data.get(\"name\")}\n",
    "        elif isinstance(o, imdb.Movie.Movie):\n",
    "            return {\"movieID\": o.movieID, \"name\": o.data.get(\"name\")}\n",
    "        return super().default(o)\n",
    "\n",
    "imdb_id_to_movie_data = {}\n",
    "for imdb_id, movie in imdb_id_to_movie.items():\n",
    "    imdb_id_to_movie_data[imdb_id] = movie.data\n",
    "movie_data_file = os.path.join(os.getenv(\"DATA_DIR\"), \n",
    "                               \"narrative_understanding/movie_scripts/movie_scripts/imdb_id_to_movie.json\")\n",
    "json.dump(imdb_id_to_movie_data, open(movie_data_file, \"w\"), indent=2, cls=movieEncoder)"
   ]
  },
  {
   "cell_type": "code",
   "execution_count": null,
   "metadata": {},
   "outputs": [],
   "source": []
  }
 ],
 "metadata": {
  "kernelspec": {
   "display_name": "story",
   "language": "python",
   "name": "python3"
  },
  "language_info": {
   "codemirror_mode": {
    "name": "ipython",
    "version": 3
   },
   "file_extension": ".py",
   "mimetype": "text/x-python",
   "name": "python",
   "nbconvert_exporter": "python",
   "pygments_lexer": "ipython3",
   "version": "3.10.9"
  },
  "orig_nbformat": 4
 },
 "nbformat": 4,
 "nbformat_minor": 2
}
