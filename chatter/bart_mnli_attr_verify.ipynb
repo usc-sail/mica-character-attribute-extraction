{
 "cells": [
  {
   "cell_type": "code",
   "execution_count": 1,
   "metadata": {},
   "outputs": [],
   "source": [
    "import os\n",
    "import json\n",
    "import pandas as pd\n",
    "from transformers import pipeline, BartForSequenceClassification, BartTokenizer\n",
    "import re\n",
    "import tqdm\n",
    "import torch"
   ]
  },
  {
   "attachments": {},
   "cell_type": "markdown",
   "metadata": {},
   "source": [
    "Paths"
   ]
  },
  {
   "cell_type": "code",
   "execution_count": 2,
   "metadata": {},
   "outputs": [],
   "source": [
    "data_dir = os.path.join(os.getenv(\"DATA_DIR\"), \"narrative_understanding/chatter\")"
   ]
  },
  {
   "attachments": {},
   "cell_type": "markdown",
   "metadata": {},
   "source": [
    "Read file"
   ]
  },
  {
   "cell_type": "code",
   "execution_count": 3,
   "metadata": {},
   "outputs": [
    {
     "name": "stdout",
     "output_type": "stream",
     "text": [
      "(710294, 4)\n"
     ]
    }
   ],
   "source": [
    "character_desc_file = os.path.join(data_dir, \"character_descriptions.csv\")\n",
    "character_desc_df = pd.read_csv(character_desc_file, index_col=None)\n",
    "print(character_desc_df.shape)"
   ]
  },
  {
   "attachments": {},
   "cell_type": "markdown",
   "metadata": {},
   "source": [
    "Attribute types"
   ]
  },
  {
   "cell_type": "code",
   "execution_count": 4,
   "metadata": {},
   "outputs": [
    {
     "name": "stdout",
     "output_type": "stream",
     "text": [
      "9 attribute types\n",
      "attribute types =>\n",
      "['age', 'attire', 'demeanor', 'healh status', 'mental state', 'physical appearance', 'profession', 'qualities', 'race']\n"
     ]
    }
   ],
   "source": [
    "attribute_types = [\"physical appearance\", \"attire\", \"mental state\", \"demeanor\", \"profession\", \"age\", \"race\",\n",
    "                   \"qualities\", \"healh status\"]\n",
    "attribute_types = sorted(attribute_types)\n",
    "print(f\"{len(attribute_types)} attribute types\")\n",
    "print(\"attribute types =>\")\n",
    "print(attribute_types)"
   ]
  },
  {
   "attachments": {},
   "cell_type": "markdown",
   "metadata": {},
   "source": [
    "Model"
   ]
  },
  {
   "cell_type": "code",
   "execution_count": 5,
   "metadata": {},
   "outputs": [],
   "source": [
    "bart_nli_model = BartForSequenceClassification.from_pretrained(\"facebook/bart-large-mnli\")\n",
    "bart_nli_tokenizer = BartTokenizer.from_pretrained(\"facebook/bart-large-mnli\")\n",
    "bart_nli_model.to(\"cuda:0\");"
   ]
  },
  {
   "attachments": {},
   "cell_type": "markdown",
   "metadata": {},
   "source": [
    "Prepare Input"
   ]
  },
  {
   "cell_type": "code",
   "execution_count": 6,
   "metadata": {},
   "outputs": [
    {
     "name": "stdout",
     "output_type": "stream",
     "text": [
      "36 samples\n"
     ]
    }
   ],
   "source": [
    "segment_texts, attribute_labels = [], []\n",
    "character_desc_sample_df = character_desc_df.sample(4)\n",
    "\n",
    "for _, row in character_desc_sample_df.iterrows():\n",
    "    character = row[\"character\"]\n",
    "    for attr in attribute_types:\n",
    "        segment_texts.append(row[\"segment_text\"])\n",
    "        attribute_labels.append(f\"This text describes the {attr} of {character}\")\n",
    "\n",
    "print(f\"{len(segment_texts)} samples\")"
   ]
  },
  {
   "cell_type": "code",
   "execution_count": 7,
   "metadata": {},
   "outputs": [],
   "source": [
    "result = bart_nli_tokenizer(segment_texts, attribute_labels, return_tensors=\"pt\", padding=\"longest\")\n",
    "result = result.to(\"cuda:0\")\n",
    "bart_nli_model.eval()\n",
    "with torch.no_grad():\n",
    "    logits = bart_nli_model(**result)[0]"
   ]
  },
  {
   "cell_type": "code",
   "execution_count": 8,
   "metadata": {},
   "outputs": [
    {
     "name": "stdout",
     "output_type": "stream",
     "text": [
      "torch.Size([36, 2])\n"
     ]
    }
   ],
   "source": [
    "logits = logits[:,[0,2]]\n",
    "prob = torch.softmax(logits, dim=1)\n",
    "print(prob.shape)"
   ]
  },
  {
   "cell_type": "code",
   "execution_count": 11,
   "metadata": {},
   "outputs": [
    {
     "name": "stdout",
     "output_type": "stream",
     "text": [
      "(36, 2) <class 'numpy.ndarray'>\n"
     ]
    }
   ],
   "source": [
    "prob = prob.cpu().numpy()\n",
    "print(prob.shape, type(prob))"
   ]
  },
  {
   "cell_type": "code",
   "execution_count": 13,
   "metadata": {},
   "outputs": [
    {
     "name": "stdout",
     "output_type": "stream",
     "text": [
      "SEGMENT =>\n",
      "Ken Taylor drives up to a nice, but not huge, home in the expat/diplomatic neighborhood of Tehran. Automatic gates open.\n",
      "ATTRIBUTE TYPE = This text describes the profession of KEN TAYLOR\n",
      "\n",
      "SEGMENT =>\n",
      "Qjgku ughaa eSa fcYdqy Bhd gw!A FkSaD;wA vki yksx tk,] vki yksx tk,A eSa pyk tkAaxkA Farhan starts running towards the exit. The flummoxed Medical Staff call out after him.\n",
      "ATTRIBUTE TYPE = This text describes the demeanor of FARHAN\n",
      "\n",
      "SEGMENT =>\n",
      "Qjgku ughaa eSa fcYdqy Bhd gw!A FkSaD;wA vki yksx tk,] vki yksx tk,A eSa pyk tkAaxkA Farhan starts running towards the exit. The flummoxed Medical Staff call out after him.\n",
      "ATTRIBUTE TYPE = This text describes the mental state of FARHAN\n",
      "\n"
     ]
    }
   ],
   "source": [
    "for segment_text, attr, p in zip(segment_texts, attribute_labels, prob):\n",
    "    if p[1] > 0.5:\n",
    "        print(\"SEGMENT =>\")\n",
    "        print(segment_text)\n",
    "        print(f\"ATTRIBUTE TYPE = {attr}\")\n",
    "        print()"
   ]
  },
  {
   "cell_type": "code",
   "execution_count": null,
   "metadata": {},
   "outputs": [],
   "source": []
  }
 ],
 "metadata": {
  "kernelspec": {
   "display_name": "story",
   "language": "python",
   "name": "python3"
  },
  "language_info": {
   "codemirror_mode": {
    "name": "ipython",
    "version": 3
   },
   "file_extension": ".py",
   "mimetype": "text/x-python",
   "name": "python",
   "nbconvert_exporter": "python",
   "pygments_lexer": "ipython3",
   "version": "3.10.9"
  },
  "orig_nbformat": 4
 },
 "nbformat": 4,
 "nbformat_minor": 2
}
