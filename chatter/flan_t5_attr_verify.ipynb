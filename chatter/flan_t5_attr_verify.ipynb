{
 "cells": [
  {
   "cell_type": "code",
   "execution_count": 1,
   "metadata": {},
   "outputs": [],
   "source": [
    "import torch\n",
    "from transformers import T5Tokenizer, T5ForConditionalGeneration\n",
    "import os\n",
    "import pandas as pd\n",
    "import numpy as np\n",
    "import tqdm"
   ]
  },
  {
   "cell_type": "code",
   "execution_count": 2,
   "metadata": {},
   "outputs": [],
   "source": [
    "tokenizer = T5Tokenizer.from_pretrained(\"google/flan-t5-small\")\n",
    "model = T5ForConditionalGeneration.from_pretrained(\"google/flan-t5-small\")\n",
    "model.to(\"cuda:0\");"
   ]
  },
  {
   "cell_type": "code",
   "execution_count": 13,
   "metadata": {},
   "outputs": [],
   "source": [
    "text = \"DETECTIVE SERGEANT ALONZO HARRIS, in black shirt, black leather jacket. And just enough platinum and diamonds to look like somebody. He reads the paper in a booth. The gun leather-tough LAPD vet is a hands-on, blue-collar cop who can kick your ass with a look.\"\n",
    "character = \"ALONZO HARRIS\"\n",
    "result = tokenizer(f\"Answer yes or no if the following text describes or mentions {character}'s health status.\"\n",
    "                   f\"\\n\\n{text}\\n\\nAnswer:\", return_tensors=\"pt\").to(\"cuda:0\")"
   ]
  },
  {
   "cell_type": "code",
   "execution_count": 14,
   "metadata": {},
   "outputs": [],
   "source": [
    "output = model.generate(result[\"input_ids\"], max_new_tokens=5, temperature=0.5)"
   ]
  },
  {
   "cell_type": "code",
   "execution_count": 15,
   "metadata": {},
   "outputs": [
    {
     "data": {
      "text/plain": [
       "'yes'"
      ]
     },
     "execution_count": 15,
     "metadata": {},
     "output_type": "execute_result"
    }
   ],
   "source": [
    "tokenizer.decode(output[0], skip_special_tokens=True)"
   ]
  },
  {
   "cell_type": "code",
   "execution_count": null,
   "metadata": {},
   "outputs": [],
   "source": [
    "# read character descriptions\n",
    "data_dir = os.path.join(os.getenv(\"DATA_DIR\"), \"narrative_understanding/chatter\")\n",
    "character_desc_file = os.path.join(data_dir, \"character_descriptions.csv\")\n",
    "character_desc_df = pd.read_csv(character_desc_file, index_col=None)\n",
    "print(f\"{len(character_desc_df)} character descriptions\")\n",
    "\n",
    "# read attribute types\n",
    "attr_type_file = os.path.join(data_dir, \"attributes.txt\")\n",
    "with open(attr_type_file, \"r\") as fr:\n",
    "    attributes = fr.read().strip().split(\"\\n\")\n",
    "attributes = sorted(attributes)\n",
    "print(f\"{len(attributes)} attribute types\")\n",
    "print(\"attribute types =>\")\n",
    "print(attributes)\n",
    "print()\n",
    "\n",
    "# prepare dataset\n",
    "ids, segment_texts, labels = [], [], []\n",
    "hypothesis = \"\"\n",
    "n = 1000\n",
    "character_desc_df = character_desc_df.sample(n)\n",
    "character_desc_df[\"segment_text_size\"] = character_desc_df[\"segment_text\"].str.split().apply(len)\n",
    "character_desc_df.sort_values(by=\"segment_text_size\", ascending=False, inplace=True)\n",
    "for ind, row in tqdm.tqdm(character_desc_df.iterrows(), total=len(character_desc_df), desc=\"creating nli data\"):\n",
    "    character = str(row[\"character\"])\n",
    "    for attr in attributes:\n",
    "        ids.append(ind)\n",
    "        segment_texts.append(row[\"segment_text\"])\n",
    "        label = hypothesis.replace(\"CHARACTER\", character).replace(\"ATTRIBUTE\", attr)\n",
    "        labels.append(label)\n",
    "print()\n",
    "print(f\"{len(segment_texts)} samples\\n\")"
   ]
  }
 ],
 "metadata": {
  "kernelspec": {
   "display_name": "Python 3",
   "language": "python",
   "name": "python3"
  },
  "language_info": {
   "codemirror_mode": {
    "name": "ipython",
    "version": 3
   },
   "file_extension": ".py",
   "mimetype": "text/x-python",
   "name": "python",
   "nbconvert_exporter": "python",
   "pygments_lexer": "ipython3",
   "version": "3.10.9"
  },
  "orig_nbformat": 4,
  "vscode": {
   "interpreter": {
    "hash": "db69e010d4c47fb74a02f44a75b707cac0857b3158fabe1c934fd5f960d35ed9"
   }
  }
 },
 "nbformat": 4,
 "nbformat_minor": 2
}
