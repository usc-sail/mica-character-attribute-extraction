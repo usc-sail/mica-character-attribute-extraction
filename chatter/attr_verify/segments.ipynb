{
 "cells": [
  {
   "cell_type": "code",
   "execution_count": 2,
   "metadata": {},
   "outputs": [],
   "source": [
    "import os\n",
    "import re\n",
    "import tqdm\n",
    "import random\n",
    "import unidecode\n",
    "import numpy as np\n",
    "import matplotlib.pyplot as plt"
   ]
  },
  {
   "attachments": {},
   "cell_type": "markdown",
   "metadata": {},
   "source": [
    "Files"
   ]
  },
  {
   "cell_type": "code",
   "execution_count": 3,
   "metadata": {},
   "outputs": [
    {
     "name": "stderr",
     "output_type": "stream",
     "text": [
      "100%|██████████| 2660/2660 [00:59<00:00, 44.42it/s]"
     ]
    },
    {
     "name": "stdout",
     "output_type": "stream",
     "text": [
      "277873 scenes\n"
     ]
    },
    {
     "name": "stderr",
     "output_type": "stream",
     "text": [
      "\n"
     ]
    }
   ],
   "source": [
    "scripts_dir = \"/data/sbaruah/narrative_understanding/chatter/scripts/\"\n",
    "scene_regex = re.compile(r\"S+[^S]+\")\n",
    "scene_texts, scene_sizes = [], []\n",
    "\n",
    "for imdb_id in tqdm.tqdm(os.listdir(scripts_dir)):\n",
    "    script_file = os.path.join(scripts_dir, imdb_id, \"script.txt\")\n",
    "    parse_file = os.path.join(scripts_dir, imdb_id, \"parse.txt\")\n",
    "\n",
    "    if os.path.exists(script_file) and os.path.exists(parse_file):\n",
    "        with open(script_file) as f1, open(parse_file) as f2:\n",
    "            script_lines = f1.read().strip().split(\"\\n\")\n",
    "            parse_tags = f2.read().strip().split(\"\\n\")\n",
    "            assert len(script_lines) == len(parse_tags)\n",
    "        \n",
    "        for match in re.finditer(scene_regex, \"\".join(parse_tags)):\n",
    "            start, end = match.span(0)\n",
    "            segments, segment_tags = [], []\n",
    "\n",
    "            i = start\n",
    "            while i < end:\n",
    "                j = i + 1\n",
    "                while j < end and parse_tags[j] == parse_tags[i]:\n",
    "                    j += 1\n",
    "                segment = \" \".join(script_lines[i: j])\n",
    "                segment = re.sub(\"\\s+\", \" \", segment.strip())\n",
    "                segment = unidecode.unidecode(segment, errors=\"ignore\")\n",
    "                segments.append(segment)\n",
    "                segment_tags.append(parse_tags[i])\n",
    "                i = j\n",
    "\n",
    "            scene_segments = []\n",
    "            i = 0\n",
    "            while i < len(segments):\n",
    "                if segment_tags[i] == \"C\":\n",
    "                    speaker = segments[i]\n",
    "                    j = i + 1\n",
    "                    utterance_with_expr = []\n",
    "                    while j < len(segments) and segment_tags[j] in [\"E\", \"D\"]:\n",
    "                        segment = segments[j]\n",
    "                        if segment_tags[j] == \"E\" and not segment.startswith(\"(\"):\n",
    "                            segment = f\"({segment})\"\n",
    "                        utterance_with_expr.append(segment)\n",
    "                        j += 1\n",
    "                    utterance_with_expr = \" \".join(utterance_with_expr)\n",
    "                    utterance_with_expr = re.sub(\"\\s+\", \" \", utterance_with_expr.strip())\n",
    "                    scene_segment = f\"{speaker} says \\\"{utterance_with_expr}\\\"\"\n",
    "                    scene_segments.append(scene_segment)\n",
    "                    i = j\n",
    "                else:\n",
    "                    scene_segments.append(segments[i])\n",
    "                    i += 1\n",
    "\n",
    "            scene_text = \"\\n\".join(scene_segments)\n",
    "            scene_size = len(re.split(\"\\w+\", scene_text))\n",
    "            scene_texts.append(scene_text)\n",
    "            scene_sizes.append(scene_size)\n",
    "\n",
    "print(f\"{len(scene_texts)} scenes\")"
   ]
  },
  {
   "cell_type": "code",
   "execution_count": 4,
   "metadata": {},
   "outputs": [
    {
     "name": "stdout",
     "output_type": "stream",
     "text": [
      "scene size =>\n",
      "min = 2, max = 48499, mean = 225.1, std = 489.38\n",
      "median = 101.0, 75%tile = 251.0, 90%tile = 517.0\n"
     ]
    },
    {
     "data": {
      "image/png": "[encoded data removed]",
      "text/plain": [
       "<Figure size 640x480 with 1 Axes>"
      ]
     },
     "metadata": {},
     "output_type": "display_data"
    }
   ],
   "source": [
    "scene_sizes = np.array(scene_sizes)\n",
    "print(\"scene size =>\")\n",
    "print(f\"min = {np.min(scene_sizes)}, max = {np.max(scene_sizes)}, mean = {np.mean(scene_sizes):.1f}, \"\n",
    "      f\"std = {np.std(scene_sizes):.2f}\")\n",
    "print(f\"median = {np.median(scene_sizes)}, 75%tile = {np.quantile(scene_sizes, 0.75):.1f}, \"\n",
    "      f\"90%tile = {np.quantile(scene_sizes, 0.9):.1f}\")\n",
    "scene_sizes_filtered = scene_sizes[scene_sizes < np.quantile(scene_sizes, 0.99)]\n",
    "plt.hist(scene_sizes_filtered, bins=100, density=True)\n",
    "plt.xlabel(\"scene size\")\n",
    "plt.ylabel(\"density\")\n",
    "plt.title(\"Distribution of scene size\")\n",
    "plt.show()"
   ]
  },
  {
   "cell_type": "code",
   "execution_count": 5,
   "metadata": {},
   "outputs": [
    {
     "name": "stdout",
     "output_type": "stream",
     "text": [
      "151 EXT. ELLIS' HOUSEBOAT - CONTINUOUS 151\n",
      "\n",
      "Carver steps across the plank onto the houseboat followed by James. Carver motions him around back toward Ellis' window.\n",
      "\n",
      "CARVER says \"Flush him out this way. Carver walks to the covered carport.\"\n",
      "\n"
     ]
    }
   ],
   "source": [
    "print(random.choice(scene_texts))"
   ]
  },
  {
   "cell_type": "code",
   "execution_count": null,
   "metadata": {},
   "outputs": [],
   "source": []
  }
 ],
 "metadata": {
  "kernelspec": {
   "display_name": "story",
   "language": "python",
   "name": "python3"
  },
  "language_info": {
   "codemirror_mode": {
    "name": "ipython",
    "version": 3
   },
   "file_extension": ".py",
   "mimetype": "text/x-python",
   "name": "python",
   "nbconvert_exporter": "python",
   "pygments_lexer": "ipython3",
   "version": "3.11.3"
  },
  "orig_nbformat": 4
 },
 "nbformat": 4,
 "nbformat_minor": 2
}
