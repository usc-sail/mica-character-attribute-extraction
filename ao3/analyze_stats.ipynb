{
 "cells": [
  {
   "cell_type": "code",
   "execution_count": 21,
   "metadata": {},
   "outputs": [],
   "source": [
    "import pandas as pd\n",
    "import numpy as np\n",
    "import os\n",
    "import collections"
   ]
  },
  {
   "cell_type": "code",
   "execution_count": 3,
   "metadata": {},
   "outputs": [],
   "source": [
    "data_dir = os.path.join(os.getenv(\"DATA_DIR\"), \"narrative_understanding/ao3\")"
   ]
  },
  {
   "cell_type": "code",
   "execution_count": 7,
   "metadata": {},
   "outputs": [],
   "source": [
    "tags_file = os.path.join(data_dir, \"tags-20210226.csv\")\n",
    "works_file = os.path.join(data_dir, \"works-20210226.csv\")"
   ]
  },
  {
   "cell_type": "code",
   "execution_count": 8,
   "metadata": {},
   "outputs": [],
   "source": [
    "tags_df = pd.read_csv(tags_file, index_col=None)\n",
    "works_df = pd.read_csv(works_file, index_col=None)"
   ]
  },
  {
   "cell_type": "code",
   "execution_count": 10,
   "metadata": {},
   "outputs": [
    {
     "data": {
      "text/html": [
       "<div>\n",
       "<style scoped>\n",
       "    .dataframe tbody tr th:only-of-type {\n",
       "        vertical-align: middle;\n",
       "    }\n",
       "\n",
       "    .dataframe tbody tr th {\n",
       "        vertical-align: top;\n",
       "    }\n",
       "\n",
       "    .dataframe thead th {\n",
       "        text-align: right;\n",
       "    }\n",
       "</style>\n",
       "<table border=\"1\" class=\"dataframe\">\n",
       "  <thead>\n",
       "    <tr style=\"text-align: right;\">\n",
       "      <th></th>\n",
       "      <th>id</th>\n",
       "      <th>type</th>\n",
       "      <th>name</th>\n",
       "      <th>canonical</th>\n",
       "      <th>cached_count</th>\n",
       "      <th>merger_id</th>\n",
       "    </tr>\n",
       "  </thead>\n",
       "  <tbody>\n",
       "    <tr>\n",
       "      <th>0</th>\n",
       "      <td>1</td>\n",
       "      <td>Media</td>\n",
       "      <td>TV Shows</td>\n",
       "      <td>True</td>\n",
       "      <td>910</td>\n",
       "      <td>NaN</td>\n",
       "    </tr>\n",
       "    <tr>\n",
       "      <th>1</th>\n",
       "      <td>2</td>\n",
       "      <td>Media</td>\n",
       "      <td>Movies</td>\n",
       "      <td>True</td>\n",
       "      <td>1164</td>\n",
       "      <td>NaN</td>\n",
       "    </tr>\n",
       "    <tr>\n",
       "      <th>2</th>\n",
       "      <td>3</td>\n",
       "      <td>Media</td>\n",
       "      <td>Books &amp; Literature</td>\n",
       "      <td>True</td>\n",
       "      <td>134</td>\n",
       "      <td>NaN</td>\n",
       "    </tr>\n",
       "    <tr>\n",
       "      <th>3</th>\n",
       "      <td>4</td>\n",
       "      <td>Media</td>\n",
       "      <td>Cartoons &amp; Comics &amp; Graphic Novels</td>\n",
       "      <td>True</td>\n",
       "      <td>166</td>\n",
       "      <td>NaN</td>\n",
       "    </tr>\n",
       "    <tr>\n",
       "      <th>4</th>\n",
       "      <td>5</td>\n",
       "      <td>Media</td>\n",
       "      <td>Anime &amp; Manga</td>\n",
       "      <td>True</td>\n",
       "      <td>501</td>\n",
       "      <td>NaN</td>\n",
       "    </tr>\n",
       "  </tbody>\n",
       "</table>\n",
       "</div>"
      ],
      "text/plain": [
       "   id   type                                name  canonical  cached_count  \\\n",
       "0   1  Media                            TV Shows       True           910   \n",
       "1   2  Media                              Movies       True          1164   \n",
       "2   3  Media                  Books & Literature       True           134   \n",
       "3   4  Media  Cartoons & Comics & Graphic Novels       True           166   \n",
       "4   5  Media                       Anime & Manga       True           501   \n",
       "\n",
       "   merger_id  \n",
       "0        NaN  \n",
       "1        NaN  \n",
       "2        NaN  \n",
       "3        NaN  \n",
       "4        NaN  "
      ]
     },
     "metadata": {},
     "output_type": "display_data"
    },
    {
     "name": "stdout",
     "output_type": "stream",
     "text": [
      "(14467138, 6)\n"
     ]
    }
   ],
   "source": [
    "display(tags_df.head())\n",
    "print(tags_df.shape)"
   ]
  },
  {
   "cell_type": "code",
   "execution_count": 11,
   "metadata": {},
   "outputs": [
    {
     "data": {
      "text/html": [
       "<div>\n",
       "<style scoped>\n",
       "    .dataframe tbody tr th:only-of-type {\n",
       "        vertical-align: middle;\n",
       "    }\n",
       "\n",
       "    .dataframe tbody tr th {\n",
       "        vertical-align: top;\n",
       "    }\n",
       "\n",
       "    .dataframe thead th {\n",
       "        text-align: right;\n",
       "    }\n",
       "</style>\n",
       "<table border=\"1\" class=\"dataframe\">\n",
       "  <thead>\n",
       "    <tr style=\"text-align: right;\">\n",
       "      <th></th>\n",
       "      <th>creation date</th>\n",
       "      <th>language</th>\n",
       "      <th>restricted</th>\n",
       "      <th>complete</th>\n",
       "      <th>word_count</th>\n",
       "      <th>tags</th>\n",
       "      <th>Unnamed: 6</th>\n",
       "    </tr>\n",
       "  </thead>\n",
       "  <tbody>\n",
       "    <tr>\n",
       "      <th>0</th>\n",
       "      <td>2021-02-26</td>\n",
       "      <td>en</td>\n",
       "      <td>False</td>\n",
       "      <td>True</td>\n",
       "      <td>388.0</td>\n",
       "      <td>10+414093+1001939+4577144+1499536+110+4682892+...</td>\n",
       "      <td>NaN</td>\n",
       "    </tr>\n",
       "    <tr>\n",
       "      <th>1</th>\n",
       "      <td>2021-02-26</td>\n",
       "      <td>en</td>\n",
       "      <td>False</td>\n",
       "      <td>True</td>\n",
       "      <td>1638.0</td>\n",
       "      <td>10+20350917+34816907+23666027+23269305+2326930...</td>\n",
       "      <td>NaN</td>\n",
       "    </tr>\n",
       "    <tr>\n",
       "      <th>2</th>\n",
       "      <td>2021-02-26</td>\n",
       "      <td>en</td>\n",
       "      <td>False</td>\n",
       "      <td>True</td>\n",
       "      <td>1502.0</td>\n",
       "      <td>10+10613413+9780526+3763877+3741104+7657229+30...</td>\n",
       "      <td>NaN</td>\n",
       "    </tr>\n",
       "    <tr>\n",
       "      <th>3</th>\n",
       "      <td>2021-02-26</td>\n",
       "      <td>en</td>\n",
       "      <td>False</td>\n",
       "      <td>True</td>\n",
       "      <td>100.0</td>\n",
       "      <td>10+15322+54862755+20595867+32994286+663+471751...</td>\n",
       "      <td>NaN</td>\n",
       "    </tr>\n",
       "    <tr>\n",
       "      <th>4</th>\n",
       "      <td>2021-02-26</td>\n",
       "      <td>en</td>\n",
       "      <td>False</td>\n",
       "      <td>True</td>\n",
       "      <td>994.0</td>\n",
       "      <td>11+721553+54604+1439500+3938423+53483274+54862...</td>\n",
       "      <td>NaN</td>\n",
       "    </tr>\n",
       "  </tbody>\n",
       "</table>\n",
       "</div>"
      ],
      "text/plain": [
       "  creation date language  restricted  complete  word_count  \\\n",
       "0    2021-02-26       en       False      True       388.0   \n",
       "1    2021-02-26       en       False      True      1638.0   \n",
       "2    2021-02-26       en       False      True      1502.0   \n",
       "3    2021-02-26       en       False      True       100.0   \n",
       "4    2021-02-26       en       False      True       994.0   \n",
       "\n",
       "                                                tags  Unnamed: 6  \n",
       "0  10+414093+1001939+4577144+1499536+110+4682892+...         NaN  \n",
       "1  10+20350917+34816907+23666027+23269305+2326930...         NaN  \n",
       "2  10+10613413+9780526+3763877+3741104+7657229+30...         NaN  \n",
       "3  10+15322+54862755+20595867+32994286+663+471751...         NaN  \n",
       "4  11+721553+54604+1439500+3938423+53483274+54862...         NaN  "
      ]
     },
     "metadata": {},
     "output_type": "display_data"
    },
    {
     "name": "stdout",
     "output_type": "stream",
     "text": [
      "(7269693, 7)\n"
     ]
    }
   ],
   "source": [
    "display(works_df.head())\n",
    "print(works_df.shape)"
   ]
  },
  {
   "cell_type": "code",
   "execution_count": 22,
   "metadata": {},
   "outputs": [
    {
     "name": "stdout",
     "output_type": "stream",
     "text": [
      "tags.shape = (1621975, 6)\n"
     ]
    }
   ],
   "source": [
    "tags_df = tags_df[tags_df[\"name\"] != \"Redacted\"]\n",
    "tags_df.sort_values(\"cached_count\", inplace=True, ascending=False)\n",
    "print(f\"tags.shape = {tags_df.shape}\")"
   ]
  },
  {
   "cell_type": "code",
   "execution_count": 23,
   "metadata": {},
   "outputs": [
    {
     "data": {
      "text/plain": [
       "Counter({'ArchiveWarning': 6,\n",
       "         'Category': 8,\n",
       "         'Rating': 6,\n",
       "         'Freeform': 463965,\n",
       "         'Fandom': 58822,\n",
       "         'Character': 386635,\n",
       "         'Relationship': 674687,\n",
       "         'UnsortedTag': 37834,\n",
       "         'Media': 12})"
      ]
     },
     "execution_count": 23,
     "metadata": {},
     "output_type": "execute_result"
    }
   ],
   "source": [
    "collections.Counter(tags_df[\"type\"])"
   ]
  },
  {
   "cell_type": "code",
   "execution_count": 24,
   "metadata": {},
   "outputs": [
    {
     "name": "stdout",
     "output_type": "stream",
     "text": [
      "ArchiveWarning:  ['No Archive Warnings Apply' 'Choose Not To Use Archive Warnings'\n",
      " 'Graphic Depictions Of Violence' 'Major Character Death' 'Rape/Non-Con'\n",
      " 'Underage']\n"
     ]
    }
   ],
   "source": [
    "print(\"ArchiveWarning: \", tags_df.loc[tags_df[\"type\"] == \"ArchiveWarning\", \"name\"].unique())"
   ]
  },
  {
   "cell_type": "code",
   "execution_count": 25,
   "metadata": {},
   "outputs": [
    {
     "name": "stdout",
     "output_type": "stream",
     "text": [
      "Category:  ['M/M' 'F/M' 'Gen' 'F/F' 'Multi' 'Other' 'M/F - Category' 'М/М']\n"
     ]
    }
   ],
   "source": [
    "print(\"Category: \", tags_df.loc[tags_df[\"type\"] == \"Category\", \"name\"].unique())"
   ]
  },
  {
   "cell_type": "code",
   "execution_count": 30,
   "metadata": {},
   "outputs": [
    {
     "data": {
      "text/plain": [
       "24                           Dean Winchester\n",
       "2663                              Tony Stark\n",
       "5975                            Steve Rogers\n",
       "1535                            Harry Potter\n",
       "2458                     Original Characters\n",
       "                          ...               \n",
       "6089588        Francis Barber (c. 1742-1801)\n",
       "6089586                         Harold Bates\n",
       "1355433          Yusuf (Mission: Impossible)\n",
       "11481909                     Adrienne Berene\n",
       "11482274    Franz Kafka (Rusty Quill Gaming)\n",
       "Name: name, Length: 386635, dtype: object"
      ]
     },
     "execution_count": 30,
     "metadata": {},
     "output_type": "execute_result"
    }
   ],
   "source": [
    "tags_df.loc[tags_df[\"type\"] == \"Character\", \"name\"]"
   ]
  },
  {
   "cell_type": "code",
   "execution_count": 31,
   "metadata": {},
   "outputs": [],
   "source": [
    "tags_df.loc[tags_df[\"type\"] == \"Freeform\", [\"name\", \"cached_count\"]].to_csv(\n",
    "    os.path.join(data_dir, \"freeform_tags.csv\"), index=False)"
   ]
  },
  {
   "cell_type": "code",
   "execution_count": null,
   "metadata": {},
   "outputs": [],
   "source": []
  }
 ],
 "metadata": {
  "kernelspec": {
   "display_name": "story",
   "language": "python",
   "name": "python3"
  },
  "language_info": {
   "codemirror_mode": {
    "name": "ipython",
    "version": 3
   },
   "file_extension": ".py",
   "mimetype": "text/x-python",
   "name": "python",
   "nbconvert_exporter": "python",
   "pygments_lexer": "ipython3",
   "version": "3.10.9"
  },
  "orig_nbformat": 4
 },
 "nbformat": 4,
 "nbformat_minor": 2
}
