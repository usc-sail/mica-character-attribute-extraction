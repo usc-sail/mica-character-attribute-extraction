{
 "cells": [
  {
   "cell_type": "code",
   "execution_count": 1,
   "metadata": {},
   "outputs": [],
   "source": [
    "import os\n",
    "import re\n",
    "import json\n",
    "import tqdm\n",
    "import random\n",
    "import openai\n",
    "import tiktoken\n",
    "import langdetect\n",
    "import collections\n",
    "import numpy as np\n",
    "import pandas as pd\n",
    "import matplotlib.pyplot as plt"
   ]
  },
  {
   "attachments": {},
   "cell_type": "markdown",
   "metadata": {},
   "source": [
    "Read files"
   ]
  },
  {
   "cell_type": "code",
   "execution_count": 3,
   "metadata": {},
   "outputs": [
    {
     "data": {
      "text/html": [
       "<div>\n",
       "<style scoped>\n",
       "    .dataframe tbody tr th:only-of-type {\n",
       "        vertical-align: middle;\n",
       "    }\n",
       "\n",
       "    .dataframe tbody tr th {\n",
       "        vertical-align: top;\n",
       "    }\n",
       "\n",
       "    .dataframe thead th {\n",
       "        text-align: right;\n",
       "    }\n",
       "</style>\n",
       "<table border=\"1\" class=\"dataframe\">\n",
       "  <thead>\n",
       "    <tr style=\"text-align: right;\">\n",
       "      <th></th>\n",
       "      <th>attr</th>\n",
       "      <th>id</th>\n",
       "      <th>imdb_id</th>\n",
       "      <th>text_id</th>\n",
       "      <th>text</th>\n",
       "      <th>character</th>\n",
       "      <th>genres</th>\n",
       "      <th>answer_prob</th>\n",
       "    </tr>\n",
       "  </thead>\n",
       "  <tbody>\n",
       "    <tr>\n",
       "      <th>0</th>\n",
       "      <td>accomplishments</td>\n",
       "      <td>259</td>\n",
       "      <td>6294822</td>\n",
       "      <td>35</td>\n",
       "      <td>They walk into Bradlee's office, where we stay...</td>\n",
       "      <td>Ben Bradlee</td>\n",
       "      <td>Biography,Drama,History,Thriller,War</td>\n",
       "      <td>0.768555</td>\n",
       "    </tr>\n",
       "    <tr>\n",
       "      <th>1</th>\n",
       "      <td>accomplishments</td>\n",
       "      <td>260</td>\n",
       "      <td>6294822</td>\n",
       "      <td>35</td>\n",
       "      <td>They walk into Bradlee's office, where we stay...</td>\n",
       "      <td>BRADLEE</td>\n",
       "      <td>Biography,Drama,History,Thriller,War</td>\n",
       "      <td>0.772461</td>\n",
       "    </tr>\n",
       "    <tr>\n",
       "      <th>2</th>\n",
       "      <td>accomplishments</td>\n",
       "      <td>818</td>\n",
       "      <td>213149</td>\n",
       "      <td>220</td>\n",
       "      <td>Dorie Miller, the boxing champion/kitchen help...</td>\n",
       "      <td>DORIE MILLER</td>\n",
       "      <td>Action,Drama,History,Romance,War</td>\n",
       "      <td>0.569336</td>\n",
       "    </tr>\n",
       "    <tr>\n",
       "      <th>3</th>\n",
       "      <td>accomplishments</td>\n",
       "      <td>1080</td>\n",
       "      <td>120801</td>\n",
       "      <td>1</td>\n",
       "      <td>Gregg Toland: KANE Director of Photography Joe...</td>\n",
       "      <td>JOE WILLICOMBE</td>\n",
       "      <td>Biography,Drama</td>\n",
       "      <td>0.647461</td>\n",
       "    </tr>\n",
       "    <tr>\n",
       "      <th>4</th>\n",
       "      <td>accomplishments</td>\n",
       "      <td>4272</td>\n",
       "      <td>36027</td>\n",
       "      <td>179</td>\n",
       "      <td>A returning wave brings Jessica's body back ag...</td>\n",
       "      <td>BOECKLIN</td>\n",
       "      <td>Drama,Fantasy,Horror,Romance</td>\n",
       "      <td>0.733398</td>\n",
       "    </tr>\n",
       "  </tbody>\n",
       "</table>\n",
       "</div>"
      ],
      "text/plain": [
       "              attr    id  imdb_id  text_id  \\\n",
       "0  accomplishments   259  6294822       35   \n",
       "1  accomplishments   260  6294822       35   \n",
       "2  accomplishments   818   213149      220   \n",
       "3  accomplishments  1080   120801        1   \n",
       "4  accomplishments  4272    36027      179   \n",
       "\n",
       "                                                text       character  \\\n",
       "0  They walk into Bradlee's office, where we stay...     Ben Bradlee   \n",
       "1  They walk into Bradlee's office, where we stay...         BRADLEE   \n",
       "2  Dorie Miller, the boxing champion/kitchen help...    DORIE MILLER   \n",
       "3  Gregg Toland: KANE Director of Photography Joe...  JOE WILLICOMBE   \n",
       "4  A returning wave brings Jessica's body back ag...        BOECKLIN   \n",
       "\n",
       "                                 genres  answer_prob  \n",
       "0  Biography,Drama,History,Thriller,War     0.768555  \n",
       "1  Biography,Drama,History,Thriller,War     0.772461  \n",
       "2      Action,Drama,History,Romance,War     0.569336  \n",
       "3                       Biography,Drama     0.647461  \n",
       "4          Drama,Fantasy,Horror,Romance     0.733398  "
      ]
     },
     "metadata": {},
     "output_type": "display_data"
    },
    {
     "name": "stdout",
     "output_type": "stream",
     "text": [
      "3159\n"
     ]
    }
   ],
   "source": [
    "data_dir = os.path.join(os.getenv(\"DATA_DIR\"), \"narrative_understanding/chatter\")\n",
    "samples_file = os.path.join(data_dir, \"attr_annot/samples.csv\")\n",
    "zero_txt_file = os.path.join(data_dir, \"attr_annot/zero.txt\")\n",
    "zero_json_file = os.path.join(data_dir, \"attr_annot/zero.json\")\n",
    "few_txt_file = os.path.join(data_dir, \"attr_annot/few.txt\")\n",
    "few_json_file = os.path.join(data_dir, \"attr_annot/few.json\")\n",
    "cot_txt_file = os.path.join(data_dir, \"attr_annot/cot.txt\")\n",
    "cot_json_file = os.path.join(data_dir, \"attr_annot/cot.json\")\n",
    "df = pd.read_csv(samples_file, index_col=None)\n",
    "\n",
    "with open(zero_txt_file) as fr1, open(zero_json_file) as fr2:\n",
    "    zero_responses_txt = fr1.read().strip().split(\"\\n\")\n",
    "    zero_responses_json = json.load(fr2)\n",
    "with open(few_txt_file) as fr1, open(few_json_file) as fr2:\n",
    "    few_responses_txt = fr1.read().strip().split(\"\\n\")\n",
    "    few_responses_json = json.load(fr2)\n",
    "with open(cot_txt_file) as fr1, open(cot_json_file) as fr2:\n",
    "    cot_responses_txt = fr1.read().strip().split(\"\\n\")\n",
    "    cot_responses_json = json.load(fr2)\n",
    "\n",
    "display(df.head(5))\n",
    "print(df.shape[0])"
   ]
  },
  {
   "attachments": {},
   "cell_type": "markdown",
   "metadata": {},
   "source": [
    "Find cot responses that do not end in \"Therefore, the answer is ...\""
   ]
  },
  {
   "cell_type": "code",
   "execution_count": 5,
   "metadata": {},
   "outputs": [
    {
     "name": "stdout",
     "output_type": "stream",
     "text": [
      "24 responses does not have 'Therefore, the answer is ...' at the end\n",
      "Erroneous responses =>\n",
      "\t 1. CANNOT ANSWER\n",
      "\t 2. CANNOT ANSWER\n",
      "\t 3. CANNOT ANSWER\n",
      "\t 4. CANNOT ANSWER\n",
      "\t 5. CANNOT ANSWER\n",
      "\t 6. CANNOT ANSWER\n",
      "\t 7. CANNOT ANSWER.\n",
      "\t 8. CANNOT ANSWER\n",
      "\t 9. CANNOT ANSWER\n",
      "\t10. CANNOT ANSWER\n",
      "\t11. CANNOT ANSWER\n",
      "\t12. CANNOT ANSWER\n",
      "\t13. CANNOT ANSWER\n",
      "\t14. CANNOT ANSWER\n",
      "\t15. CANNOT ANSWER\n",
      "\t16. CANNOT ANSWER\n",
      "\t17. CANNOT ANSWER\n",
      "\t18. Henry looks defeated when he steps out of the elevator. This suggests that he is feeling down and discouraged. Therefore, his demeanor is \"Defeated, discouraged\".\n",
      "\t19. CANNOT ANSWER\n",
      "\t20. CANNOT ANSWER\n",
      "\t21. CANNOT ANSWER\n",
      "\t22. CANNOT ANSWER\n",
      "\t23. CANNOT ANSWER\n",
      "\t24. The passage states that all five men are black and Muslim. Therefore, Thomas Hayer's race and ethnicity is \"Black Muslim\".\n"
     ]
    }
   ],
   "source": [
    "n_errors = 0 # \"Therefore, the answer is <ANSWER>\" not found\n",
    "error_responses = []\n",
    "for response in cot_responses_txt:\n",
    "    if re.search(r\"Therefore\\, the answer is .+$\", response) is None:\n",
    "        n_errors += 1\n",
    "        error_responses.append(response)\n",
    "print(f\"{n_errors} responses does not have 'Therefore, the answer is ...' at the end\")\n",
    "print(f\"Erroneous responses =>\")\n",
    "for i, response in enumerate(error_responses):\n",
    "    print(f\"\\t{i + 1:2d}. {response}\")"
   ]
  },
  {
   "attachments": {},
   "cell_type": "markdown",
   "metadata": {},
   "source": [
    "Separate cot responses into explanations and answers"
   ]
  },
  {
   "cell_type": "code",
   "execution_count": 19,
   "metadata": {},
   "outputs": [
    {
     "name": "stdout",
     "output_type": "stream",
     "text": [
      "3 responses does not match the regex\n",
      " 1. Henry looks defeated when he steps out of the elevator. This suggests that he is feeling down and discouraged. Therefore, his demeanor is \"Defeated, discouraged\".\n",
      " 2. Melvin's eyes are described as \"wild with fatigue and paranoia.\" Therefore, the answer is \"Wild with fatigue and paranoia\".\n",
      " 3. The passage states that all five men are black and Muslim. Therefore, Thomas Hayer's race and ethnicity is \"Black Muslim\".\n"
     ]
    }
   ],
   "source": [
    "n_errors = 0 # response is erroneous if it does not match the regex\n",
    "error_responses = []\n",
    "cot_explanations, cot_answers = [], []\n",
    "for attr, response in zip(df[\"attr\"], cot_responses_txt):\n",
    "    match = re.match(f\"(.+\\.) Therefore\\, the answer is \\\"?(.+)\\\"?\\.?$\", response)\n",
    "    only_cannot_answer = re.match(r\"CANNOT ANSWER\\.?$\", response)\n",
    "    if match is not None:\n",
    "        explanation, answer = match.group(1), match.group(2)\n",
    "    elif only_cannot_answer is not None:\n",
    "        explanation, answer = \"\", \"CANNOT ANSWER\"\n",
    "    else:\n",
    "        n_errors += 1\n",
    "        error_responses.append(response)\n",
    "        explanation, answer = \"ERROR\", \"ERROR\"\n",
    "    cot_explanations.append(explanation.strip())\n",
    "    cot_answers.append(answer.strip().strip(\"\\\"\\.\"))\n",
    "print(f\"{n_errors} responses does not match the regex\")\n",
    "for i, response in enumerate(error_responses):\n",
    "    print(f\"{i + 1:2d}. {response}\")\n",
    "cot_explanations_file = os.path.join(data_dir, \"attr_annot/cot_explanations.txt\")\n",
    "cot_answers_file = os.path.join(data_dir, \"attr_annot/cot_answers.txt\")\n",
    "with open(cot_explanations_file, \"w\") as fw1, open(cot_answers_file, \"w\") as fw2:\n",
    "    fw1.write(\"\\n\".join(cot_explanations))\n",
    "    fw2.write(\"\\n\".join(cot_answers))"
   ]
  },
  {
   "attachments": {},
   "cell_type": "markdown",
   "metadata": {},
   "source": [
    "## Manually edit the cot explanations and cot answers file for the errorneous responses"
   ]
  },
  {
   "attachments": {},
   "cell_type": "markdown",
   "metadata": {},
   "source": [
    "Compare zero, few, and cot answers"
   ]
  },
  {
   "cell_type": "code",
   "execution_count": 21,
   "metadata": {},
   "outputs": [
    {
     "name": "stdout",
     "output_type": "stream",
     "text": [
      "3159 zero-shot, 3159 few-shot, and 3159 cot answers\n"
     ]
    }
   ],
   "source": [
    "zero_answers = [response.strip(\"\\.\") for response in zero_responses_txt]\n",
    "few_answers = [response.strip(\"\\.\") for response in few_responses_txt]\n",
    "cot_explanations_file = os.path.join(data_dir, \"attr_annot/cot_explanations.txt\")\n",
    "cot_answers_file = os.path.join(data_dir, \"attr_annot/cot_answers.txt\")\n",
    "with open(cot_answers_file) as fr:\n",
    "    cot_answers = fr.read().strip().split(\"\\n\")\n",
    "cot_answers = [response.strip(\"\\.\") for response in cot_answers]\n",
    "print(f\"{len(zero_answers)} zero-shot, {len(few_answers)} few-shot, and {len(cot_answers)} cot answers\")\n",
    "answers_list = [zero_answers, few_answers, cot_answers]\n",
    "prompt_strategy = [\"zero-shot\", \"few-shot\", \"chain-of-thought\"]"
   ]
  },
  {
   "cell_type": "code",
   "execution_count": 23,
   "metadata": {},
   "outputs": [
    {
     "data": {
      "text/html": [
       "<div>\n",
       "<style scoped>\n",
       "    .dataframe tbody tr th:only-of-type {\n",
       "        vertical-align: middle;\n",
       "    }\n",
       "\n",
       "    .dataframe tbody tr th {\n",
       "        vertical-align: top;\n",
       "    }\n",
       "\n",
       "    .dataframe thead th {\n",
       "        text-align: right;\n",
       "    }\n",
       "</style>\n",
       "<table border=\"1\" class=\"dataframe\">\n",
       "  <thead>\n",
       "    <tr style=\"text-align: right;\">\n",
       "      <th></th>\n",
       "      <th>few-shot = cannot answer</th>\n",
       "      <th>few-shot != cannot answer</th>\n",
       "    </tr>\n",
       "  </thead>\n",
       "  <tbody>\n",
       "    <tr>\n",
       "      <th>zero-shot = cannot answer</th>\n",
       "      <td>602</td>\n",
       "      <td>440</td>\n",
       "    </tr>\n",
       "    <tr>\n",
       "      <th>zero-shot != cannot answer</th>\n",
       "      <td>158</td>\n",
       "      <td>1959</td>\n",
       "    </tr>\n",
       "  </tbody>\n",
       "</table>\n",
       "</div>"
      ],
      "text/plain": [
       "                            few-shot = cannot answer  \\\n",
       "zero-shot = cannot answer                        602   \n",
       "zero-shot != cannot answer                       158   \n",
       "\n",
       "                            few-shot != cannot answer  \n",
       "zero-shot = cannot answer                         440  \n",
       "zero-shot != cannot answer                       1959  "
      ]
     },
     "metadata": {},
     "output_type": "display_data"
    },
    {
     "name": "stdout",
     "output_type": "stream",
     "text": [
      "688/1959 match exactly when zero-shot and few-shot != cannot answer\n",
      "\n"
     ]
    },
    {
     "data": {
      "text/html": [
       "<div>\n",
       "<style scoped>\n",
       "    .dataframe tbody tr th:only-of-type {\n",
       "        vertical-align: middle;\n",
       "    }\n",
       "\n",
       "    .dataframe tbody tr th {\n",
       "        vertical-align: top;\n",
       "    }\n",
       "\n",
       "    .dataframe thead th {\n",
       "        text-align: right;\n",
       "    }\n",
       "</style>\n",
       "<table border=\"1\" class=\"dataframe\">\n",
       "  <thead>\n",
       "    <tr style=\"text-align: right;\">\n",
       "      <th></th>\n",
       "      <th>chain-of-thought = cannot answer</th>\n",
       "      <th>chain-of-thought != cannot answer</th>\n",
       "    </tr>\n",
       "  </thead>\n",
       "  <tbody>\n",
       "    <tr>\n",
       "      <th>zero-shot = cannot answer</th>\n",
       "      <td>745</td>\n",
       "      <td>297</td>\n",
       "    </tr>\n",
       "    <tr>\n",
       "      <th>zero-shot != cannot answer</th>\n",
       "      <td>342</td>\n",
       "      <td>1775</td>\n",
       "    </tr>\n",
       "  </tbody>\n",
       "</table>\n",
       "</div>"
      ],
      "text/plain": [
       "                            chain-of-thought = cannot answer  \\\n",
       "zero-shot = cannot answer                                745   \n",
       "zero-shot != cannot answer                               342   \n",
       "\n",
       "                            chain-of-thought != cannot answer  \n",
       "zero-shot = cannot answer                                 297  \n",
       "zero-shot != cannot answer                               1775  "
      ]
     },
     "metadata": {},
     "output_type": "display_data"
    },
    {
     "name": "stdout",
     "output_type": "stream",
     "text": [
      "387/1775 match exactly when zero-shot and chain-of-thought != cannot answer\n",
      "\n"
     ]
    },
    {
     "data": {
      "text/html": [
       "<div>\n",
       "<style scoped>\n",
       "    .dataframe tbody tr th:only-of-type {\n",
       "        vertical-align: middle;\n",
       "    }\n",
       "\n",
       "    .dataframe tbody tr th {\n",
       "        vertical-align: top;\n",
       "    }\n",
       "\n",
       "    .dataframe thead th {\n",
       "        text-align: right;\n",
       "    }\n",
       "</style>\n",
       "<table border=\"1\" class=\"dataframe\">\n",
       "  <thead>\n",
       "    <tr style=\"text-align: right;\">\n",
       "      <th></th>\n",
       "      <th>chain-of-thought = cannot answer</th>\n",
       "      <th>chain-of-thought != cannot answer</th>\n",
       "    </tr>\n",
       "  </thead>\n",
       "  <tbody>\n",
       "    <tr>\n",
       "      <th>few-shot = cannot answer</th>\n",
       "      <td>668</td>\n",
       "      <td>92</td>\n",
       "    </tr>\n",
       "    <tr>\n",
       "      <th>few-shot != cannot answer</th>\n",
       "      <td>419</td>\n",
       "      <td>1980</td>\n",
       "    </tr>\n",
       "  </tbody>\n",
       "</table>\n",
       "</div>"
      ],
      "text/plain": [
       "                           chain-of-thought = cannot answer  \\\n",
       "few-shot = cannot answer                                668   \n",
       "few-shot != cannot answer                               419   \n",
       "\n",
       "                           chain-of-thought != cannot answer  \n",
       "few-shot = cannot answer                                  92  \n",
       "few-shot != cannot answer                               1980  "
      ]
     },
     "metadata": {},
     "output_type": "display_data"
    },
    {
     "name": "stdout",
     "output_type": "stream",
     "text": [
      "665/1980 match exactly when few-shot and chain-of-thought != cannot answer\n",
      "\n"
     ]
    }
   ],
   "source": [
    "# exact match\n",
    "for i in range(3):\n",
    "    for j in range(i + 1, 3):\n",
    "        answers_x, answers_y = answers_list[i], answers_list[j]\n",
    "        strat_x, strat_y = prompt_strategy[i], prompt_strategy[j]\n",
    "        compare_xy = np.zeros((2, 2), dtype=int)\n",
    "        exact = 0\n",
    "        for ans_x, ans_y in zip(answers_x, answers_y):\n",
    "            ans_x_is_cannotanswer = ans_x.lower() == \"cannot answer\"\n",
    "            ans_y_is_cannotanswer = ans_y.lower() == \"cannot answer\"\n",
    "            is_exact = ans_x.lower() == ans_y.lower()\n",
    "            if ans_x_is_cannotanswer and ans_y_is_cannotanswer:\n",
    "                compare_xy[0, 0] += 1\n",
    "            elif ans_x_is_cannotanswer:\n",
    "                compare_xy[0, 1] += 1\n",
    "            elif ans_y_is_cannotanswer:\n",
    "                compare_xy[1, 0] += 1\n",
    "            else:\n",
    "                compare_xy[1, 1] += 1\n",
    "                exact += is_exact\n",
    "        index = [f\"{strat_x} = cannot answer\", f\"{strat_x} != cannot answer\"]\n",
    "        columns = [f\"{strat_y} = cannot answer\", f\"{strat_y} != cannot answer\"]\n",
    "        compare_xy_df = pd.DataFrame(compare_xy, index=index, columns=columns)\n",
    "        display(compare_xy_df)\n",
    "        print(f\"{exact}/{compare_xy[1, 1]} match exactly when {strat_x} and {strat_y} != cannot answer\")\n",
    "        print()"
   ]
  },
  {
   "cell_type": "code",
   "execution_count": null,
   "metadata": {},
   "outputs": [],
   "source": []
  }
 ],
 "metadata": {
  "kernelspec": {
   "display_name": "story",
   "language": "python",
   "name": "python3"
  },
  "language_info": {
   "codemirror_mode": {
    "name": "ipython",
    "version": 3
   },
   "file_extension": ".py",
   "mimetype": "text/x-python",
   "name": "python",
   "nbconvert_exporter": "python",
   "pygments_lexer": "ipython3",
   "version": "3.10.9"
  },
  "orig_nbformat": 4
 },
 "nbformat": 4,
 "nbformat_minor": 2
}
